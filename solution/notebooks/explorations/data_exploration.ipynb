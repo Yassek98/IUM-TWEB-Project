{
 "cells": [
  {
   "cell_type": "markdown",
   "id": "795bbbd7b67e1204",
   "metadata": {},
   "source": [
    "# Data Exploration"
   ]
  },
  {
   "cell_type": "code",
   "id": "import-libraries",
   "metadata": {
    "is_executing": true,
    "ExecuteTime": {
     "end_time": "2025-01-23T13:11:54.553415Z",
     "start_time": "2025-01-23T13:11:54.548839Z"
    }
   },
   "source": [
    "import pandas as pd\n",
    "import numpy as np\n",
    "import re\n",
    "import clean"
   ],
   "outputs": [],
   "execution_count": 59
  },
  {
   "cell_type": "markdown",
   "id": "load-movies",
   "metadata": {},
   "source": [
    "## Movies Dataframe\n",
    "The Movies dataframe contains detailed information about over 940,000 films, including their unique IDs, titles, release dates, poster taglines, short descriptions, durations in minutes, and their ratings."
   ]
  },
  {
   "cell_type": "code",
   "id": "load-movies-code",
   "metadata": {
    "is_executing": true,
    "ExecuteTime": {
     "end_time": "2025-01-23T13:11:58.802627Z",
     "start_time": "2025-01-23T13:11:54.562338Z"
    }
   },
   "source": [
    "movies_df = pd.read_csv('../csv/movies.csv')"
   ],
   "outputs": [],
   "execution_count": 60
  },
  {
   "cell_type": "code",
   "id": "b78e46d2126c3a33",
   "metadata": {
    "is_executing": true,
    "ExecuteTime": {
     "end_time": "2025-01-23T13:11:58.830459Z",
     "start_time": "2025-01-23T13:11:58.823969Z"
    }
   },
   "source": [
    "movies_df.shape"
   ],
   "outputs": [
    {
     "data": {
      "text/plain": [
       "(941597, 7)"
      ]
     },
     "execution_count": 61,
     "metadata": {},
     "output_type": "execute_result"
    }
   ],
   "execution_count": 61
  },
  {
   "cell_type": "markdown",
   "id": "ea30b43ec434471e",
   "metadata": {},
   "source": [
    "This dataset consists of 941,597 rows and 7 columns, providing comprehensive details about a vast collection of films."
   ]
  },
  {
   "metadata": {
    "is_executing": true,
    "ExecuteTime": {
     "end_time": "2025-01-23T13:11:58.910799Z",
     "start_time": "2025-01-23T13:11:58.900086Z"
    }
   },
   "cell_type": "code",
   "source": [
    "movies_df.head()"
   ],
   "id": "50f8631c1ee9daaa",
   "outputs": [
    {
     "data": {
      "text/plain": [
       "        id                               name    date  \\\n",
       "0  1000001                             Barbie  2023.0   \n",
       "1  1000002                           Parasite  2019.0   \n",
       "2  1000003  Everything Everywhere All at Once  2022.0   \n",
       "3  1000004                         Fight Club  1999.0   \n",
       "4  1000005                         La La Land  2016.0   \n",
       "\n",
       "                                            tagline  \\\n",
       "0                  She's everything. He's just Ken.   \n",
       "1                       Act like you own the place.   \n",
       "2  The universe is so much bigger than you realize.   \n",
       "3                           Mischief. Mayhem. Soap.   \n",
       "4                    Here's to the fools who dream.   \n",
       "\n",
       "                                         description  minute  rating  \n",
       "0  Barbie and Ken are having the time of their li...   114.0    3.86  \n",
       "1  All unemployed, Ki-taek's family takes peculia...   133.0    4.56  \n",
       "2  An aging Chinese immigrant is swept up in an i...   140.0    4.30  \n",
       "3  A ticking-time-bomb insomniac and a slippery s...   139.0    4.27  \n",
       "4  Mia, an aspiring actress, serves lattes to mov...   129.0    4.09  "
      ],
      "text/html": [
       "<div>\n",
       "<style scoped>\n",
       "    .dataframe tbody tr th:only-of-type {\n",
       "        vertical-align: middle;\n",
       "    }\n",
       "\n",
       "    .dataframe tbody tr th {\n",
       "        vertical-align: top;\n",
       "    }\n",
       "\n",
       "    .dataframe thead th {\n",
       "        text-align: right;\n",
       "    }\n",
       "</style>\n",
       "<table border=\"1\" class=\"dataframe\">\n",
       "  <thead>\n",
       "    <tr style=\"text-align: right;\">\n",
       "      <th></th>\n",
       "      <th>id</th>\n",
       "      <th>name</th>\n",
       "      <th>date</th>\n",
       "      <th>tagline</th>\n",
       "      <th>description</th>\n",
       "      <th>minute</th>\n",
       "      <th>rating</th>\n",
       "    </tr>\n",
       "  </thead>\n",
       "  <tbody>\n",
       "    <tr>\n",
       "      <th>0</th>\n",
       "      <td>1000001</td>\n",
       "      <td>Barbie</td>\n",
       "      <td>2023.0</td>\n",
       "      <td>She's everything. He's just Ken.</td>\n",
       "      <td>Barbie and Ken are having the time of their li...</td>\n",
       "      <td>114.0</td>\n",
       "      <td>3.86</td>\n",
       "    </tr>\n",
       "    <tr>\n",
       "      <th>1</th>\n",
       "      <td>1000002</td>\n",
       "      <td>Parasite</td>\n",
       "      <td>2019.0</td>\n",
       "      <td>Act like you own the place.</td>\n",
       "      <td>All unemployed, Ki-taek's family takes peculia...</td>\n",
       "      <td>133.0</td>\n",
       "      <td>4.56</td>\n",
       "    </tr>\n",
       "    <tr>\n",
       "      <th>2</th>\n",
       "      <td>1000003</td>\n",
       "      <td>Everything Everywhere All at Once</td>\n",
       "      <td>2022.0</td>\n",
       "      <td>The universe is so much bigger than you realize.</td>\n",
       "      <td>An aging Chinese immigrant is swept up in an i...</td>\n",
       "      <td>140.0</td>\n",
       "      <td>4.30</td>\n",
       "    </tr>\n",
       "    <tr>\n",
       "      <th>3</th>\n",
       "      <td>1000004</td>\n",
       "      <td>Fight Club</td>\n",
       "      <td>1999.0</td>\n",
       "      <td>Mischief. Mayhem. Soap.</td>\n",
       "      <td>A ticking-time-bomb insomniac and a slippery s...</td>\n",
       "      <td>139.0</td>\n",
       "      <td>4.27</td>\n",
       "    </tr>\n",
       "    <tr>\n",
       "      <th>4</th>\n",
       "      <td>1000005</td>\n",
       "      <td>La La Land</td>\n",
       "      <td>2016.0</td>\n",
       "      <td>Here's to the fools who dream.</td>\n",
       "      <td>Mia, an aspiring actress, serves lattes to mov...</td>\n",
       "      <td>129.0</td>\n",
       "      <td>4.09</td>\n",
       "    </tr>\n",
       "  </tbody>\n",
       "</table>\n",
       "</div>"
      ]
     },
     "execution_count": 62,
     "metadata": {},
     "output_type": "execute_result"
    }
   ],
   "execution_count": 62
  },
  {
   "metadata": {},
   "cell_type": "markdown",
   "source": [],
   "id": "2ee01cccbd746706"
  },
  {
   "cell_type": "code",
   "id": "2dc7a0be714b0b32",
   "metadata": {
    "is_executing": true,
    "ExecuteTime": {
     "end_time": "2025-01-23T13:11:58.984109Z",
     "start_time": "2025-01-23T13:11:58.975453Z"
    }
   },
   "source": [
    "movies_df.dtypes"
   ],
   "outputs": [
    {
     "data": {
      "text/plain": [
       "id               int64\n",
       "name            object\n",
       "date           float64\n",
       "tagline         object\n",
       "description     object\n",
       "minute         float64\n",
       "rating         float64\n",
       "dtype: object"
      ]
     },
     "execution_count": 63,
     "metadata": {},
     "output_type": "execute_result"
    }
   ],
   "execution_count": 63
  },
  {
   "cell_type": "code",
   "id": "fe7c0d5bae8270e5",
   "metadata": {
    "is_executing": true,
    "ExecuteTime": {
     "end_time": "2025-01-23T13:11:59.131666Z",
     "start_time": "2025-01-23T13:11:59.090977Z"
    }
   },
   "source": [
    "movies_df['date'] = pd.to_datetime(movies_df['date'], format='%Y', errors='coerce')"
   ],
   "outputs": [],
   "execution_count": 64
  },
  {
   "metadata": {},
   "cell_type": "markdown",
   "source": [
    "The <code>date</code> column is currently stored as a <code>float</code>, which is not suitable for representing release dates; we will convert it to a proper date format for accurate analysis."
   ],
   "id": "71a8af807eb59c36"
  },
  {
   "cell_type": "code",
   "id": "24fa9fca",
   "metadata": {
    "is_executing": true,
    "ExecuteTime": {
     "end_time": "2025-01-23T13:11:59.597149Z",
     "start_time": "2025-01-23T13:11:59.225267Z"
    }
   },
   "source": [
    "movies_df['name'] = movies_df['name'].astype('string')\n",
    "movies_df['tagline'] = movies_df['tagline'].astype('string')\n",
    "movies_df['description'] = movies_df['description'].astype('string')"
   ],
   "outputs": [],
   "execution_count": 65
  },
  {
   "metadata": {},
   "cell_type": "markdown",
   "source": [
    "Converting <code>object</code> types to <code>string</code>."
   ],
   "id": "aabe37d2be7b649f"
  },
  {
   "cell_type": "code",
   "id": "207358a083b60ffd",
   "metadata": {
    "is_executing": true,
    "ExecuteTime": {
     "end_time": "2025-01-23T13:11:59.645357Z",
     "start_time": "2025-01-23T13:11:59.637772Z"
    }
   },
   "source": [
    "movies_df.dtypes"
   ],
   "outputs": [
    {
     "data": {
      "text/plain": [
       "id                      int64\n",
       "name           string[python]\n",
       "date           datetime64[ns]\n",
       "tagline        string[python]\n",
       "description    string[python]\n",
       "minute                float64\n",
       "rating                float64\n",
       "dtype: object"
      ]
     },
     "execution_count": 66,
     "metadata": {},
     "output_type": "execute_result"
    }
   ],
   "execution_count": 66
  },
  {
   "metadata": {},
   "cell_type": "markdown",
   "source": [
    "Result of the conversions."
   ],
   "id": "c175b1f300934300"
  },
  {
   "metadata": {},
   "cell_type": "markdown",
   "source": [
    "### Cleaning text columns"
   ],
   "id": "83edd29b0ce9342"
  },
  {
   "metadata": {
    "is_executing": true,
    "ExecuteTime": {
     "end_time": "2025-01-23T13:12:01.857033Z",
     "start_time": "2025-01-23T13:11:59.706830Z"
    }
   },
   "cell_type": "code",
   "source": [
    "# Rimuove spazi vuoti e converte in minuscolo per le colonne 'name', 'tagline' e 'description'\n",
    "movies_df['name'] = movies_df['name'].str.strip().str.lower()\n",
    "movies_df['tagline'] = movies_df['tagline'].str.strip().str.lower()\n",
    "movies_df['description'] = movies_df['description'].str.strip().str.lower()"
   ],
   "id": "63623df964a3d926",
   "outputs": [],
   "execution_count": 67
  },
  {
   "metadata": {
    "is_executing": true,
    "ExecuteTime": {
     "end_time": "2025-01-23T13:12:27.951114Z",
     "start_time": "2025-01-23T13:12:01.864638Z"
    }
   },
   "cell_type": "code",
   "source": [
    "columns_to_clean = ['description', 'name', 'tagline']\n",
    "characters_to_replace = ['.', '-', ',', '#']\n",
    "patterns_to_replace = [ r'^-+$',          # Una o più linee di trattini\n",
    "                        r'^-placeholder-$', # La parola \"placeholder\" esatta\n",
    "                        r'^-Placeholder-$', # La parola \"Placeholder\" con iniziale maiuscola\n",
    "]\n",
    "\n",
    "movies_df = clean.clean_data(movies_df, columns_to_clean, characters_to_replace, patterns_to_replace)"
   ],
   "id": "81837d67cceab5c4",
   "outputs": [],
   "execution_count": 68
  },
  {
   "metadata": {},
   "cell_type": "markdown",
   "source": [
    "Clean the <code>movies_df</code> data in the <code>name</code>, <code>tagline</code>, and <code>description</code> columns, removing unnecessary spaces and flattening the format to lowercase. Next, unwanted information, such as specific characters and placeholder words, is removed and replaced with missing values <code>(NaN)</code>."
   ],
   "id": "99e0a8ae988c3fa2"
  },
  {
   "metadata": {},
   "cell_type": "markdown",
   "source": [
    "### Check for <i>null</i> values"
   ],
   "id": "5a20c051f55890f1"
  },
  {
   "metadata": {
    "is_executing": true,
    "ExecuteTime": {
     "end_time": "2025-01-23T13:12:28.232215Z",
     "start_time": "2025-01-23T13:12:28.055943Z"
    }
   },
   "cell_type": "code",
   "source": [
    "movies_df.isna().sum()"
   ],
   "id": "7a25318bb928a4d",
   "outputs": [
    {
     "data": {
      "text/plain": [
       "id                  0\n",
       "name               49\n",
       "date            91913\n",
       "tagline        802220\n",
       "description    160852\n",
       "minute         181570\n",
       "rating         850598\n",
       "dtype: int64"
      ]
     },
     "execution_count": 69,
     "metadata": {},
     "output_type": "execute_result"
    }
   ],
   "execution_count": 69
  },
  {
   "metadata": {
    "is_executing": true,
    "ExecuteTime": {
     "end_time": "2025-01-23T13:12:28.328185Z",
     "start_time": "2025-01-23T13:12:28.271241Z"
    }
   },
   "cell_type": "code",
   "source": [
    "movies_df[movies_df['name'].isna()]"
   ],
   "id": "ab35ab33e81d7a8a",
   "outputs": [
    {
     "data": {
      "text/plain": [
       "             id  name       date                                 tagline  \\\n",
       "287514  1287515  <NA> 2015-01-01                                    <NA>   \n",
       "307905  1307906  <NA> 2018-01-01          they're all gonna laugh at you   \n",
       "320567  1320568  <NA>        NaT                                    <NA>   \n",
       "323158  1323159  <NA>        NaT                                    <NA>   \n",
       "330334  1330335  <NA>        NaT                                    <NA>   \n",
       "336644  1336645  <NA> 2020-01-01                                    <NA>   \n",
       "417362  1417363   NaN 2020-01-01                                    <NA>   \n",
       "424121  1424122   NaN 2011-01-01                                    <NA>   \n",
       "457879  1457880   NaN 2022-01-01             what is youth but vastness?   \n",
       "490622  1490623  <NA> 2000-01-01                                    <NA>   \n",
       "523080  1523081  <NA> 2012-01-01                                    <NA>   \n",
       "574690  1574691  <NA> 2024-01-01                           100% accurate   \n",
       "583273  1583274  <NA> 2018-01-01                                    <NA>   \n",
       "602779  1602780  <NA> 2022-01-01                                    <NA>   \n",
       "617642  1617643  <NA>        NaT                                    <NA>   \n",
       "642251  1642252  <NA> 2017-01-01                                    <NA>   \n",
       "646520  1646521  <NA> 2008-01-01                                    <NA>   \n",
       "648185  1648186  <NA>        NaT                                    <NA>   \n",
       "666817  1666818  <NA>        NaT                                    <NA>   \n",
       "680689  1680690  <NA> 2019-01-01                                    <NA>   \n",
       "720294  1720295  <NA>        NaT                                    <NA>   \n",
       "724910  1724911  <NA>        NaT                                    <NA>   \n",
       "725369  1725370  <NA>        NaT                                    <NA>   \n",
       "741481  1741482  <NA>        NaT                                    <NA>   \n",
       "759524  1759525  <NA> 2023-01-01                                    <NA>   \n",
       "764179  1764180  <NA>        NaT                                    <NA>   \n",
       "783695  1783696  <NA>        NaT                                    <NA>   \n",
       "787774  1787775  <NA> 2012-01-01                                    <NA>   \n",
       "803487  1803488   NaN        NaT                                    <NA>   \n",
       "826558  1826559  <NA> 2023-01-01                                    <NA>   \n",
       "840337  1840338  <NA>        NaT                                    <NA>   \n",
       "859402  1859403   NaN 2024-01-01                         i ran from iran   \n",
       "859598  1859599  <NA> 2023-01-01                                  leeds!   \n",
       "865294  1865295  <NA>        NaT                                    <NA>   \n",
       "865295  1865296  <NA>        NaT                                    <NA>   \n",
       "873710  1873711  <NA> 2023-01-01                                    <NA>   \n",
       "881201  1881202  <NA>        NaT                                    <NA>   \n",
       "883228  1883229  <NA>        NaT                                    <NA>   \n",
       "885230  1885231  <NA> 2023-01-01                                    <NA>   \n",
       "892725  1892726  <NA>        NaT  time-travel, bloodline and time-travel   \n",
       "892726  1892727  <NA>        NaT                                    <NA>   \n",
       "894771  1894772  <NA>        NaT                                    <NA>   \n",
       "898056  1898057  <NA>        NaT                                    <NA>   \n",
       "898057  1898058  <NA>        NaT                                    <NA>   \n",
       "898058  1898059  <NA>        NaT                                    <NA>   \n",
       "898059  1898060  <NA>        NaT                                    <NA>   \n",
       "904117  1904118  <NA>        NaT                                    <NA>   \n",
       "904118  1904119  <NA>        NaT                                    <NA>   \n",
       "904119  1904120  <NA>        NaT                                    <NA>   \n",
       "\n",
       "                                              description  minute  rating  \n",
       "287514  none is a short film that explores the balance...     4.0     NaN  \n",
       "307905  a surreal visual film about the inner feelings...     9.0     NaN  \n",
       "320567                             directed by lutfi akad     NaN     NaN  \n",
       "323158                                               <NA>     NaN     NaN  \n",
       "330334                                               <NA>     NaN     NaN  \n",
       "336644                   infodemic, pandemic, pandemonium     4.0     NaN  \n",
       "417362  andrew ohanesian’s conceptual works (primarily...     2.0     NaN  \n",
       "424121  the film raises some of the problems experienc...     NaN     NaN  \n",
       "457879   a young soul wanders through their own daydreams     3.0     NaN  \n",
       "490622  eleven is a fourteen-minute long vignette, vir...    15.0     NaN  \n",
       "523080                                               <NA>     NaN     NaN  \n",
       "574690                                               <NA>     NaN     NaN  \n",
       "583273                short film by ignazio fabio mazzola     1.0     NaN  \n",
       "602779  3 day of the big \"permission to dance\" tour in...   125.0     NaN  \n",
       "617642                                               <NA>     NaN     NaN  \n",
       "642251                                               <NA>     NaN     NaN  \n",
       "646520                                               <NA>     NaN     NaN  \n",
       "648185                                               <NA>     NaN     NaN  \n",
       "666817                                               <NA>     NaN     NaN  \n",
       "680689                                               <NA>     3.0     NaN  \n",
       "720294  in this directorial debut of eden ewardson, he...     8.0     NaN  \n",
       "724910                                               <NA>     NaN     NaN  \n",
       "725369                                               <NA>     NaN     NaN  \n",
       "741481                                               <NA>    90.0     NaN  \n",
       "759524                                               <NA>     2.0     NaN  \n",
       "764179                                               <NA>     NaN     NaN  \n",
       "783695                                               <NA>     NaN     NaN  \n",
       "787774                                               <NA>     NaN     NaN  \n",
       "803487                                               <NA>     4.0     NaN  \n",
       "826558                                               <NA>     NaN     NaN  \n",
       "840337                                               <NA>     NaN     NaN  \n",
       "859402                                                NaN     5.0     NaN  \n",
       "859598                                               <NA>     NaN     NaN  \n",
       "865294                                               <NA>     NaN     NaN  \n",
       "865295                                               <NA>     NaN     NaN  \n",
       "873710                                               <NA>     NaN     NaN  \n",
       "881201                                               <NA>     NaN     NaN  \n",
       "883228                                               <NA>     NaN     NaN  \n",
       "885230                                               <NA>     NaN     NaN  \n",
       "892725                                               <NA>     NaN     NaN  \n",
       "892726                                               <NA>     NaN     NaN  \n",
       "894771                                               <NA>     NaN     NaN  \n",
       "898056                                               <NA>     NaN     NaN  \n",
       "898057                                               <NA>     NaN     NaN  \n",
       "898058                                               <NA>     NaN     NaN  \n",
       "898059                                               <NA>     NaN     NaN  \n",
       "904117                                               <NA>     NaN     NaN  \n",
       "904118                  bordeless – aぇ! group documentary     NaN     NaN  \n",
       "904119                                               <NA>     NaN     NaN  "
      ],
      "text/html": [
       "<div>\n",
       "<style scoped>\n",
       "    .dataframe tbody tr th:only-of-type {\n",
       "        vertical-align: middle;\n",
       "    }\n",
       "\n",
       "    .dataframe tbody tr th {\n",
       "        vertical-align: top;\n",
       "    }\n",
       "\n",
       "    .dataframe thead th {\n",
       "        text-align: right;\n",
       "    }\n",
       "</style>\n",
       "<table border=\"1\" class=\"dataframe\">\n",
       "  <thead>\n",
       "    <tr style=\"text-align: right;\">\n",
       "      <th></th>\n",
       "      <th>id</th>\n",
       "      <th>name</th>\n",
       "      <th>date</th>\n",
       "      <th>tagline</th>\n",
       "      <th>description</th>\n",
       "      <th>minute</th>\n",
       "      <th>rating</th>\n",
       "    </tr>\n",
       "  </thead>\n",
       "  <tbody>\n",
       "    <tr>\n",
       "      <th>287514</th>\n",
       "      <td>1287515</td>\n",
       "      <td>&lt;NA&gt;</td>\n",
       "      <td>2015-01-01</td>\n",
       "      <td>&lt;NA&gt;</td>\n",
       "      <td>none is a short film that explores the balance...</td>\n",
       "      <td>4.0</td>\n",
       "      <td>NaN</td>\n",
       "    </tr>\n",
       "    <tr>\n",
       "      <th>307905</th>\n",
       "      <td>1307906</td>\n",
       "      <td>&lt;NA&gt;</td>\n",
       "      <td>2018-01-01</td>\n",
       "      <td>they're all gonna laugh at you</td>\n",
       "      <td>a surreal visual film about the inner feelings...</td>\n",
       "      <td>9.0</td>\n",
       "      <td>NaN</td>\n",
       "    </tr>\n",
       "    <tr>\n",
       "      <th>320567</th>\n",
       "      <td>1320568</td>\n",
       "      <td>&lt;NA&gt;</td>\n",
       "      <td>NaT</td>\n",
       "      <td>&lt;NA&gt;</td>\n",
       "      <td>directed by lutfi akad</td>\n",
       "      <td>NaN</td>\n",
       "      <td>NaN</td>\n",
       "    </tr>\n",
       "    <tr>\n",
       "      <th>323158</th>\n",
       "      <td>1323159</td>\n",
       "      <td>&lt;NA&gt;</td>\n",
       "      <td>NaT</td>\n",
       "      <td>&lt;NA&gt;</td>\n",
       "      <td>&lt;NA&gt;</td>\n",
       "      <td>NaN</td>\n",
       "      <td>NaN</td>\n",
       "    </tr>\n",
       "    <tr>\n",
       "      <th>330334</th>\n",
       "      <td>1330335</td>\n",
       "      <td>&lt;NA&gt;</td>\n",
       "      <td>NaT</td>\n",
       "      <td>&lt;NA&gt;</td>\n",
       "      <td>&lt;NA&gt;</td>\n",
       "      <td>NaN</td>\n",
       "      <td>NaN</td>\n",
       "    </tr>\n",
       "    <tr>\n",
       "      <th>336644</th>\n",
       "      <td>1336645</td>\n",
       "      <td>&lt;NA&gt;</td>\n",
       "      <td>2020-01-01</td>\n",
       "      <td>&lt;NA&gt;</td>\n",
       "      <td>infodemic, pandemic, pandemonium</td>\n",
       "      <td>4.0</td>\n",
       "      <td>NaN</td>\n",
       "    </tr>\n",
       "    <tr>\n",
       "      <th>417362</th>\n",
       "      <td>1417363</td>\n",
       "      <td>NaN</td>\n",
       "      <td>2020-01-01</td>\n",
       "      <td>&lt;NA&gt;</td>\n",
       "      <td>andrew ohanesian’s conceptual works (primarily...</td>\n",
       "      <td>2.0</td>\n",
       "      <td>NaN</td>\n",
       "    </tr>\n",
       "    <tr>\n",
       "      <th>424121</th>\n",
       "      <td>1424122</td>\n",
       "      <td>NaN</td>\n",
       "      <td>2011-01-01</td>\n",
       "      <td>&lt;NA&gt;</td>\n",
       "      <td>the film raises some of the problems experienc...</td>\n",
       "      <td>NaN</td>\n",
       "      <td>NaN</td>\n",
       "    </tr>\n",
       "    <tr>\n",
       "      <th>457879</th>\n",
       "      <td>1457880</td>\n",
       "      <td>NaN</td>\n",
       "      <td>2022-01-01</td>\n",
       "      <td>what is youth but vastness?</td>\n",
       "      <td>a young soul wanders through their own daydreams</td>\n",
       "      <td>3.0</td>\n",
       "      <td>NaN</td>\n",
       "    </tr>\n",
       "    <tr>\n",
       "      <th>490622</th>\n",
       "      <td>1490623</td>\n",
       "      <td>&lt;NA&gt;</td>\n",
       "      <td>2000-01-01</td>\n",
       "      <td>&lt;NA&gt;</td>\n",
       "      <td>eleven is a fourteen-minute long vignette, vir...</td>\n",
       "      <td>15.0</td>\n",
       "      <td>NaN</td>\n",
       "    </tr>\n",
       "    <tr>\n",
       "      <th>523080</th>\n",
       "      <td>1523081</td>\n",
       "      <td>&lt;NA&gt;</td>\n",
       "      <td>2012-01-01</td>\n",
       "      <td>&lt;NA&gt;</td>\n",
       "      <td>&lt;NA&gt;</td>\n",
       "      <td>NaN</td>\n",
       "      <td>NaN</td>\n",
       "    </tr>\n",
       "    <tr>\n",
       "      <th>574690</th>\n",
       "      <td>1574691</td>\n",
       "      <td>&lt;NA&gt;</td>\n",
       "      <td>2024-01-01</td>\n",
       "      <td>100% accurate</td>\n",
       "      <td>&lt;NA&gt;</td>\n",
       "      <td>NaN</td>\n",
       "      <td>NaN</td>\n",
       "    </tr>\n",
       "    <tr>\n",
       "      <th>583273</th>\n",
       "      <td>1583274</td>\n",
       "      <td>&lt;NA&gt;</td>\n",
       "      <td>2018-01-01</td>\n",
       "      <td>&lt;NA&gt;</td>\n",
       "      <td>short film by ignazio fabio mazzola</td>\n",
       "      <td>1.0</td>\n",
       "      <td>NaN</td>\n",
       "    </tr>\n",
       "    <tr>\n",
       "      <th>602779</th>\n",
       "      <td>1602780</td>\n",
       "      <td>&lt;NA&gt;</td>\n",
       "      <td>2022-01-01</td>\n",
       "      <td>&lt;NA&gt;</td>\n",
       "      <td>3 day of the big \"permission to dance\" tour in...</td>\n",
       "      <td>125.0</td>\n",
       "      <td>NaN</td>\n",
       "    </tr>\n",
       "    <tr>\n",
       "      <th>617642</th>\n",
       "      <td>1617643</td>\n",
       "      <td>&lt;NA&gt;</td>\n",
       "      <td>NaT</td>\n",
       "      <td>&lt;NA&gt;</td>\n",
       "      <td>&lt;NA&gt;</td>\n",
       "      <td>NaN</td>\n",
       "      <td>NaN</td>\n",
       "    </tr>\n",
       "    <tr>\n",
       "      <th>642251</th>\n",
       "      <td>1642252</td>\n",
       "      <td>&lt;NA&gt;</td>\n",
       "      <td>2017-01-01</td>\n",
       "      <td>&lt;NA&gt;</td>\n",
       "      <td>&lt;NA&gt;</td>\n",
       "      <td>NaN</td>\n",
       "      <td>NaN</td>\n",
       "    </tr>\n",
       "    <tr>\n",
       "      <th>646520</th>\n",
       "      <td>1646521</td>\n",
       "      <td>&lt;NA&gt;</td>\n",
       "      <td>2008-01-01</td>\n",
       "      <td>&lt;NA&gt;</td>\n",
       "      <td>&lt;NA&gt;</td>\n",
       "      <td>NaN</td>\n",
       "      <td>NaN</td>\n",
       "    </tr>\n",
       "    <tr>\n",
       "      <th>648185</th>\n",
       "      <td>1648186</td>\n",
       "      <td>&lt;NA&gt;</td>\n",
       "      <td>NaT</td>\n",
       "      <td>&lt;NA&gt;</td>\n",
       "      <td>&lt;NA&gt;</td>\n",
       "      <td>NaN</td>\n",
       "      <td>NaN</td>\n",
       "    </tr>\n",
       "    <tr>\n",
       "      <th>666817</th>\n",
       "      <td>1666818</td>\n",
       "      <td>&lt;NA&gt;</td>\n",
       "      <td>NaT</td>\n",
       "      <td>&lt;NA&gt;</td>\n",
       "      <td>&lt;NA&gt;</td>\n",
       "      <td>NaN</td>\n",
       "      <td>NaN</td>\n",
       "    </tr>\n",
       "    <tr>\n",
       "      <th>680689</th>\n",
       "      <td>1680690</td>\n",
       "      <td>&lt;NA&gt;</td>\n",
       "      <td>2019-01-01</td>\n",
       "      <td>&lt;NA&gt;</td>\n",
       "      <td>&lt;NA&gt;</td>\n",
       "      <td>3.0</td>\n",
       "      <td>NaN</td>\n",
       "    </tr>\n",
       "    <tr>\n",
       "      <th>720294</th>\n",
       "      <td>1720295</td>\n",
       "      <td>&lt;NA&gt;</td>\n",
       "      <td>NaT</td>\n",
       "      <td>&lt;NA&gt;</td>\n",
       "      <td>in this directorial debut of eden ewardson, he...</td>\n",
       "      <td>8.0</td>\n",
       "      <td>NaN</td>\n",
       "    </tr>\n",
       "    <tr>\n",
       "      <th>724910</th>\n",
       "      <td>1724911</td>\n",
       "      <td>&lt;NA&gt;</td>\n",
       "      <td>NaT</td>\n",
       "      <td>&lt;NA&gt;</td>\n",
       "      <td>&lt;NA&gt;</td>\n",
       "      <td>NaN</td>\n",
       "      <td>NaN</td>\n",
       "    </tr>\n",
       "    <tr>\n",
       "      <th>725369</th>\n",
       "      <td>1725370</td>\n",
       "      <td>&lt;NA&gt;</td>\n",
       "      <td>NaT</td>\n",
       "      <td>&lt;NA&gt;</td>\n",
       "      <td>&lt;NA&gt;</td>\n",
       "      <td>NaN</td>\n",
       "      <td>NaN</td>\n",
       "    </tr>\n",
       "    <tr>\n",
       "      <th>741481</th>\n",
       "      <td>1741482</td>\n",
       "      <td>&lt;NA&gt;</td>\n",
       "      <td>NaT</td>\n",
       "      <td>&lt;NA&gt;</td>\n",
       "      <td>&lt;NA&gt;</td>\n",
       "      <td>90.0</td>\n",
       "      <td>NaN</td>\n",
       "    </tr>\n",
       "    <tr>\n",
       "      <th>759524</th>\n",
       "      <td>1759525</td>\n",
       "      <td>&lt;NA&gt;</td>\n",
       "      <td>2023-01-01</td>\n",
       "      <td>&lt;NA&gt;</td>\n",
       "      <td>&lt;NA&gt;</td>\n",
       "      <td>2.0</td>\n",
       "      <td>NaN</td>\n",
       "    </tr>\n",
       "    <tr>\n",
       "      <th>764179</th>\n",
       "      <td>1764180</td>\n",
       "      <td>&lt;NA&gt;</td>\n",
       "      <td>NaT</td>\n",
       "      <td>&lt;NA&gt;</td>\n",
       "      <td>&lt;NA&gt;</td>\n",
       "      <td>NaN</td>\n",
       "      <td>NaN</td>\n",
       "    </tr>\n",
       "    <tr>\n",
       "      <th>783695</th>\n",
       "      <td>1783696</td>\n",
       "      <td>&lt;NA&gt;</td>\n",
       "      <td>NaT</td>\n",
       "      <td>&lt;NA&gt;</td>\n",
       "      <td>&lt;NA&gt;</td>\n",
       "      <td>NaN</td>\n",
       "      <td>NaN</td>\n",
       "    </tr>\n",
       "    <tr>\n",
       "      <th>787774</th>\n",
       "      <td>1787775</td>\n",
       "      <td>&lt;NA&gt;</td>\n",
       "      <td>2012-01-01</td>\n",
       "      <td>&lt;NA&gt;</td>\n",
       "      <td>&lt;NA&gt;</td>\n",
       "      <td>NaN</td>\n",
       "      <td>NaN</td>\n",
       "    </tr>\n",
       "    <tr>\n",
       "      <th>803487</th>\n",
       "      <td>1803488</td>\n",
       "      <td>NaN</td>\n",
       "      <td>NaT</td>\n",
       "      <td>&lt;NA&gt;</td>\n",
       "      <td>&lt;NA&gt;</td>\n",
       "      <td>4.0</td>\n",
       "      <td>NaN</td>\n",
       "    </tr>\n",
       "    <tr>\n",
       "      <th>826558</th>\n",
       "      <td>1826559</td>\n",
       "      <td>&lt;NA&gt;</td>\n",
       "      <td>2023-01-01</td>\n",
       "      <td>&lt;NA&gt;</td>\n",
       "      <td>&lt;NA&gt;</td>\n",
       "      <td>NaN</td>\n",
       "      <td>NaN</td>\n",
       "    </tr>\n",
       "    <tr>\n",
       "      <th>840337</th>\n",
       "      <td>1840338</td>\n",
       "      <td>&lt;NA&gt;</td>\n",
       "      <td>NaT</td>\n",
       "      <td>&lt;NA&gt;</td>\n",
       "      <td>&lt;NA&gt;</td>\n",
       "      <td>NaN</td>\n",
       "      <td>NaN</td>\n",
       "    </tr>\n",
       "    <tr>\n",
       "      <th>859402</th>\n",
       "      <td>1859403</td>\n",
       "      <td>NaN</td>\n",
       "      <td>2024-01-01</td>\n",
       "      <td>i ran from iran</td>\n",
       "      <td>NaN</td>\n",
       "      <td>5.0</td>\n",
       "      <td>NaN</td>\n",
       "    </tr>\n",
       "    <tr>\n",
       "      <th>859598</th>\n",
       "      <td>1859599</td>\n",
       "      <td>&lt;NA&gt;</td>\n",
       "      <td>2023-01-01</td>\n",
       "      <td>leeds!</td>\n",
       "      <td>&lt;NA&gt;</td>\n",
       "      <td>NaN</td>\n",
       "      <td>NaN</td>\n",
       "    </tr>\n",
       "    <tr>\n",
       "      <th>865294</th>\n",
       "      <td>1865295</td>\n",
       "      <td>&lt;NA&gt;</td>\n",
       "      <td>NaT</td>\n",
       "      <td>&lt;NA&gt;</td>\n",
       "      <td>&lt;NA&gt;</td>\n",
       "      <td>NaN</td>\n",
       "      <td>NaN</td>\n",
       "    </tr>\n",
       "    <tr>\n",
       "      <th>865295</th>\n",
       "      <td>1865296</td>\n",
       "      <td>&lt;NA&gt;</td>\n",
       "      <td>NaT</td>\n",
       "      <td>&lt;NA&gt;</td>\n",
       "      <td>&lt;NA&gt;</td>\n",
       "      <td>NaN</td>\n",
       "      <td>NaN</td>\n",
       "    </tr>\n",
       "    <tr>\n",
       "      <th>873710</th>\n",
       "      <td>1873711</td>\n",
       "      <td>&lt;NA&gt;</td>\n",
       "      <td>2023-01-01</td>\n",
       "      <td>&lt;NA&gt;</td>\n",
       "      <td>&lt;NA&gt;</td>\n",
       "      <td>NaN</td>\n",
       "      <td>NaN</td>\n",
       "    </tr>\n",
       "    <tr>\n",
       "      <th>881201</th>\n",
       "      <td>1881202</td>\n",
       "      <td>&lt;NA&gt;</td>\n",
       "      <td>NaT</td>\n",
       "      <td>&lt;NA&gt;</td>\n",
       "      <td>&lt;NA&gt;</td>\n",
       "      <td>NaN</td>\n",
       "      <td>NaN</td>\n",
       "    </tr>\n",
       "    <tr>\n",
       "      <th>883228</th>\n",
       "      <td>1883229</td>\n",
       "      <td>&lt;NA&gt;</td>\n",
       "      <td>NaT</td>\n",
       "      <td>&lt;NA&gt;</td>\n",
       "      <td>&lt;NA&gt;</td>\n",
       "      <td>NaN</td>\n",
       "      <td>NaN</td>\n",
       "    </tr>\n",
       "    <tr>\n",
       "      <th>885230</th>\n",
       "      <td>1885231</td>\n",
       "      <td>&lt;NA&gt;</td>\n",
       "      <td>2023-01-01</td>\n",
       "      <td>&lt;NA&gt;</td>\n",
       "      <td>&lt;NA&gt;</td>\n",
       "      <td>NaN</td>\n",
       "      <td>NaN</td>\n",
       "    </tr>\n",
       "    <tr>\n",
       "      <th>892725</th>\n",
       "      <td>1892726</td>\n",
       "      <td>&lt;NA&gt;</td>\n",
       "      <td>NaT</td>\n",
       "      <td>time-travel, bloodline and time-travel</td>\n",
       "      <td>&lt;NA&gt;</td>\n",
       "      <td>NaN</td>\n",
       "      <td>NaN</td>\n",
       "    </tr>\n",
       "    <tr>\n",
       "      <th>892726</th>\n",
       "      <td>1892727</td>\n",
       "      <td>&lt;NA&gt;</td>\n",
       "      <td>NaT</td>\n",
       "      <td>&lt;NA&gt;</td>\n",
       "      <td>&lt;NA&gt;</td>\n",
       "      <td>NaN</td>\n",
       "      <td>NaN</td>\n",
       "    </tr>\n",
       "    <tr>\n",
       "      <th>894771</th>\n",
       "      <td>1894772</td>\n",
       "      <td>&lt;NA&gt;</td>\n",
       "      <td>NaT</td>\n",
       "      <td>&lt;NA&gt;</td>\n",
       "      <td>&lt;NA&gt;</td>\n",
       "      <td>NaN</td>\n",
       "      <td>NaN</td>\n",
       "    </tr>\n",
       "    <tr>\n",
       "      <th>898056</th>\n",
       "      <td>1898057</td>\n",
       "      <td>&lt;NA&gt;</td>\n",
       "      <td>NaT</td>\n",
       "      <td>&lt;NA&gt;</td>\n",
       "      <td>&lt;NA&gt;</td>\n",
       "      <td>NaN</td>\n",
       "      <td>NaN</td>\n",
       "    </tr>\n",
       "    <tr>\n",
       "      <th>898057</th>\n",
       "      <td>1898058</td>\n",
       "      <td>&lt;NA&gt;</td>\n",
       "      <td>NaT</td>\n",
       "      <td>&lt;NA&gt;</td>\n",
       "      <td>&lt;NA&gt;</td>\n",
       "      <td>NaN</td>\n",
       "      <td>NaN</td>\n",
       "    </tr>\n",
       "    <tr>\n",
       "      <th>898058</th>\n",
       "      <td>1898059</td>\n",
       "      <td>&lt;NA&gt;</td>\n",
       "      <td>NaT</td>\n",
       "      <td>&lt;NA&gt;</td>\n",
       "      <td>&lt;NA&gt;</td>\n",
       "      <td>NaN</td>\n",
       "      <td>NaN</td>\n",
       "    </tr>\n",
       "    <tr>\n",
       "      <th>898059</th>\n",
       "      <td>1898060</td>\n",
       "      <td>&lt;NA&gt;</td>\n",
       "      <td>NaT</td>\n",
       "      <td>&lt;NA&gt;</td>\n",
       "      <td>&lt;NA&gt;</td>\n",
       "      <td>NaN</td>\n",
       "      <td>NaN</td>\n",
       "    </tr>\n",
       "    <tr>\n",
       "      <th>904117</th>\n",
       "      <td>1904118</td>\n",
       "      <td>&lt;NA&gt;</td>\n",
       "      <td>NaT</td>\n",
       "      <td>&lt;NA&gt;</td>\n",
       "      <td>&lt;NA&gt;</td>\n",
       "      <td>NaN</td>\n",
       "      <td>NaN</td>\n",
       "    </tr>\n",
       "    <tr>\n",
       "      <th>904118</th>\n",
       "      <td>1904119</td>\n",
       "      <td>&lt;NA&gt;</td>\n",
       "      <td>NaT</td>\n",
       "      <td>&lt;NA&gt;</td>\n",
       "      <td>bordeless – aぇ! group documentary</td>\n",
       "      <td>NaN</td>\n",
       "      <td>NaN</td>\n",
       "    </tr>\n",
       "    <tr>\n",
       "      <th>904119</th>\n",
       "      <td>1904120</td>\n",
       "      <td>&lt;NA&gt;</td>\n",
       "      <td>NaT</td>\n",
       "      <td>&lt;NA&gt;</td>\n",
       "      <td>&lt;NA&gt;</td>\n",
       "      <td>NaN</td>\n",
       "      <td>NaN</td>\n",
       "    </tr>\n",
       "  </tbody>\n",
       "</table>\n",
       "</div>"
      ]
     },
     "execution_count": 70,
     "metadata": {},
     "output_type": "execute_result"
    }
   ],
   "execution_count": 70
  },
  {
   "metadata": {
    "is_executing": true,
    "ExecuteTime": {
     "end_time": "2025-01-23T13:12:28.740470Z",
     "start_time": "2025-01-23T13:12:28.455754Z"
    }
   },
   "cell_type": "code",
   "source": [
    "movies_df = movies_df.dropna(subset=['name'])\n",
    "#rimuovo righe con name nullo"
   ],
   "id": "c3d3582458bcd6c7",
   "outputs": [],
   "execution_count": 71
  },
  {
   "metadata": {},
   "cell_type": "markdown",
   "source": [
    "We chose to remove tuples with <u>**null**</u> <code>name</code>."
   ],
   "id": "527ac416897393a"
  },
  {
   "metadata": {},
   "cell_type": "markdown",
   "source": [
    "### Check for <i>duplicate</i> values"
   ],
   "id": "e6b47300f464994"
  },
  {
   "cell_type": "code",
   "id": "f12f64b0a589fd3",
   "metadata": {
    "is_executing": true,
    "ExecuteTime": {
     "end_time": "2025-01-23T13:12:29.915254Z",
     "start_time": "2025-01-23T13:12:28.865995Z"
    }
   },
   "source": [
    "movies_df.duplicated().sum()"
   ],
   "outputs": [
    {
     "data": {
      "text/plain": [
       "np.int64(0)"
      ]
     },
     "execution_count": 72,
     "metadata": {},
     "output_type": "execute_result"
    }
   ],
   "execution_count": 72
  },
  {
   "cell_type": "code",
   "id": "c87c26957e3a0fff",
   "metadata": {
    "is_executing": true,
    "ExecuteTime": {
     "end_time": "2025-01-23T13:12:29.953576Z",
     "start_time": "2025-01-23T13:12:29.925803Z"
    }
   },
   "source": [
    "movies_df['id'].duplicated().any()"
   ],
   "outputs": [
    {
     "data": {
      "text/plain": [
       "np.False_"
      ]
     },
     "execution_count": 73,
     "metadata": {},
     "output_type": "execute_result"
    }
   ],
   "execution_count": 73
  },
  {
   "metadata": {
    "is_executing": true,
    "ExecuteTime": {
     "end_time": "2025-01-23T13:12:30.110300Z",
     "start_time": "2025-01-23T13:12:29.974665Z"
    }
   },
   "cell_type": "code",
   "source": [
    "# Trova i film con nomi duplicati\n",
    "movies_df['name'].duplicated().any()"
   ],
   "id": "221ea85837559df",
   "outputs": [
    {
     "data": {
      "text/plain": [
       "np.True_"
      ]
     },
     "execution_count": 74,
     "metadata": {},
     "output_type": "execute_result"
    }
   ],
   "execution_count": 74
  },
  {
   "metadata": {
    "is_executing": true,
    "ExecuteTime": {
     "end_time": "2025-01-23T13:12:30.674636Z",
     "start_time": "2025-01-23T13:12:30.138002Z"
    }
   },
   "cell_type": "code",
   "source": [
    "duplicati = movies_df[movies_df['name'].duplicated(keep=False)]\n",
    "\n",
    "duplicati = duplicati.sort_values(by='name')\n",
    "\n",
    "duplicati"
   ],
   "id": "39dff63d6b2c8a67",
   "outputs": [
    {
     "data": {
      "text/plain": [
       "             id       name       date  \\\n",
       "524259  1524260         #1 2022-01-01   \n",
       "526951  1526952         #1 2011-01-01   \n",
       "393181  1393182         #1 2009-01-01   \n",
       "204330  1204331         #2 1993-01-01   \n",
       "885075  1885076         #2 2023-01-01   \n",
       "...         ...        ...        ...   \n",
       "676051  1676052  정브르의 동물일기 2021-01-01   \n",
       "848930  1848931   조폭의 브이로그 2023-01-01   \n",
       "884959  1884960   조폭의 브이로그 2023-01-01   \n",
       "782298  1782299    코리안 커넥션 1990-01-01   \n",
       "871369  1871370    코리안 커넥션        NaT   \n",
       "\n",
       "                                                  tagline  \\\n",
       "524259  a modern story of suspense... in their biggest...   \n",
       "526951                                               <NA>   \n",
       "393181                                               <NA>   \n",
       "204330                                               <NA>   \n",
       "885075                                               <NA>   \n",
       "...                                                   ...   \n",
       "676051                                               <NA>   \n",
       "848930                                               <NA>   \n",
       "884959                                               <NA>   \n",
       "782298                                               <NA>   \n",
       "871369                                               <NA>   \n",
       "\n",
       "                                              description  minute  rating  \n",
       "524259  a broke comic shop owner and an obsessive coll...     8.0     NaN  \n",
       "526951                     short movie by tomoyasu murata     5.0     NaN  \n",
       "393181  you're running and you're running away, but yo...     4.0     NaN  \n",
       "204330  joost rekveld's first film is an hommage to th...    12.0     NaN  \n",
       "885075                                 subject #2's death     2.0     NaN  \n",
       "...                                                   ...     ...     ...  \n",
       "676051                                               <NA>     NaN     NaN  \n",
       "848930                                               <NA>     NaN     NaN  \n",
       "884959                                               <NA>    57.0     NaN  \n",
       "782298                                               <NA>   117.0     NaN  \n",
       "871369                                               <NA>   117.0     NaN  \n",
       "\n",
       "[212404 rows x 7 columns]"
      ],
      "text/html": [
       "<div>\n",
       "<style scoped>\n",
       "    .dataframe tbody tr th:only-of-type {\n",
       "        vertical-align: middle;\n",
       "    }\n",
       "\n",
       "    .dataframe tbody tr th {\n",
       "        vertical-align: top;\n",
       "    }\n",
       "\n",
       "    .dataframe thead th {\n",
       "        text-align: right;\n",
       "    }\n",
       "</style>\n",
       "<table border=\"1\" class=\"dataframe\">\n",
       "  <thead>\n",
       "    <tr style=\"text-align: right;\">\n",
       "      <th></th>\n",
       "      <th>id</th>\n",
       "      <th>name</th>\n",
       "      <th>date</th>\n",
       "      <th>tagline</th>\n",
       "      <th>description</th>\n",
       "      <th>minute</th>\n",
       "      <th>rating</th>\n",
       "    </tr>\n",
       "  </thead>\n",
       "  <tbody>\n",
       "    <tr>\n",
       "      <th>524259</th>\n",
       "      <td>1524260</td>\n",
       "      <td>#1</td>\n",
       "      <td>2022-01-01</td>\n",
       "      <td>a modern story of suspense... in their biggest...</td>\n",
       "      <td>a broke comic shop owner and an obsessive coll...</td>\n",
       "      <td>8.0</td>\n",
       "      <td>NaN</td>\n",
       "    </tr>\n",
       "    <tr>\n",
       "      <th>526951</th>\n",
       "      <td>1526952</td>\n",
       "      <td>#1</td>\n",
       "      <td>2011-01-01</td>\n",
       "      <td>&lt;NA&gt;</td>\n",
       "      <td>short movie by tomoyasu murata</td>\n",
       "      <td>5.0</td>\n",
       "      <td>NaN</td>\n",
       "    </tr>\n",
       "    <tr>\n",
       "      <th>393181</th>\n",
       "      <td>1393182</td>\n",
       "      <td>#1</td>\n",
       "      <td>2009-01-01</td>\n",
       "      <td>&lt;NA&gt;</td>\n",
       "      <td>you're running and you're running away, but yo...</td>\n",
       "      <td>4.0</td>\n",
       "      <td>NaN</td>\n",
       "    </tr>\n",
       "    <tr>\n",
       "      <th>204330</th>\n",
       "      <td>1204331</td>\n",
       "      <td>#2</td>\n",
       "      <td>1993-01-01</td>\n",
       "      <td>&lt;NA&gt;</td>\n",
       "      <td>joost rekveld's first film is an hommage to th...</td>\n",
       "      <td>12.0</td>\n",
       "      <td>NaN</td>\n",
       "    </tr>\n",
       "    <tr>\n",
       "      <th>885075</th>\n",
       "      <td>1885076</td>\n",
       "      <td>#2</td>\n",
       "      <td>2023-01-01</td>\n",
       "      <td>&lt;NA&gt;</td>\n",
       "      <td>subject #2's death</td>\n",
       "      <td>2.0</td>\n",
       "      <td>NaN</td>\n",
       "    </tr>\n",
       "    <tr>\n",
       "      <th>...</th>\n",
       "      <td>...</td>\n",
       "      <td>...</td>\n",
       "      <td>...</td>\n",
       "      <td>...</td>\n",
       "      <td>...</td>\n",
       "      <td>...</td>\n",
       "      <td>...</td>\n",
       "    </tr>\n",
       "    <tr>\n",
       "      <th>676051</th>\n",
       "      <td>1676052</td>\n",
       "      <td>정브르의 동물일기</td>\n",
       "      <td>2021-01-01</td>\n",
       "      <td>&lt;NA&gt;</td>\n",
       "      <td>&lt;NA&gt;</td>\n",
       "      <td>NaN</td>\n",
       "      <td>NaN</td>\n",
       "    </tr>\n",
       "    <tr>\n",
       "      <th>848930</th>\n",
       "      <td>1848931</td>\n",
       "      <td>조폭의 브이로그</td>\n",
       "      <td>2023-01-01</td>\n",
       "      <td>&lt;NA&gt;</td>\n",
       "      <td>&lt;NA&gt;</td>\n",
       "      <td>NaN</td>\n",
       "      <td>NaN</td>\n",
       "    </tr>\n",
       "    <tr>\n",
       "      <th>884959</th>\n",
       "      <td>1884960</td>\n",
       "      <td>조폭의 브이로그</td>\n",
       "      <td>2023-01-01</td>\n",
       "      <td>&lt;NA&gt;</td>\n",
       "      <td>&lt;NA&gt;</td>\n",
       "      <td>57.0</td>\n",
       "      <td>NaN</td>\n",
       "    </tr>\n",
       "    <tr>\n",
       "      <th>782298</th>\n",
       "      <td>1782299</td>\n",
       "      <td>코리안 커넥션</td>\n",
       "      <td>1990-01-01</td>\n",
       "      <td>&lt;NA&gt;</td>\n",
       "      <td>&lt;NA&gt;</td>\n",
       "      <td>117.0</td>\n",
       "      <td>NaN</td>\n",
       "    </tr>\n",
       "    <tr>\n",
       "      <th>871369</th>\n",
       "      <td>1871370</td>\n",
       "      <td>코리안 커넥션</td>\n",
       "      <td>NaT</td>\n",
       "      <td>&lt;NA&gt;</td>\n",
       "      <td>&lt;NA&gt;</td>\n",
       "      <td>117.0</td>\n",
       "      <td>NaN</td>\n",
       "    </tr>\n",
       "  </tbody>\n",
       "</table>\n",
       "<p>212404 rows × 7 columns</p>\n",
       "</div>"
      ]
     },
     "execution_count": 75,
     "metadata": {},
     "output_type": "execute_result"
    }
   ],
   "execution_count": 75
  },
  {
   "metadata": {},
   "cell_type": "markdown",
   "source": [
    "We found more than 200,000 tuples with duplicate <code>name</code> value, now we will analyze them."
   ],
   "id": "e195222352280387"
  },
  {
   "metadata": {
    "is_executing": true,
    "ExecuteTime": {
     "end_time": "2025-01-23T13:12:51.596321Z",
     "start_time": "2025-01-23T13:12:30.739401Z"
    }
   },
   "cell_type": "code",
   "source": [
    "# Rimuovere i duplicati dal DataFrame\n",
    "movies_df = clean.remove_duplicates(movies_df, clean.get_columns_conditions(movies_df))"
   ],
   "id": "7118b30bdb3f7054",
   "outputs": [],
   "execution_count": 76
  },
  {
   "metadata": {},
   "cell_type": "markdown",
   "source": [
    "We decided to remove duplicates with: \n",
    "\n",
    "<ul>\n",
    "  <li>same <code>name</code>, <code>description</code>, <code>date</code>, <code>tagline</code>, <code>minute</code>, <code>rating</code></li>\n",
    "  <li>same <code>name</code> but null <code>description</code>, <code>date</code>, <code>tagline</code>, <code>minute</code>, <code>rating</code></li>\n",
    "  <li>same <code>name</code>, <code>date</code>, <code>description</code> but null <code>tagline</code>, <code>minute</code>, <code>rating</code></li>\n",
    "  <li>...</li>\n",
    "</ul>\n",
    "keeping the first occurrence."
   ],
   "id": "3c71dd49ffae8f87"
  },
  {
   "cell_type": "code",
   "id": "6e073510d6466ecc",
   "metadata": {
    "is_executing": true,
    "ExecuteTime": {
     "end_time": "2025-01-23T13:12:51.647256Z",
     "start_time": "2025-01-23T13:12:51.638041Z"
    }
   },
   "source": [
    "movies_df[(movies_df['rating'] > 5) | (movies_df['rating'] < 0)].shape[0]"
   ],
   "outputs": [
    {
     "data": {
      "text/plain": [
       "0"
      ]
     },
     "execution_count": 77,
     "metadata": {},
     "output_type": "execute_result"
    }
   ],
   "execution_count": 77
  },
  {
   "metadata": {},
   "cell_type": "markdown",
   "source": [
    "We checked that in the <code>rating</code> column there are no values ​​outside the range."
   ],
   "id": "3383b30646ef4878"
  },
  {
   "metadata": {},
   "cell_type": "markdown",
   "source": [
    "---"
   ],
   "id": "842491083839b8ed"
  },
  {
   "cell_type": "markdown",
   "id": "load-countries",
   "metadata": {},
   "source": [
    "## Countries Dataframe\n",
    "This dataset contains over 693,000 entries with the columns 'id', representing the film ID, and 'country', indicating one of the originating countries, with the possibility of multiple countries per film."
   ]
  },
  {
   "cell_type": "code",
   "id": "load-countries-code",
   "metadata": {
    "ExecuteTime": {
     "end_time": "2025-01-23T13:12:51.876088Z",
     "start_time": "2025-01-23T13:12:51.686419Z"
    }
   },
   "source": [
    "countries_df = pd.read_csv('../csv/countries.csv')"
   ],
   "outputs": [],
   "execution_count": 78
  },
  {
   "cell_type": "code",
   "id": "9bc8b9f590b42851",
   "metadata": {
    "ExecuteTime": {
     "end_time": "2025-01-23T13:12:51.904075Z",
     "start_time": "2025-01-23T13:12:51.898970Z"
    }
   },
   "source": [
    "countries_df.shape"
   ],
   "outputs": [
    {
     "data": {
      "text/plain": [
       "(693476, 2)"
      ]
     },
     "execution_count": 79,
     "metadata": {},
     "output_type": "execute_result"
    }
   ],
   "execution_count": 79
  },
  {
   "cell_type": "markdown",
   "id": "e72298b492a88241",
   "metadata": {},
   "source": [
    "This dataset consists of 693,476 rows and 2 columns, providing detailed information about the countries associated with each film."
   ]
  },
  {
   "cell_type": "code",
   "id": "6cc0443980e616ba",
   "metadata": {
    "ExecuteTime": {
     "end_time": "2025-01-23T13:12:51.996150Z",
     "start_time": "2025-01-23T13:12:51.989766Z"
    }
   },
   "source": [
    "countries_df.head()"
   ],
   "outputs": [
    {
     "data": {
      "text/plain": [
       "        id      country\n",
       "0  1000001           UK\n",
       "1  1000001          USA\n",
       "2  1000002  South Korea\n",
       "3  1000003          USA\n",
       "4  1000004      Germany"
      ],
      "text/html": [
       "<div>\n",
       "<style scoped>\n",
       "    .dataframe tbody tr th:only-of-type {\n",
       "        vertical-align: middle;\n",
       "    }\n",
       "\n",
       "    .dataframe tbody tr th {\n",
       "        vertical-align: top;\n",
       "    }\n",
       "\n",
       "    .dataframe thead th {\n",
       "        text-align: right;\n",
       "    }\n",
       "</style>\n",
       "<table border=\"1\" class=\"dataframe\">\n",
       "  <thead>\n",
       "    <tr style=\"text-align: right;\">\n",
       "      <th></th>\n",
       "      <th>id</th>\n",
       "      <th>country</th>\n",
       "    </tr>\n",
       "  </thead>\n",
       "  <tbody>\n",
       "    <tr>\n",
       "      <th>0</th>\n",
       "      <td>1000001</td>\n",
       "      <td>UK</td>\n",
       "    </tr>\n",
       "    <tr>\n",
       "      <th>1</th>\n",
       "      <td>1000001</td>\n",
       "      <td>USA</td>\n",
       "    </tr>\n",
       "    <tr>\n",
       "      <th>2</th>\n",
       "      <td>1000002</td>\n",
       "      <td>South Korea</td>\n",
       "    </tr>\n",
       "    <tr>\n",
       "      <th>3</th>\n",
       "      <td>1000003</td>\n",
       "      <td>USA</td>\n",
       "    </tr>\n",
       "    <tr>\n",
       "      <th>4</th>\n",
       "      <td>1000004</td>\n",
       "      <td>Germany</td>\n",
       "    </tr>\n",
       "  </tbody>\n",
       "</table>\n",
       "</div>"
      ]
     },
     "execution_count": 80,
     "metadata": {},
     "output_type": "execute_result"
    }
   ],
   "execution_count": 80
  },
  {
   "cell_type": "code",
   "id": "fa3c77ee",
   "metadata": {
    "vscode": {
     "languageId": "javascript"
    },
    "ExecuteTime": {
     "end_time": "2025-01-23T13:12:52.087444Z",
     "start_time": "2025-01-23T13:12:52.061755Z"
    }
   },
   "source": [
    "countries_df['country'] = countries_df['country'].astype('string')"
   ],
   "outputs": [],
   "execution_count": 81
  },
  {
   "cell_type": "code",
   "id": "ddbf37868ee39733",
   "metadata": {
    "ExecuteTime": {
     "end_time": "2025-01-23T13:12:52.181512Z",
     "start_time": "2025-01-23T13:12:52.174375Z"
    }
   },
   "source": [
    "# Verifica il tipo di dati della colonna 'country'\n",
    "countries_df.dtypes"
   ],
   "outputs": [
    {
     "data": {
      "text/plain": [
       "id                  int64\n",
       "country    string[python]\n",
       "dtype: object"
      ]
     },
     "execution_count": 82,
     "metadata": {},
     "output_type": "execute_result"
    }
   ],
   "execution_count": 82
  },
  {
   "cell_type": "code",
   "id": "2d2ddfeac2b3d767",
   "metadata": {
    "ExecuteTime": {
     "end_time": "2025-01-23T13:12:52.335278Z",
     "start_time": "2025-01-23T13:12:52.297605Z"
    }
   },
   "source": [
    "countries_df.isna().sum()"
   ],
   "outputs": [
    {
     "data": {
      "text/plain": [
       "id         0\n",
       "country    0\n",
       "dtype: int64"
      ]
     },
     "execution_count": 83,
     "metadata": {},
     "output_type": "execute_result"
    }
   ],
   "execution_count": 83
  },
  {
   "metadata": {},
   "cell_type": "markdown",
   "source": [
    "There are no duplicate entries in the dataset.\n",
    "\n",
    "We also verified that the countries were not duplicated under different names."
   ],
   "id": "38a95ecfed8597f2"
  },
  {
   "metadata": {},
   "cell_type": "markdown",
   "source": [
    "---"
   ],
   "id": "9206f15970171133"
  },
  {
   "metadata": {},
   "cell_type": "markdown",
   "source": [
    "## Actors Dataframe\n",
    "This dataset contains over 5.7 million entries with the columns 'id', representing the film ID, 'name', indicating the name of the actor, and 'role', specifying the character played."
   ],
   "id": "load-actors"
  },
  {
   "metadata": {
    "ExecuteTime": {
     "end_time": "2025-01-23T13:12:58.517658Z",
     "start_time": "2025-01-23T13:12:52.462939Z"
    }
   },
   "cell_type": "code",
   "source": [
    "actors_df = pd.read_csv('../csv/actors.csv')"
   ],
   "id": "load-actors-code",
   "outputs": [],
   "execution_count": 84
  },
  {
   "metadata": {
    "ExecuteTime": {
     "end_time": "2025-01-23T13:12:58.564815Z",
     "start_time": "2025-01-23T13:12:58.558807Z"
    }
   },
   "cell_type": "code",
   "source": [
    "actors_df.shape"
   ],
   "id": "1e32d7a4e0954132",
   "outputs": [
    {
     "data": {
      "text/plain": [
       "(5798450, 3)"
      ]
     },
     "execution_count": 85,
     "metadata": {},
     "output_type": "execute_result"
    }
   ],
   "execution_count": 85
  },
  {
   "metadata": {},
   "cell_type": "markdown",
   "source": [
    "This dataset consists of 5,798,450 rows and 3 columns, providing detailed information about the actors, their roles, and the films they appear in."
   ],
   "id": "86e2cef5d4bc9c89"
  },
  {
   "metadata": {
    "ExecuteTime": {
     "end_time": "2025-01-23T13:12:58.640204Z",
     "start_time": "2025-01-23T13:12:58.631818Z"
    }
   },
   "cell_type": "code",
   "source": [
    "actors_df.head()"
   ],
   "id": "b87d4f83fac0d025",
   "outputs": [
    {
     "data": {
      "text/plain": [
       "        id               name    role\n",
       "0  1000001      Margot Robbie  Barbie\n",
       "1  1000001       Ryan Gosling     Ken\n",
       "2  1000001    America Ferrera  Gloria\n",
       "3  1000001  Ariana Greenblatt   Sasha\n",
       "4  1000001           Issa Rae  Barbie"
      ],
      "text/html": [
       "<div>\n",
       "<style scoped>\n",
       "    .dataframe tbody tr th:only-of-type {\n",
       "        vertical-align: middle;\n",
       "    }\n",
       "\n",
       "    .dataframe tbody tr th {\n",
       "        vertical-align: top;\n",
       "    }\n",
       "\n",
       "    .dataframe thead th {\n",
       "        text-align: right;\n",
       "    }\n",
       "</style>\n",
       "<table border=\"1\" class=\"dataframe\">\n",
       "  <thead>\n",
       "    <tr style=\"text-align: right;\">\n",
       "      <th></th>\n",
       "      <th>id</th>\n",
       "      <th>name</th>\n",
       "      <th>role</th>\n",
       "    </tr>\n",
       "  </thead>\n",
       "  <tbody>\n",
       "    <tr>\n",
       "      <th>0</th>\n",
       "      <td>1000001</td>\n",
       "      <td>Margot Robbie</td>\n",
       "      <td>Barbie</td>\n",
       "    </tr>\n",
       "    <tr>\n",
       "      <th>1</th>\n",
       "      <td>1000001</td>\n",
       "      <td>Ryan Gosling</td>\n",
       "      <td>Ken</td>\n",
       "    </tr>\n",
       "    <tr>\n",
       "      <th>2</th>\n",
       "      <td>1000001</td>\n",
       "      <td>America Ferrera</td>\n",
       "      <td>Gloria</td>\n",
       "    </tr>\n",
       "    <tr>\n",
       "      <th>3</th>\n",
       "      <td>1000001</td>\n",
       "      <td>Ariana Greenblatt</td>\n",
       "      <td>Sasha</td>\n",
       "    </tr>\n",
       "    <tr>\n",
       "      <th>4</th>\n",
       "      <td>1000001</td>\n",
       "      <td>Issa Rae</td>\n",
       "      <td>Barbie</td>\n",
       "    </tr>\n",
       "  </tbody>\n",
       "</table>\n",
       "</div>"
      ]
     },
     "execution_count": 86,
     "metadata": {},
     "output_type": "execute_result"
    }
   ],
   "execution_count": 86
  },
  {
   "metadata": {
    "ExecuteTime": {
     "end_time": "2025-01-23T13:13:00.108258Z",
     "start_time": "2025-01-23T13:12:58.788482Z"
    }
   },
   "cell_type": "code",
   "source": [
    "actors_df['name'] = actors_df['name'].astype('string')\n",
    "actors_df['role'] = actors_df['role'].astype('string')\n",
    "\n",
    "actors_df.dtypes"
   ],
   "id": "3d9c88a41f436a97",
   "outputs": [
    {
     "data": {
      "text/plain": [
       "id               int64\n",
       "name    string[python]\n",
       "role    string[python]\n",
       "dtype: object"
      ]
     },
     "execution_count": 87,
     "metadata": {},
     "output_type": "execute_result"
    }
   ],
   "execution_count": 87
  },
  {
   "metadata": {
    "ExecuteTime": {
     "end_time": "2025-01-23T13:13:01.017851Z",
     "start_time": "2025-01-23T13:13:00.204752Z"
    }
   },
   "cell_type": "code",
   "source": [
    "actors_df.isna().sum()"
   ],
   "id": "d042b5788bfda8d8",
   "outputs": [
    {
     "data": {
      "text/plain": [
       "id            0\n",
       "name          4\n",
       "role    1361559\n",
       "dtype: int64"
      ]
     },
     "execution_count": 88,
     "metadata": {},
     "output_type": "execute_result"
    }
   ],
   "execution_count": 88
  },
  {
   "metadata": {
    "ExecuteTime": {
     "end_time": "2025-01-23T13:13:01.707143Z",
     "start_time": "2025-01-23T13:13:01.113667Z"
    }
   },
   "cell_type": "code",
   "source": [
    "actors_df[actors_df['name'].isnull()]"
   ],
   "id": "b5f15c452cc5bc8",
   "outputs": [
    {
     "data": {
      "text/plain": [
       "              id  name            role\n",
       "4145738  1443629  <NA>            <NA>\n",
       "4281100  1469981  <NA>            Self\n",
       "4306960  1474958  <NA>  Cinematography\n",
       "5430275  1773264  <NA>            <NA>"
      ],
      "text/html": [
       "<div>\n",
       "<style scoped>\n",
       "    .dataframe tbody tr th:only-of-type {\n",
       "        vertical-align: middle;\n",
       "    }\n",
       "\n",
       "    .dataframe tbody tr th {\n",
       "        vertical-align: top;\n",
       "    }\n",
       "\n",
       "    .dataframe thead th {\n",
       "        text-align: right;\n",
       "    }\n",
       "</style>\n",
       "<table border=\"1\" class=\"dataframe\">\n",
       "  <thead>\n",
       "    <tr style=\"text-align: right;\">\n",
       "      <th></th>\n",
       "      <th>id</th>\n",
       "      <th>name</th>\n",
       "      <th>role</th>\n",
       "    </tr>\n",
       "  </thead>\n",
       "  <tbody>\n",
       "    <tr>\n",
       "      <th>4145738</th>\n",
       "      <td>1443629</td>\n",
       "      <td>&lt;NA&gt;</td>\n",
       "      <td>&lt;NA&gt;</td>\n",
       "    </tr>\n",
       "    <tr>\n",
       "      <th>4281100</th>\n",
       "      <td>1469981</td>\n",
       "      <td>&lt;NA&gt;</td>\n",
       "      <td>Self</td>\n",
       "    </tr>\n",
       "    <tr>\n",
       "      <th>4306960</th>\n",
       "      <td>1474958</td>\n",
       "      <td>&lt;NA&gt;</td>\n",
       "      <td>Cinematography</td>\n",
       "    </tr>\n",
       "    <tr>\n",
       "      <th>5430275</th>\n",
       "      <td>1773264</td>\n",
       "      <td>&lt;NA&gt;</td>\n",
       "      <td>&lt;NA&gt;</td>\n",
       "    </tr>\n",
       "  </tbody>\n",
       "</table>\n",
       "</div>"
      ]
     },
     "execution_count": 89,
     "metadata": {},
     "output_type": "execute_result"
    }
   ],
   "execution_count": 89
  },
  {
   "metadata": {
    "ExecuteTime": {
     "end_time": "2025-01-23T13:13:04.134501Z",
     "start_time": "2025-01-23T13:13:01.903467Z"
    }
   },
   "cell_type": "code",
   "source": [
    "actors_df = actors_df.dropna(subset=['name'])"
   ],
   "id": "146f399f8ce1b13",
   "outputs": [],
   "execution_count": 90
  },
  {
   "cell_type": "markdown",
   "id": "9995a19c090f3de2",
   "metadata": {},
   "source": [
    "Tuples with <code>name</code> null have been deleted"
   ]
  },
  {
   "metadata": {
    "ExecuteTime": {
     "end_time": "2025-01-23T13:13:09.986932Z",
     "start_time": "2025-01-23T13:13:04.192861Z"
    }
   },
   "cell_type": "code",
   "source": "actors_df.duplicated().sum()",
   "id": "c73b51ebe256f74d",
   "outputs": [
    {
     "data": {
      "text/plain": [
       "np.int64(946)"
      ]
     },
     "execution_count": 91,
     "metadata": {},
     "output_type": "execute_result"
    }
   ],
   "execution_count": 91
  },
  {
   "metadata": {
    "ExecuteTime": {
     "end_time": "2025-01-23T13:13:16.740260Z",
     "start_time": "2025-01-23T13:13:10.011178Z"
    }
   },
   "cell_type": "code",
   "source": "actors_df = actors_df.drop_duplicates()",
   "id": "43e66610406d68df",
   "outputs": [],
   "execution_count": 92
  },
  {
   "metadata": {
    "ExecuteTime": {
     "end_time": "2025-01-23T13:13:21.988025Z",
     "start_time": "2025-01-23T13:13:16.778658Z"
    }
   },
   "cell_type": "code",
   "source": "actors_df.duplicated().sum()",
   "id": "1edbccb4c7d2872f",
   "outputs": [
    {
     "data": {
      "text/plain": [
       "np.int64(0)"
      ]
     },
     "execution_count": 93,
     "metadata": {},
     "output_type": "execute_result"
    }
   ],
   "execution_count": 93
  },
  {
   "metadata": {},
   "cell_type": "markdown",
   "source": "All the duplicates have been removed.",
   "id": "afcfd53adec5d371"
  },
  {
   "metadata": {},
   "cell_type": "markdown",
   "source": [
    "---"
   ],
   "id": "5872b77dad42e036"
  },
  {
   "cell_type": "markdown",
   "id": "load-crew",
   "metadata": {},
   "source": [
    "## Crew Dataframe\n",
    "This dataset contains over 4.7 million entries with the columns 'id', representing the film ID, 'role', indicating the role (e.g., director), and 'name', specifying the name of the person."
   ]
  },
  {
   "cell_type": "code",
   "id": "load-crew-code",
   "metadata": {
    "ExecuteTime": {
     "end_time": "2025-01-23T13:13:26.021938Z",
     "start_time": "2025-01-23T13:13:22.040860Z"
    }
   },
   "source": [
    "crew_df = pd.read_csv('../csv/crew.csv')"
   ],
   "outputs": [],
   "execution_count": 94
  },
  {
   "cell_type": "code",
   "id": "20d09e64cb76358",
   "metadata": {
    "ExecuteTime": {
     "end_time": "2025-01-23T13:13:26.039768Z",
     "start_time": "2025-01-23T13:13:26.034248Z"
    }
   },
   "source": [
    "crew_df.shape"
   ],
   "outputs": [
    {
     "data": {
      "text/plain": [
       "(4720183, 3)"
      ]
     },
     "execution_count": 95,
     "metadata": {},
     "output_type": "execute_result"
    }
   ],
   "execution_count": 95
  },
  {
   "cell_type": "markdown",
   "id": "68dd0c1e9975994d",
   "metadata": {},
   "source": [
    "This dataset consists of 4,720,183 rows and 3 columns, providing detailed information about the crew members, their roles, and the films they are associated with."
   ]
  },
  {
   "cell_type": "code",
   "id": "e16d6af031844a3d",
   "metadata": {
    "ExecuteTime": {
     "end_time": "2025-01-23T13:13:26.087570Z",
     "start_time": "2025-01-23T13:13:26.080745Z"
    }
   },
   "source": [
    "crew_df.head()"
   ],
   "outputs": [
    {
     "data": {
      "text/plain": [
       "        id      role            name\n",
       "0  1000001  Director    Greta Gerwig\n",
       "1  1000001  Producer    Tom Ackerley\n",
       "2  1000001  Producer   Margot Robbie\n",
       "3  1000001  Producer  Robbie Brenner\n",
       "4  1000001  Producer    David Heyman"
      ],
      "text/html": [
       "<div>\n",
       "<style scoped>\n",
       "    .dataframe tbody tr th:only-of-type {\n",
       "        vertical-align: middle;\n",
       "    }\n",
       "\n",
       "    .dataframe tbody tr th {\n",
       "        vertical-align: top;\n",
       "    }\n",
       "\n",
       "    .dataframe thead th {\n",
       "        text-align: right;\n",
       "    }\n",
       "</style>\n",
       "<table border=\"1\" class=\"dataframe\">\n",
       "  <thead>\n",
       "    <tr style=\"text-align: right;\">\n",
       "      <th></th>\n",
       "      <th>id</th>\n",
       "      <th>role</th>\n",
       "      <th>name</th>\n",
       "    </tr>\n",
       "  </thead>\n",
       "  <tbody>\n",
       "    <tr>\n",
       "      <th>0</th>\n",
       "      <td>1000001</td>\n",
       "      <td>Director</td>\n",
       "      <td>Greta Gerwig</td>\n",
       "    </tr>\n",
       "    <tr>\n",
       "      <th>1</th>\n",
       "      <td>1000001</td>\n",
       "      <td>Producer</td>\n",
       "      <td>Tom Ackerley</td>\n",
       "    </tr>\n",
       "    <tr>\n",
       "      <th>2</th>\n",
       "      <td>1000001</td>\n",
       "      <td>Producer</td>\n",
       "      <td>Margot Robbie</td>\n",
       "    </tr>\n",
       "    <tr>\n",
       "      <th>3</th>\n",
       "      <td>1000001</td>\n",
       "      <td>Producer</td>\n",
       "      <td>Robbie Brenner</td>\n",
       "    </tr>\n",
       "    <tr>\n",
       "      <th>4</th>\n",
       "      <td>1000001</td>\n",
       "      <td>Producer</td>\n",
       "      <td>David Heyman</td>\n",
       "    </tr>\n",
       "  </tbody>\n",
       "</table>\n",
       "</div>"
      ]
     },
     "execution_count": 96,
     "metadata": {},
     "output_type": "execute_result"
    }
   ],
   "execution_count": 96
  },
  {
   "cell_type": "code",
   "id": "5572ecd0a03f3a68",
   "metadata": {
    "ExecuteTime": {
     "end_time": "2025-01-23T13:13:26.672888Z",
     "start_time": "2025-01-23T13:13:26.154127Z"
    }
   },
   "source": [
    "crew_df['role'] = crew_df['role'].astype('string')\n",
    "crew_df['name'] = crew_df['name'].astype('string')\n",
    "\n",
    "crew_df.dtypes"
   ],
   "outputs": [
    {
     "data": {
      "text/plain": [
       "id               int64\n",
       "role    string[python]\n",
       "name    string[python]\n",
       "dtype: object"
      ]
     },
     "execution_count": 97,
     "metadata": {},
     "output_type": "execute_result"
    }
   ],
   "execution_count": 97
  },
  {
   "cell_type": "code",
   "id": "7f41715d49e12d20",
   "metadata": {
    "ExecuteTime": {
     "end_time": "2025-01-23T13:13:27.301754Z",
     "start_time": "2025-01-23T13:13:26.746618Z"
    }
   },
   "source": [
    "crew_df.isna().sum()"
   ],
   "outputs": [
    {
     "data": {
      "text/plain": [
       "id      0\n",
       "role    0\n",
       "name    1\n",
       "dtype: int64"
      ]
     },
     "execution_count": 98,
     "metadata": {},
     "output_type": "execute_result"
    }
   ],
   "execution_count": 98
  },
  {
   "cell_type": "code",
   "id": "9c8bab3222beb111",
   "metadata": {
    "ExecuteTime": {
     "end_time": "2025-01-23T14:59:34.502359Z",
     "start_time": "2025-01-23T14:59:32.557203Z"
    }
   },
   "source": [
    "crew_df.dropna(subset=['name'], inplace=True)\n",
    "crew_df.isna().sum()"
   ],
   "outputs": [
    {
     "data": {
      "text/plain": [
       "id      0\n",
       "role    0\n",
       "name    0\n",
       "dtype: int64"
      ]
     },
     "execution_count": 186,
     "metadata": {},
     "output_type": "execute_result"
    }
   ],
   "execution_count": 186
  },
  {
   "metadata": {
    "ExecuteTime": {
     "end_time": "2025-01-23T13:13:31.367928Z",
     "start_time": "2025-01-23T13:13:27.840992Z"
    }
   },
   "cell_type": "code",
   "source": "crew_df.duplicated().sum()",
   "id": "6a252588f8efe794",
   "outputs": [
    {
     "data": {
      "text/plain": [
       "np.int64(1282)"
      ]
     },
     "execution_count": 100,
     "metadata": {},
     "output_type": "execute_result"
    }
   ],
   "execution_count": 100
  },
  {
   "metadata": {
    "ExecuteTime": {
     "end_time": "2025-01-23T15:00:42.882612Z",
     "start_time": "2025-01-23T15:00:39.972002Z"
    }
   },
   "cell_type": "code",
   "source": "crew_df = crew_df.drop_duplicates()",
   "id": "d59cc30e6735d279",
   "outputs": [],
   "execution_count": 187
  },
  {
   "metadata": {
    "ExecuteTime": {
     "end_time": "2025-01-23T15:00:46.057032Z",
     "start_time": "2025-01-23T15:00:43.484790Z"
    }
   },
   "cell_type": "code",
   "source": "crew_df.duplicated().sum()",
   "id": "7dbec7b5b3891254",
   "outputs": [
    {
     "data": {
      "text/plain": [
       "np.int64(0)"
      ]
     },
     "execution_count": 188,
     "metadata": {},
     "output_type": "execute_result"
    }
   ],
   "execution_count": 188
  },
  {
   "metadata": {},
   "cell_type": "markdown",
   "source": "All the duplicates have been removed.",
   "id": "3598032a3a4042b6"
  },
  {
   "metadata": {},
   "cell_type": "markdown",
   "source": [
    "---"
   ],
   "id": "ac7116eb0a5314f7"
  },
  {
   "cell_type": "markdown",
   "id": "load-posters",
   "metadata": {},
   "source": [
    "## Posters Dataframe\n",
    "This dataset contains over 940,000 entries with the columns 'id', representing the film ID, and 'link', providing the link to the original film posters."
   ]
  },
  {
   "cell_type": "code",
   "id": "load-posters-code",
   "metadata": {
    "ExecuteTime": {
     "end_time": "2025-01-23T13:13:39.851546Z",
     "start_time": "2025-01-23T13:13:38.305676Z"
    }
   },
   "source": [
    "posters_df = pd.read_csv('../csv/posters.csv')"
   ],
   "outputs": [],
   "execution_count": 103
  },
  {
   "cell_type": "code",
   "id": "b235c52c3db2efb7",
   "metadata": {
    "ExecuteTime": {
     "end_time": "2025-01-23T13:13:39.881435Z",
     "start_time": "2025-01-23T13:13:39.875124Z"
    }
   },
   "source": [
    "posters_df.shape"
   ],
   "outputs": [
    {
     "data": {
      "text/plain": [
       "(941597, 2)"
      ]
     },
     "execution_count": 104,
     "metadata": {},
     "output_type": "execute_result"
    }
   ],
   "execution_count": 104
  },
  {
   "cell_type": "markdown",
   "id": "704b91911fc9b6b6",
   "metadata": {},
   "source": [
    "This dataset consists of 941,597 rows and 2 columns, providing links to the original film posters associated with each film."
   ]
  },
  {
   "cell_type": "code",
   "id": "32d2a5b7e8a4d7de",
   "metadata": {
    "ExecuteTime": {
     "end_time": "2025-01-23T13:13:39.924624Z",
     "start_time": "2025-01-23T13:13:39.915477Z"
    }
   },
   "source": [
    "posters_df"
   ],
   "outputs": [
    {
     "data": {
      "text/plain": [
       "             id                                               link\n",
       "0       1000001  https://a.ltrbxd.com/resized/film-poster/2/7/7...\n",
       "1       1000002  https://a.ltrbxd.com/resized/film-poster/4/2/6...\n",
       "2       1000003  https://a.ltrbxd.com/resized/film-poster/4/7/4...\n",
       "3       1000004  https://a.ltrbxd.com/resized/film-poster/5/1/5...\n",
       "4       1000005  https://a.ltrbxd.com/resized/film-poster/2/4/0...\n",
       "...         ...                                                ...\n",
       "941592  1941593                                                NaN\n",
       "941593  1941594                                                NaN\n",
       "941594  1941595  https://a.ltrbxd.com/resized/film-poster/1/1/8...\n",
       "941595  1941596  https://a.ltrbxd.com/resized/film-poster/1/1/8...\n",
       "941596  1941597                                                NaN\n",
       "\n",
       "[941597 rows x 2 columns]"
      ],
      "text/html": [
       "<div>\n",
       "<style scoped>\n",
       "    .dataframe tbody tr th:only-of-type {\n",
       "        vertical-align: middle;\n",
       "    }\n",
       "\n",
       "    .dataframe tbody tr th {\n",
       "        vertical-align: top;\n",
       "    }\n",
       "\n",
       "    .dataframe thead th {\n",
       "        text-align: right;\n",
       "    }\n",
       "</style>\n",
       "<table border=\"1\" class=\"dataframe\">\n",
       "  <thead>\n",
       "    <tr style=\"text-align: right;\">\n",
       "      <th></th>\n",
       "      <th>id</th>\n",
       "      <th>link</th>\n",
       "    </tr>\n",
       "  </thead>\n",
       "  <tbody>\n",
       "    <tr>\n",
       "      <th>0</th>\n",
       "      <td>1000001</td>\n",
       "      <td>https://a.ltrbxd.com/resized/film-poster/2/7/7...</td>\n",
       "    </tr>\n",
       "    <tr>\n",
       "      <th>1</th>\n",
       "      <td>1000002</td>\n",
       "      <td>https://a.ltrbxd.com/resized/film-poster/4/2/6...</td>\n",
       "    </tr>\n",
       "    <tr>\n",
       "      <th>2</th>\n",
       "      <td>1000003</td>\n",
       "      <td>https://a.ltrbxd.com/resized/film-poster/4/7/4...</td>\n",
       "    </tr>\n",
       "    <tr>\n",
       "      <th>3</th>\n",
       "      <td>1000004</td>\n",
       "      <td>https://a.ltrbxd.com/resized/film-poster/5/1/5...</td>\n",
       "    </tr>\n",
       "    <tr>\n",
       "      <th>4</th>\n",
       "      <td>1000005</td>\n",
       "      <td>https://a.ltrbxd.com/resized/film-poster/2/4/0...</td>\n",
       "    </tr>\n",
       "    <tr>\n",
       "      <th>...</th>\n",
       "      <td>...</td>\n",
       "      <td>...</td>\n",
       "    </tr>\n",
       "    <tr>\n",
       "      <th>941592</th>\n",
       "      <td>1941593</td>\n",
       "      <td>NaN</td>\n",
       "    </tr>\n",
       "    <tr>\n",
       "      <th>941593</th>\n",
       "      <td>1941594</td>\n",
       "      <td>NaN</td>\n",
       "    </tr>\n",
       "    <tr>\n",
       "      <th>941594</th>\n",
       "      <td>1941595</td>\n",
       "      <td>https://a.ltrbxd.com/resized/film-poster/1/1/8...</td>\n",
       "    </tr>\n",
       "    <tr>\n",
       "      <th>941595</th>\n",
       "      <td>1941596</td>\n",
       "      <td>https://a.ltrbxd.com/resized/film-poster/1/1/8...</td>\n",
       "    </tr>\n",
       "    <tr>\n",
       "      <th>941596</th>\n",
       "      <td>1941597</td>\n",
       "      <td>NaN</td>\n",
       "    </tr>\n",
       "  </tbody>\n",
       "</table>\n",
       "<p>941597 rows × 2 columns</p>\n",
       "</div>"
      ]
     },
     "execution_count": 105,
     "metadata": {},
     "output_type": "execute_result"
    }
   ],
   "execution_count": 105
  },
  {
   "cell_type": "code",
   "id": "80aff1225337a330",
   "metadata": {
    "ExecuteTime": {
     "end_time": "2025-01-23T13:13:40.122561Z",
     "start_time": "2025-01-23T13:13:39.981235Z"
    }
   },
   "source": [
    "posters_df['link'] = posters_df['link'].astype('string')\n",
    "\n",
    "posters_df.dtypes"
   ],
   "outputs": [
    {
     "data": {
      "text/plain": [
       "id               int64\n",
       "link    string[python]\n",
       "dtype: object"
      ]
     },
     "execution_count": 106,
     "metadata": {},
     "output_type": "execute_result"
    }
   ],
   "execution_count": 106
  },
  {
   "cell_type": "code",
   "id": "e9999cc75400b654",
   "metadata": {
    "ExecuteTime": {
     "end_time": "2025-01-23T13:13:40.270577Z",
     "start_time": "2025-01-23T13:13:40.202789Z"
    }
   },
   "source": [
    "posters_df.isna().sum()"
   ],
   "outputs": [
    {
     "data": {
      "text/plain": [
       "id           0\n",
       "link    180712\n",
       "dtype: int64"
      ]
     },
     "execution_count": 107,
     "metadata": {},
     "output_type": "execute_result"
    }
   ],
   "execution_count": 107
  },
  {
   "metadata": {
    "ExecuteTime": {
     "end_time": "2025-01-23T13:13:40.614727Z",
     "start_time": "2025-01-23T13:13:40.386479Z"
    }
   },
   "cell_type": "code",
   "source": [
    "posters_df = posters_df.dropna(subset=['link'])"
   ],
   "id": "6586e6bda0b60f54",
   "outputs": [],
   "execution_count": 108
  },
  {
   "metadata": {},
   "cell_type": "markdown",
   "source": [
    "Removes all rows from the <code>posters_df</code> that have a <code>NaN</code> value in the link column."
   ],
   "id": "2fb6d9d2d5197d5d"
  },
  {
   "cell_type": "code",
   "id": "b3dc8da850259e7a",
   "metadata": {
    "ExecuteTime": {
     "end_time": "2025-01-23T13:13:41.351068Z",
     "start_time": "2025-01-23T13:13:40.657526Z"
    }
   },
   "source": [
    "posters_df.duplicated().sum()"
   ],
   "outputs": [
    {
     "data": {
      "text/plain": [
       "np.int64(0)"
      ]
     },
     "execution_count": 109,
     "metadata": {},
     "output_type": "execute_result"
    }
   ],
   "execution_count": 109
  },
  {
   "metadata": {},
   "cell_type": "markdown",
   "source": [
    "---"
   ],
   "id": "531065c7f8d592e5"
  },
  {
   "cell_type": "markdown",
   "id": "load-releases",
   "metadata": {},
   "source": [
    "## Releases Dataframe\n",
    "This dataset contains over 13 million entries with the columns 'id', representing the film ID, 'country', indicating the country of release, 'date', showing the release date, 'type', specifying the release type (e.g., Theatrical, Digital), and 'rating', representing the rating received in that country (e.g., PG, etc.)."
   ]
  },
  {
   "cell_type": "code",
   "id": "load-releases-code",
   "metadata": {
    "ExecuteTime": {
     "end_time": "2025-01-23T13:13:42.422985Z",
     "start_time": "2025-01-23T13:13:41.358882Z"
    }
   },
   "source": [
    "releases_df = pd.read_csv('../csv/releases.csv')"
   ],
   "outputs": [],
   "execution_count": 110
  },
  {
   "cell_type": "code",
   "id": "71f8201f9768083b",
   "metadata": {
    "ExecuteTime": {
     "end_time": "2025-01-23T13:13:42.460071Z",
     "start_time": "2025-01-23T13:13:42.453866Z"
    }
   },
   "source": [
    "releases_df.shape"
   ],
   "outputs": [
    {
     "data": {
      "text/plain": [
       "(1332782, 5)"
      ]
     },
     "execution_count": 111,
     "metadata": {},
     "output_type": "execute_result"
    }
   ],
   "execution_count": 111
  },
  {
   "cell_type": "markdown",
   "id": "42d66a3a04689c85",
   "metadata": {},
   "source": [
    "This dataset consists of 1,332,782 rows and 5 columns, providing detailed information about the film releases, including the country, date, type, and rating in each country."
   ]
  },
  {
   "cell_type": "code",
   "id": "9c1ad056efffed0e",
   "metadata": {
    "ExecuteTime": {
     "end_time": "2025-01-23T13:13:42.494680Z",
     "start_time": "2025-01-23T13:13:42.484012Z"
    }
   },
   "source": [
    "releases_df.head()"
   ],
   "outputs": [
    {
     "data": {
      "text/plain": [
       "        id    country        date        type rating\n",
       "0  1000001    Andorra  2023-07-21  Theatrical    NaN\n",
       "1  1000001  Argentina  2023-07-20  Theatrical    ATP\n",
       "2  1000001  Australia  2023-07-19  Theatrical     PG\n",
       "3  1000001  Australia  2023-10-01     Digital     PG\n",
       "4  1000001    Austria  2023-07-20  Theatrical    NaN"
      ],
      "text/html": [
       "<div>\n",
       "<style scoped>\n",
       "    .dataframe tbody tr th:only-of-type {\n",
       "        vertical-align: middle;\n",
       "    }\n",
       "\n",
       "    .dataframe tbody tr th {\n",
       "        vertical-align: top;\n",
       "    }\n",
       "\n",
       "    .dataframe thead th {\n",
       "        text-align: right;\n",
       "    }\n",
       "</style>\n",
       "<table border=\"1\" class=\"dataframe\">\n",
       "  <thead>\n",
       "    <tr style=\"text-align: right;\">\n",
       "      <th></th>\n",
       "      <th>id</th>\n",
       "      <th>country</th>\n",
       "      <th>date</th>\n",
       "      <th>type</th>\n",
       "      <th>rating</th>\n",
       "    </tr>\n",
       "  </thead>\n",
       "  <tbody>\n",
       "    <tr>\n",
       "      <th>0</th>\n",
       "      <td>1000001</td>\n",
       "      <td>Andorra</td>\n",
       "      <td>2023-07-21</td>\n",
       "      <td>Theatrical</td>\n",
       "      <td>NaN</td>\n",
       "    </tr>\n",
       "    <tr>\n",
       "      <th>1</th>\n",
       "      <td>1000001</td>\n",
       "      <td>Argentina</td>\n",
       "      <td>2023-07-20</td>\n",
       "      <td>Theatrical</td>\n",
       "      <td>ATP</td>\n",
       "    </tr>\n",
       "    <tr>\n",
       "      <th>2</th>\n",
       "      <td>1000001</td>\n",
       "      <td>Australia</td>\n",
       "      <td>2023-07-19</td>\n",
       "      <td>Theatrical</td>\n",
       "      <td>PG</td>\n",
       "    </tr>\n",
       "    <tr>\n",
       "      <th>3</th>\n",
       "      <td>1000001</td>\n",
       "      <td>Australia</td>\n",
       "      <td>2023-10-01</td>\n",
       "      <td>Digital</td>\n",
       "      <td>PG</td>\n",
       "    </tr>\n",
       "    <tr>\n",
       "      <th>4</th>\n",
       "      <td>1000001</td>\n",
       "      <td>Austria</td>\n",
       "      <td>2023-07-20</td>\n",
       "      <td>Theatrical</td>\n",
       "      <td>NaN</td>\n",
       "    </tr>\n",
       "  </tbody>\n",
       "</table>\n",
       "</div>"
      ]
     },
     "execution_count": 112,
     "metadata": {},
     "output_type": "execute_result"
    }
   ],
   "execution_count": 112
  },
  {
   "cell_type": "code",
   "id": "2b1b61417479568c",
   "metadata": {
    "ExecuteTime": {
     "end_time": "2025-01-23T13:13:43.225093Z",
     "start_time": "2025-01-23T13:13:42.568233Z"
    }
   },
   "source": [
    "releases_df['country'] = releases_df['country'].astype('string')\n",
    "releases_df['type'] = releases_df['type'].astype('string')\n",
    "releases_df['rating'] = releases_df['rating'].astype('string')\n",
    "releases_df['date'] = pd.to_datetime(releases_df['date'])\n",
    "\n",
    "releases_df.dtypes"
   ],
   "outputs": [
    {
     "data": {
      "text/plain": [
       "id                  int64\n",
       "country    string[python]\n",
       "date       datetime64[ns]\n",
       "type       string[python]\n",
       "rating     string[python]\n",
       "dtype: object"
      ]
     },
     "execution_count": 113,
     "metadata": {},
     "output_type": "execute_result"
    }
   ],
   "execution_count": 113
  },
  {
   "cell_type": "markdown",
   "id": "66e26a45b8aba853",
   "metadata": {},
   "source": [
    "The date column is currently stored as an object, which is not suitable for representing release dates; we will convert it to a proper date format for accurate analysis."
   ]
  },
  {
   "cell_type": "code",
   "id": "25f827f57681b3e",
   "metadata": {
    "ExecuteTime": {
     "end_time": "2025-01-23T13:13:43.482459Z",
     "start_time": "2025-01-23T13:13:43.318430Z"
    }
   },
   "source": [
    "releases_df.isna().sum()"
   ],
   "outputs": [
    {
     "data": {
      "text/plain": [
       "id              0\n",
       "country         0\n",
       "date            0\n",
       "type            0\n",
       "rating     998802\n",
       "dtype: int64"
      ]
     },
     "execution_count": 114,
     "metadata": {},
     "output_type": "execute_result"
    }
   ],
   "execution_count": 114
  },
  {
   "cell_type": "markdown",
   "id": "45e35a495fde0d31",
   "metadata": {},
   "source": [
    "There are many null values in the 'rating' column, but no action will be taken as they will be left as is, since they may represent cases where a rating was not assigned in certain countries."
   ]
  },
  {
   "cell_type": "code",
   "id": "31058c27406498d0",
   "metadata": {
    "ExecuteTime": {
     "end_time": "2025-01-23T13:13:44.249457Z",
     "start_time": "2025-01-23T13:13:43.555723Z"
    }
   },
   "source": [
    "releases_df.duplicated().sum()"
   ],
   "outputs": [
    {
     "data": {
      "text/plain": [
       "np.int64(0)"
      ]
     },
     "execution_count": 115,
     "metadata": {},
     "output_type": "execute_result"
    }
   ],
   "execution_count": 115
  },
  {
   "metadata": {},
   "cell_type": "markdown",
   "source": [
    "---"
   ],
   "id": "128e62354dae8fea"
  },
  {
   "metadata": {},
   "cell_type": "markdown",
   "source": "## Genres Dataframe",
   "id": "cf6a1aa2f68da2d5"
  },
  {
   "metadata": {
    "ExecuteTime": {
     "end_time": "2025-01-23T14:38:55.197564Z",
     "start_time": "2025-01-23T14:38:54.862869Z"
    }
   },
   "cell_type": "code",
   "source": "genres_df = pd.read_csv('../csv/genres.csv')",
   "id": "41eff81c8a978ac1",
   "outputs": [],
   "execution_count": 152
  },
  {
   "metadata": {
    "ExecuteTime": {
     "end_time": "2025-01-23T14:38:56.227536Z",
     "start_time": "2025-01-23T14:38:56.221661Z"
    }
   },
   "cell_type": "code",
   "source": "genres_df.shape",
   "id": "275ce8fbfff87d73",
   "outputs": [
    {
     "data": {
      "text/plain": [
       "(1046849, 2)"
      ]
     },
     "execution_count": 153,
     "metadata": {},
     "output_type": "execute_result"
    }
   ],
   "execution_count": 153
  },
  {
   "metadata": {
    "ExecuteTime": {
     "end_time": "2025-01-23T14:39:12.182118Z",
     "start_time": "2025-01-23T14:39:12.174144Z"
    }
   },
   "cell_type": "code",
   "source": "genres_df.head()",
   "id": "6ca612b52eaf5618",
   "outputs": [
    {
     "data": {
      "text/plain": [
       "        id      genre\n",
       "0  1000001     Comedy\n",
       "1  1000001  Adventure\n",
       "2  1000002     Comedy\n",
       "3  1000002   Thriller\n",
       "4  1000002      Drama"
      ],
      "text/html": [
       "<div>\n",
       "<style scoped>\n",
       "    .dataframe tbody tr th:only-of-type {\n",
       "        vertical-align: middle;\n",
       "    }\n",
       "\n",
       "    .dataframe tbody tr th {\n",
       "        vertical-align: top;\n",
       "    }\n",
       "\n",
       "    .dataframe thead th {\n",
       "        text-align: right;\n",
       "    }\n",
       "</style>\n",
       "<table border=\"1\" class=\"dataframe\">\n",
       "  <thead>\n",
       "    <tr style=\"text-align: right;\">\n",
       "      <th></th>\n",
       "      <th>id</th>\n",
       "      <th>genre</th>\n",
       "    </tr>\n",
       "  </thead>\n",
       "  <tbody>\n",
       "    <tr>\n",
       "      <th>0</th>\n",
       "      <td>1000001</td>\n",
       "      <td>Comedy</td>\n",
       "    </tr>\n",
       "    <tr>\n",
       "      <th>1</th>\n",
       "      <td>1000001</td>\n",
       "      <td>Adventure</td>\n",
       "    </tr>\n",
       "    <tr>\n",
       "      <th>2</th>\n",
       "      <td>1000002</td>\n",
       "      <td>Comedy</td>\n",
       "    </tr>\n",
       "    <tr>\n",
       "      <th>3</th>\n",
       "      <td>1000002</td>\n",
       "      <td>Thriller</td>\n",
       "    </tr>\n",
       "    <tr>\n",
       "      <th>4</th>\n",
       "      <td>1000002</td>\n",
       "      <td>Drama</td>\n",
       "    </tr>\n",
       "  </tbody>\n",
       "</table>\n",
       "</div>"
      ]
     },
     "execution_count": 154,
     "metadata": {},
     "output_type": "execute_result"
    }
   ],
   "execution_count": 154
  },
  {
   "metadata": {
    "ExecuteTime": {
     "end_time": "2025-01-23T14:39:55.313743Z",
     "start_time": "2025-01-23T14:39:55.307358Z"
    }
   },
   "cell_type": "code",
   "source": "genres_df.dtypes",
   "id": "f933163634db1a31",
   "outputs": [
    {
     "data": {
      "text/plain": [
       "id        int64\n",
       "genre    object\n",
       "dtype: object"
      ]
     },
     "execution_count": 155,
     "metadata": {},
     "output_type": "execute_result"
    }
   ],
   "execution_count": 155
  },
  {
   "metadata": {
    "ExecuteTime": {
     "end_time": "2025-01-23T14:40:34.837416Z",
     "start_time": "2025-01-23T14:40:34.800796Z"
    }
   },
   "cell_type": "code",
   "source": "genres_df['genre'] = genres_df['genre'].astype('string')",
   "id": "fdac503ae84d16f5",
   "outputs": [],
   "execution_count": 156
  },
  {
   "metadata": {
    "ExecuteTime": {
     "end_time": "2025-01-23T14:40:55.716856Z",
     "start_time": "2025-01-23T14:40:55.666887Z"
    }
   },
   "cell_type": "code",
   "source": "genres_df.isna().sum()",
   "id": "85268ef778dc531c",
   "outputs": [
    {
     "data": {
      "text/plain": [
       "id       0\n",
       "genre    0\n",
       "dtype: int64"
      ]
     },
     "execution_count": 157,
     "metadata": {},
     "output_type": "execute_result"
    }
   ],
   "execution_count": 157
  },
  {
   "metadata": {
    "ExecuteTime": {
     "end_time": "2025-01-23T14:41:09.417681Z",
     "start_time": "2025-01-23T14:41:09.186276Z"
    }
   },
   "cell_type": "code",
   "source": "genres_df.duplicated().sum()",
   "id": "35d98d017e919c9c",
   "outputs": [
    {
     "data": {
      "text/plain": [
       "np.int64(0)"
      ]
     },
     "execution_count": 158,
     "metadata": {},
     "output_type": "execute_result"
    }
   ],
   "execution_count": 158
  },
  {
   "metadata": {},
   "cell_type": "markdown",
   "source": "### Languages Dataframe",
   "id": "936a0bcb247a6c18"
  },
  {
   "metadata": {
    "ExecuteTime": {
     "end_time": "2025-01-23T14:42:40.818808Z",
     "start_time": "2025-01-23T14:42:40.113727Z"
    }
   },
   "cell_type": "code",
   "source": "languages_df = pd.read_csv('../csv/languages.csv')",
   "id": "b3f268b3661389c0",
   "outputs": [],
   "execution_count": 159
  },
  {
   "metadata": {
    "ExecuteTime": {
     "end_time": "2025-01-23T14:42:41.678213Z",
     "start_time": "2025-01-23T14:42:41.673024Z"
    }
   },
   "cell_type": "code",
   "source": "languages_df.shape",
   "id": "544d23ce95688ad6",
   "outputs": [
    {
     "data": {
      "text/plain": [
       "(1038762, 3)"
      ]
     },
     "execution_count": 160,
     "metadata": {},
     "output_type": "execute_result"
    }
   ],
   "execution_count": 160
  },
  {
   "metadata": {
    "ExecuteTime": {
     "end_time": "2025-01-23T14:42:49.472239Z",
     "start_time": "2025-01-23T14:42:49.463755Z"
    }
   },
   "cell_type": "code",
   "source": "languages_df.head()",
   "id": "3ee2e33fb44ba807",
   "outputs": [
    {
     "data": {
      "text/plain": [
       "        id              type language\n",
       "0  1000001          Language  English\n",
       "1  1000002  Primary language   Korean\n",
       "2  1000002   Spoken language  English\n",
       "3  1000002   Spoken language   German\n",
       "4  1000002   Spoken language   Korean"
      ],
      "text/html": [
       "<div>\n",
       "<style scoped>\n",
       "    .dataframe tbody tr th:only-of-type {\n",
       "        vertical-align: middle;\n",
       "    }\n",
       "\n",
       "    .dataframe tbody tr th {\n",
       "        vertical-align: top;\n",
       "    }\n",
       "\n",
       "    .dataframe thead th {\n",
       "        text-align: right;\n",
       "    }\n",
       "</style>\n",
       "<table border=\"1\" class=\"dataframe\">\n",
       "  <thead>\n",
       "    <tr style=\"text-align: right;\">\n",
       "      <th></th>\n",
       "      <th>id</th>\n",
       "      <th>type</th>\n",
       "      <th>language</th>\n",
       "    </tr>\n",
       "  </thead>\n",
       "  <tbody>\n",
       "    <tr>\n",
       "      <th>0</th>\n",
       "      <td>1000001</td>\n",
       "      <td>Language</td>\n",
       "      <td>English</td>\n",
       "    </tr>\n",
       "    <tr>\n",
       "      <th>1</th>\n",
       "      <td>1000002</td>\n",
       "      <td>Primary language</td>\n",
       "      <td>Korean</td>\n",
       "    </tr>\n",
       "    <tr>\n",
       "      <th>2</th>\n",
       "      <td>1000002</td>\n",
       "      <td>Spoken language</td>\n",
       "      <td>English</td>\n",
       "    </tr>\n",
       "    <tr>\n",
       "      <th>3</th>\n",
       "      <td>1000002</td>\n",
       "      <td>Spoken language</td>\n",
       "      <td>German</td>\n",
       "    </tr>\n",
       "    <tr>\n",
       "      <th>4</th>\n",
       "      <td>1000002</td>\n",
       "      <td>Spoken language</td>\n",
       "      <td>Korean</td>\n",
       "    </tr>\n",
       "  </tbody>\n",
       "</table>\n",
       "</div>"
      ]
     },
     "execution_count": 161,
     "metadata": {},
     "output_type": "execute_result"
    }
   ],
   "execution_count": 161
  },
  {
   "metadata": {
    "ExecuteTime": {
     "end_time": "2025-01-23T14:43:06.962905Z",
     "start_time": "2025-01-23T14:43:06.956471Z"
    }
   },
   "cell_type": "code",
   "source": "languages_df.dtypes",
   "id": "8c441037b03c521a",
   "outputs": [
    {
     "data": {
      "text/plain": [
       "id           int64\n",
       "type        object\n",
       "language    object\n",
       "dtype: object"
      ]
     },
     "execution_count": 162,
     "metadata": {},
     "output_type": "execute_result"
    }
   ],
   "execution_count": 162
  },
  {
   "metadata": {
    "ExecuteTime": {
     "end_time": "2025-01-23T14:43:30.600073Z",
     "start_time": "2025-01-23T14:43:30.513910Z"
    }
   },
   "cell_type": "code",
   "source": [
    "languages_df['language'] = languages_df['language'].astype('string')\n",
    "languages_df['type'] = languages_df['type'].astype('string')"
   ],
   "id": "d083a2e25df2b4fc",
   "outputs": [],
   "execution_count": 163
  },
  {
   "metadata": {
    "ExecuteTime": {
     "end_time": "2025-01-23T14:43:46.828952Z",
     "start_time": "2025-01-23T14:43:46.709595Z"
    }
   },
   "cell_type": "code",
   "source": "languages_df.isna().sum()",
   "id": "46336777c4112234",
   "outputs": [
    {
     "data": {
      "text/plain": [
       "id          0\n",
       "type        0\n",
       "language    0\n",
       "dtype: int64"
      ]
     },
     "execution_count": 164,
     "metadata": {},
     "output_type": "execute_result"
    }
   ],
   "execution_count": 164
  },
  {
   "metadata": {
    "ExecuteTime": {
     "end_time": "2025-01-23T14:43:53.893758Z",
     "start_time": "2025-01-23T14:43:53.543571Z"
    }
   },
   "cell_type": "code",
   "source": "languages_df.duplicated().sum()",
   "id": "af4c869fd30dc534",
   "outputs": [
    {
     "data": {
      "text/plain": [
       "np.int64(0)"
      ]
     },
     "execution_count": 165,
     "metadata": {},
     "output_type": "execute_result"
    }
   ],
   "execution_count": 165
  },
  {
   "metadata": {},
   "cell_type": "markdown",
   "source": "### Studios Dataframe",
   "id": "b34ea9bd84a97645"
  },
  {
   "metadata": {
    "ExecuteTime": {
     "end_time": "2025-01-23T14:44:47.281270Z",
     "start_time": "2025-01-23T14:44:46.779925Z"
    }
   },
   "cell_type": "code",
   "source": "studios_df = pd.read_csv('../csv/studios.csv')",
   "id": "4398cb9626c47ad5",
   "outputs": [],
   "execution_count": 166
  },
  {
   "metadata": {
    "ExecuteTime": {
     "end_time": "2025-01-23T14:44:51.149555Z",
     "start_time": "2025-01-23T14:44:51.143487Z"
    }
   },
   "cell_type": "code",
   "source": "studios_df.shape",
   "id": "dcc0833f86bf6468",
   "outputs": [
    {
     "data": {
      "text/plain": [
       "(679283, 2)"
      ]
     },
     "execution_count": 167,
     "metadata": {},
     "output_type": "execute_result"
    }
   ],
   "execution_count": 167
  },
  {
   "metadata": {
    "ExecuteTime": {
     "end_time": "2025-01-23T14:44:54.899699Z",
     "start_time": "2025-01-23T14:44:54.890579Z"
    }
   },
   "cell_type": "code",
   "source": "studios_df.head()",
   "id": "43fc3edcf2ecd434",
   "outputs": [
    {
     "data": {
      "text/plain": [
       "        id                   studio\n",
       "0  1000001  LuckyChap Entertainment\n",
       "1  1000001             Heyday Films\n",
       "2  1000001           NB/GG Pictures\n",
       "3  1000001                   Mattel\n",
       "4  1000001    Warner Bros. Pictures"
      ],
      "text/html": [
       "<div>\n",
       "<style scoped>\n",
       "    .dataframe tbody tr th:only-of-type {\n",
       "        vertical-align: middle;\n",
       "    }\n",
       "\n",
       "    .dataframe tbody tr th {\n",
       "        vertical-align: top;\n",
       "    }\n",
       "\n",
       "    .dataframe thead th {\n",
       "        text-align: right;\n",
       "    }\n",
       "</style>\n",
       "<table border=\"1\" class=\"dataframe\">\n",
       "  <thead>\n",
       "    <tr style=\"text-align: right;\">\n",
       "      <th></th>\n",
       "      <th>id</th>\n",
       "      <th>studio</th>\n",
       "    </tr>\n",
       "  </thead>\n",
       "  <tbody>\n",
       "    <tr>\n",
       "      <th>0</th>\n",
       "      <td>1000001</td>\n",
       "      <td>LuckyChap Entertainment</td>\n",
       "    </tr>\n",
       "    <tr>\n",
       "      <th>1</th>\n",
       "      <td>1000001</td>\n",
       "      <td>Heyday Films</td>\n",
       "    </tr>\n",
       "    <tr>\n",
       "      <th>2</th>\n",
       "      <td>1000001</td>\n",
       "      <td>NB/GG Pictures</td>\n",
       "    </tr>\n",
       "    <tr>\n",
       "      <th>3</th>\n",
       "      <td>1000001</td>\n",
       "      <td>Mattel</td>\n",
       "    </tr>\n",
       "    <tr>\n",
       "      <th>4</th>\n",
       "      <td>1000001</td>\n",
       "      <td>Warner Bros. Pictures</td>\n",
       "    </tr>\n",
       "  </tbody>\n",
       "</table>\n",
       "</div>"
      ]
     },
     "execution_count": 168,
     "metadata": {},
     "output_type": "execute_result"
    }
   ],
   "execution_count": 168
  },
  {
   "metadata": {
    "ExecuteTime": {
     "end_time": "2025-01-23T14:44:59.802584Z",
     "start_time": "2025-01-23T14:44:59.794421Z"
    }
   },
   "cell_type": "code",
   "source": "studios_df.dtypes",
   "id": "114bd7ae0cf571e1",
   "outputs": [
    {
     "data": {
      "text/plain": [
       "id         int64\n",
       "studio    object\n",
       "dtype: object"
      ]
     },
     "execution_count": 169,
     "metadata": {},
     "output_type": "execute_result"
    }
   ],
   "execution_count": 169
  },
  {
   "metadata": {
    "ExecuteTime": {
     "end_time": "2025-01-23T14:45:04.317893Z",
     "start_time": "2025-01-23T14:45:04.264339Z"
    }
   },
   "cell_type": "code",
   "source": "studios_df['studio'] = studios_df['studio'].astype('string')",
   "id": "388e4d4ead2679c9",
   "outputs": [],
   "execution_count": 170
  },
  {
   "metadata": {
    "ExecuteTime": {
     "end_time": "2025-01-23T14:45:11.701962Z",
     "start_time": "2025-01-23T14:45:11.638761Z"
    }
   },
   "cell_type": "code",
   "source": "studios_df.isna().sum()",
   "id": "55f177ca06931e27",
   "outputs": [
    {
     "data": {
      "text/plain": [
       "id         0\n",
       "studio    10\n",
       "dtype: int64"
      ]
     },
     "execution_count": 171,
     "metadata": {},
     "output_type": "execute_result"
    }
   ],
   "execution_count": 171
  },
  {
   "metadata": {
    "ExecuteTime": {
     "end_time": "2025-01-23T14:47:02.419137Z",
     "start_time": "2025-01-23T14:47:02.275993Z"
    }
   },
   "cell_type": "code",
   "source": [
    "studios_df = studios_df.dropna(subset=['studio'])\n",
    "studios_df.isna().sum()"
   ],
   "id": "a018b9ab6028e4e1",
   "outputs": [
    {
     "data": {
      "text/plain": [
       "id        0\n",
       "studio    0\n",
       "dtype: int64"
      ]
     },
     "execution_count": 173,
     "metadata": {},
     "output_type": "execute_result"
    }
   ],
   "execution_count": 173
  },
  {
   "metadata": {
    "ExecuteTime": {
     "end_time": "2025-01-23T14:47:09.928038Z",
     "start_time": "2025-01-23T14:47:09.627199Z"
    }
   },
   "cell_type": "code",
   "source": "studios_df.duplicated().sum()",
   "id": "3a46b9504e443127",
   "outputs": [
    {
     "data": {
      "text/plain": [
       "np.int64(212)"
      ]
     },
     "execution_count": 174,
     "metadata": {},
     "output_type": "execute_result"
    }
   ],
   "execution_count": 174
  },
  {
   "metadata": {
    "ExecuteTime": {
     "end_time": "2025-01-23T14:47:55.830575Z",
     "start_time": "2025-01-23T14:47:55.221196Z"
    }
   },
   "cell_type": "code",
   "source": [
    "studios_df = studios_df.drop_duplicates()\n",
    "studios_df.duplicated().sum()"
   ],
   "id": "8bd537d63fd93774",
   "outputs": [
    {
     "data": {
      "text/plain": [
       "np.int64(0)"
      ]
     },
     "execution_count": 177,
     "metadata": {},
     "output_type": "execute_result"
    }
   ],
   "execution_count": 177
  },
  {
   "metadata": {},
   "cell_type": "markdown",
   "source": "### Themes Dataframe",
   "id": "de2a4dab6b52e889"
  },
  {
   "metadata": {
    "ExecuteTime": {
     "end_time": "2025-01-23T14:49:01.038496Z",
     "start_time": "2025-01-23T14:49:00.965454Z"
    }
   },
   "cell_type": "code",
   "source": "themes_df = pd.read_csv('../csv/themes.csv')",
   "id": "c4b9e712a085005b",
   "outputs": [],
   "execution_count": 179
  },
  {
   "metadata": {
    "ExecuteTime": {
     "end_time": "2025-01-23T14:49:04.457405Z",
     "start_time": "2025-01-23T14:49:04.452044Z"
    }
   },
   "cell_type": "code",
   "source": "themes_df.shape",
   "id": "ba41db761910a27a",
   "outputs": [
    {
     "data": {
      "text/plain": [
       "(125641, 2)"
      ]
     },
     "execution_count": 180,
     "metadata": {},
     "output_type": "execute_result"
    }
   ],
   "execution_count": 180
  },
  {
   "metadata": {
    "ExecuteTime": {
     "end_time": "2025-01-23T14:49:08.851849Z",
     "start_time": "2025-01-23T14:49:08.844380Z"
    }
   },
   "cell_type": "code",
   "source": "themes_df.head()",
   "id": "98179d8d8e9e211",
   "outputs": [
    {
     "data": {
      "text/plain": [
       "        id                                              theme\n",
       "0  1000001                   Humanity and the world around us\n",
       "1  1000001                             Crude humor and satire\n",
       "2  1000001                        Moving relationship stories\n",
       "3  1000001     Emotional and captivating fantasy storytelling\n",
       "4  1000001  Surreal and thought-provoking visions of life ..."
      ],
      "text/html": [
       "<div>\n",
       "<style scoped>\n",
       "    .dataframe tbody tr th:only-of-type {\n",
       "        vertical-align: middle;\n",
       "    }\n",
       "\n",
       "    .dataframe tbody tr th {\n",
       "        vertical-align: top;\n",
       "    }\n",
       "\n",
       "    .dataframe thead th {\n",
       "        text-align: right;\n",
       "    }\n",
       "</style>\n",
       "<table border=\"1\" class=\"dataframe\">\n",
       "  <thead>\n",
       "    <tr style=\"text-align: right;\">\n",
       "      <th></th>\n",
       "      <th>id</th>\n",
       "      <th>theme</th>\n",
       "    </tr>\n",
       "  </thead>\n",
       "  <tbody>\n",
       "    <tr>\n",
       "      <th>0</th>\n",
       "      <td>1000001</td>\n",
       "      <td>Humanity and the world around us</td>\n",
       "    </tr>\n",
       "    <tr>\n",
       "      <th>1</th>\n",
       "      <td>1000001</td>\n",
       "      <td>Crude humor and satire</td>\n",
       "    </tr>\n",
       "    <tr>\n",
       "      <th>2</th>\n",
       "      <td>1000001</td>\n",
       "      <td>Moving relationship stories</td>\n",
       "    </tr>\n",
       "    <tr>\n",
       "      <th>3</th>\n",
       "      <td>1000001</td>\n",
       "      <td>Emotional and captivating fantasy storytelling</td>\n",
       "    </tr>\n",
       "    <tr>\n",
       "      <th>4</th>\n",
       "      <td>1000001</td>\n",
       "      <td>Surreal and thought-provoking visions of life ...</td>\n",
       "    </tr>\n",
       "  </tbody>\n",
       "</table>\n",
       "</div>"
      ]
     },
     "execution_count": 181,
     "metadata": {},
     "output_type": "execute_result"
    }
   ],
   "execution_count": 181
  },
  {
   "metadata": {
    "ExecuteTime": {
     "end_time": "2025-01-23T14:49:13.713055Z",
     "start_time": "2025-01-23T14:49:13.704403Z"
    }
   },
   "cell_type": "code",
   "source": "themes_df.dtypes",
   "id": "debb61ed37e924f2",
   "outputs": [
    {
     "data": {
      "text/plain": [
       "id        int64\n",
       "theme    object\n",
       "dtype: object"
      ]
     },
     "execution_count": 182,
     "metadata": {},
     "output_type": "execute_result"
    }
   ],
   "execution_count": 182
  },
  {
   "metadata": {
    "ExecuteTime": {
     "end_time": "2025-01-23T14:49:18.672551Z",
     "start_time": "2025-01-23T14:49:18.664799Z"
    }
   },
   "cell_type": "code",
   "source": "themes_df['theme'] = themes_df['theme'].astype('string')",
   "id": "6de3b1cb5eb5a2af",
   "outputs": [],
   "execution_count": 183
  },
  {
   "metadata": {
    "ExecuteTime": {
     "end_time": "2025-01-23T14:49:23.247293Z",
     "start_time": "2025-01-23T14:49:23.233672Z"
    }
   },
   "cell_type": "code",
   "source": "themes_df.isna().sum()",
   "id": "3edc9c9693da2a43",
   "outputs": [
    {
     "data": {
      "text/plain": [
       "id       0\n",
       "theme    0\n",
       "dtype: int64"
      ]
     },
     "execution_count": 184,
     "metadata": {},
     "output_type": "execute_result"
    }
   ],
   "execution_count": 184
  },
  {
   "metadata": {
    "ExecuteTime": {
     "end_time": "2025-01-23T14:49:30.137389Z",
     "start_time": "2025-01-23T14:49:30.103122Z"
    }
   },
   "cell_type": "code",
   "source": "themes_df.duplicated().sum()",
   "id": "899cf9f025b5bf77",
   "outputs": [
    {
     "data": {
      "text/plain": [
       "np.int64(0)"
      ]
     },
     "execution_count": 185,
     "metadata": {},
     "output_type": "execute_result"
    }
   ],
   "execution_count": 185
  },
  {
   "cell_type": "markdown",
   "id": "load-oscar-awards",
   "metadata": {},
   "source": [
    "## Oscar Awards Dataframe\n",
    "This dataset contains over 10,000 entries about Oscar candidates, with the columns 'year_film', representing the year the film was issued, 'year_ceremony', indicating the year of the ceremony, 'category', specifying the category (e.g., actor), 'name', showing the name of the person, 'film', listing the title of the film, and 'winner', indicating whether they won or not."
   ]
  },
  {
   "cell_type": "code",
   "id": "load-oscar-awards-code",
   "metadata": {
    "ExecuteTime": {
     "end_time": "2025-01-23T13:13:44.325416Z",
     "start_time": "2025-01-23T13:13:44.290577Z"
    }
   },
   "source": [
    "oscar_awards_df = pd.read_csv('../csv/the_oscar_awards.csv')"
   ],
   "outputs": [],
   "execution_count": 116
  },
  {
   "cell_type": "code",
   "id": "106695fa4d3637e3",
   "metadata": {
    "ExecuteTime": {
     "end_time": "2025-01-23T13:13:44.361760Z",
     "start_time": "2025-01-23T13:13:44.357419Z"
    }
   },
   "source": [
    "oscar_awards_df.shape"
   ],
   "outputs": [
    {
     "data": {
      "text/plain": [
       "(10889, 7)"
      ]
     },
     "execution_count": 117,
     "metadata": {},
     "output_type": "execute_result"
    }
   ],
   "execution_count": 117
  },
  {
   "cell_type": "markdown",
   "id": "e09c0ff7e43959c8",
   "metadata": {},
   "source": [
    "This dataset consists of 10,889 rows and 7 columns, providing detailed information about Oscar candidates, including the year of the film, ceremony, category, person, film title, and whether the candidate won."
   ]
  },
  {
   "cell_type": "code",
   "id": "9b37c907656830ad",
   "metadata": {
    "ExecuteTime": {
     "end_time": "2025-01-23T13:13:44.425580Z",
     "start_time": "2025-01-23T13:13:44.414486Z"
    }
   },
   "source": [
    "oscar_awards_df.head()"
   ],
   "outputs": [
    {
     "data": {
      "text/plain": [
       "   year_film  year_ceremony  ceremony category                 name  \\\n",
       "0       1927           1928         1    ACTOR  Richard Barthelmess   \n",
       "1       1927           1928         1    ACTOR        Emil Jannings   \n",
       "2       1927           1928         1  ACTRESS       Louise Dresser   \n",
       "3       1927           1928         1  ACTRESS         Janet Gaynor   \n",
       "4       1927           1928         1  ACTRESS       Gloria Swanson   \n",
       "\n",
       "               film  winner  \n",
       "0         The Noose   False  \n",
       "1  The Last Command    True  \n",
       "2   A Ship Comes In   False  \n",
       "3        7th Heaven    True  \n",
       "4    Sadie Thompson   False  "
      ],
      "text/html": [
       "<div>\n",
       "<style scoped>\n",
       "    .dataframe tbody tr th:only-of-type {\n",
       "        vertical-align: middle;\n",
       "    }\n",
       "\n",
       "    .dataframe tbody tr th {\n",
       "        vertical-align: top;\n",
       "    }\n",
       "\n",
       "    .dataframe thead th {\n",
       "        text-align: right;\n",
       "    }\n",
       "</style>\n",
       "<table border=\"1\" class=\"dataframe\">\n",
       "  <thead>\n",
       "    <tr style=\"text-align: right;\">\n",
       "      <th></th>\n",
       "      <th>year_film</th>\n",
       "      <th>year_ceremony</th>\n",
       "      <th>ceremony</th>\n",
       "      <th>category</th>\n",
       "      <th>name</th>\n",
       "      <th>film</th>\n",
       "      <th>winner</th>\n",
       "    </tr>\n",
       "  </thead>\n",
       "  <tbody>\n",
       "    <tr>\n",
       "      <th>0</th>\n",
       "      <td>1927</td>\n",
       "      <td>1928</td>\n",
       "      <td>1</td>\n",
       "      <td>ACTOR</td>\n",
       "      <td>Richard Barthelmess</td>\n",
       "      <td>The Noose</td>\n",
       "      <td>False</td>\n",
       "    </tr>\n",
       "    <tr>\n",
       "      <th>1</th>\n",
       "      <td>1927</td>\n",
       "      <td>1928</td>\n",
       "      <td>1</td>\n",
       "      <td>ACTOR</td>\n",
       "      <td>Emil Jannings</td>\n",
       "      <td>The Last Command</td>\n",
       "      <td>True</td>\n",
       "    </tr>\n",
       "    <tr>\n",
       "      <th>2</th>\n",
       "      <td>1927</td>\n",
       "      <td>1928</td>\n",
       "      <td>1</td>\n",
       "      <td>ACTRESS</td>\n",
       "      <td>Louise Dresser</td>\n",
       "      <td>A Ship Comes In</td>\n",
       "      <td>False</td>\n",
       "    </tr>\n",
       "    <tr>\n",
       "      <th>3</th>\n",
       "      <td>1927</td>\n",
       "      <td>1928</td>\n",
       "      <td>1</td>\n",
       "      <td>ACTRESS</td>\n",
       "      <td>Janet Gaynor</td>\n",
       "      <td>7th Heaven</td>\n",
       "      <td>True</td>\n",
       "    </tr>\n",
       "    <tr>\n",
       "      <th>4</th>\n",
       "      <td>1927</td>\n",
       "      <td>1928</td>\n",
       "      <td>1</td>\n",
       "      <td>ACTRESS</td>\n",
       "      <td>Gloria Swanson</td>\n",
       "      <td>Sadie Thompson</td>\n",
       "      <td>False</td>\n",
       "    </tr>\n",
       "  </tbody>\n",
       "</table>\n",
       "</div>"
      ]
     },
     "execution_count": 118,
     "metadata": {},
     "output_type": "execute_result"
    }
   ],
   "execution_count": 118
  },
  {
   "cell_type": "code",
   "id": "2871aea2c6245762",
   "metadata": {
    "ExecuteTime": {
     "end_time": "2025-01-23T13:13:44.497507Z",
     "start_time": "2025-01-23T13:13:44.486418Z"
    }
   },
   "source": [
    "oscar_awards_df['category'] = oscar_awards_df['category'].astype('string')\n",
    "oscar_awards_df['name'] = oscar_awards_df['name'].astype('string')\n",
    "oscar_awards_df['film'] = oscar_awards_df['film'].astype('string')\n",
    "\n",
    "oscar_awards_df.dtypes"
   ],
   "outputs": [
    {
     "data": {
      "text/plain": [
       "year_film                 int64\n",
       "year_ceremony             int64\n",
       "ceremony                  int64\n",
       "category         string[python]\n",
       "name             string[python]\n",
       "film             string[python]\n",
       "winner                     bool\n",
       "dtype: object"
      ]
     },
     "execution_count": 119,
     "metadata": {},
     "output_type": "execute_result"
    }
   ],
   "execution_count": 119
  },
  {
   "cell_type": "code",
   "id": "3ff5ae0d20e2058b",
   "metadata": {
    "ExecuteTime": {
     "end_time": "2025-01-23T13:13:44.590568Z",
     "start_time": "2025-01-23T13:13:44.582935Z"
    }
   },
   "source": [
    "oscar_awards_df.isna().sum()"
   ],
   "outputs": [
    {
     "data": {
      "text/plain": [
       "year_film          0\n",
       "year_ceremony      0\n",
       "ceremony           0\n",
       "category           0\n",
       "name               5\n",
       "film             319\n",
       "winner             0\n",
       "dtype: int64"
      ]
     },
     "execution_count": 120,
     "metadata": {},
     "output_type": "execute_result"
    }
   ],
   "execution_count": 120
  },
  {
   "cell_type": "code",
   "id": "32610c9f6c0c5109",
   "metadata": {
    "ExecuteTime": {
     "end_time": "2025-01-23T13:13:44.803514Z",
     "start_time": "2025-01-23T13:13:44.787369Z"
    }
   },
   "source": [
    "oscar_awards_df[oscar_awards_df['name'].isnull()]"
   ],
   "outputs": [
    {
     "data": {
      "text/plain": [
       "       year_film  year_ceremony  ceremony                          category  \\\n",
       "10513       2020           2021        93  JEAN HERSHOLT HUMANITARIAN AWARD   \n",
       "10514       2020           2021        93  JEAN HERSHOLT HUMANITARIAN AWARD   \n",
       "10635       2021           2022        94  JEAN HERSHOLT HUMANITARIAN AWARD   \n",
       "10759       2022           2023        95  JEAN HERSHOLT HUMANITARIAN AWARD   \n",
       "10885       2023           2024        96  JEAN HERSHOLT HUMANITARIAN AWARD   \n",
       "\n",
       "       name  film  winner  \n",
       "10513  <NA>  <NA>    True  \n",
       "10514  <NA>  <NA>    True  \n",
       "10635  <NA>  <NA>    True  \n",
       "10759  <NA>  <NA>    True  \n",
       "10885  <NA>  <NA>    True  "
      ],
      "text/html": [
       "<div>\n",
       "<style scoped>\n",
       "    .dataframe tbody tr th:only-of-type {\n",
       "        vertical-align: middle;\n",
       "    }\n",
       "\n",
       "    .dataframe tbody tr th {\n",
       "        vertical-align: top;\n",
       "    }\n",
       "\n",
       "    .dataframe thead th {\n",
       "        text-align: right;\n",
       "    }\n",
       "</style>\n",
       "<table border=\"1\" class=\"dataframe\">\n",
       "  <thead>\n",
       "    <tr style=\"text-align: right;\">\n",
       "      <th></th>\n",
       "      <th>year_film</th>\n",
       "      <th>year_ceremony</th>\n",
       "      <th>ceremony</th>\n",
       "      <th>category</th>\n",
       "      <th>name</th>\n",
       "      <th>film</th>\n",
       "      <th>winner</th>\n",
       "    </tr>\n",
       "  </thead>\n",
       "  <tbody>\n",
       "    <tr>\n",
       "      <th>10513</th>\n",
       "      <td>2020</td>\n",
       "      <td>2021</td>\n",
       "      <td>93</td>\n",
       "      <td>JEAN HERSHOLT HUMANITARIAN AWARD</td>\n",
       "      <td>&lt;NA&gt;</td>\n",
       "      <td>&lt;NA&gt;</td>\n",
       "      <td>True</td>\n",
       "    </tr>\n",
       "    <tr>\n",
       "      <th>10514</th>\n",
       "      <td>2020</td>\n",
       "      <td>2021</td>\n",
       "      <td>93</td>\n",
       "      <td>JEAN HERSHOLT HUMANITARIAN AWARD</td>\n",
       "      <td>&lt;NA&gt;</td>\n",
       "      <td>&lt;NA&gt;</td>\n",
       "      <td>True</td>\n",
       "    </tr>\n",
       "    <tr>\n",
       "      <th>10635</th>\n",
       "      <td>2021</td>\n",
       "      <td>2022</td>\n",
       "      <td>94</td>\n",
       "      <td>JEAN HERSHOLT HUMANITARIAN AWARD</td>\n",
       "      <td>&lt;NA&gt;</td>\n",
       "      <td>&lt;NA&gt;</td>\n",
       "      <td>True</td>\n",
       "    </tr>\n",
       "    <tr>\n",
       "      <th>10759</th>\n",
       "      <td>2022</td>\n",
       "      <td>2023</td>\n",
       "      <td>95</td>\n",
       "      <td>JEAN HERSHOLT HUMANITARIAN AWARD</td>\n",
       "      <td>&lt;NA&gt;</td>\n",
       "      <td>&lt;NA&gt;</td>\n",
       "      <td>True</td>\n",
       "    </tr>\n",
       "    <tr>\n",
       "      <th>10885</th>\n",
       "      <td>2023</td>\n",
       "      <td>2024</td>\n",
       "      <td>96</td>\n",
       "      <td>JEAN HERSHOLT HUMANITARIAN AWARD</td>\n",
       "      <td>&lt;NA&gt;</td>\n",
       "      <td>&lt;NA&gt;</td>\n",
       "      <td>True</td>\n",
       "    </tr>\n",
       "  </tbody>\n",
       "</table>\n",
       "</div>"
      ]
     },
     "execution_count": 121,
     "metadata": {},
     "output_type": "execute_result"
    }
   ],
   "execution_count": 121
  },
  {
   "cell_type": "code",
   "id": "9066b6bcc203917b",
   "metadata": {
    "ExecuteTime": {
     "end_time": "2025-01-23T13:13:45.031889Z",
     "start_time": "2025-01-23T13:13:45.013843Z"
    }
   },
   "source": [
    "oscar_awards_df[oscar_awards_df['film'].isnull()]"
   ],
   "outputs": [
    {
     "data": {
      "text/plain": [
       "       year_film  year_ceremony  ceremony                          category  \\\n",
       "16          1927           1928         1               ENGINEERING EFFECTS   \n",
       "18          1927           1928         1               ENGINEERING EFFECTS   \n",
       "31          1927           1928         1           WRITING (Title Writing)   \n",
       "32          1927           1928         1           WRITING (Title Writing)   \n",
       "33          1927           1928         1                     SPECIAL AWARD   \n",
       "...          ...            ...       ...                               ...   \n",
       "10763       2022           2023        95            GORDON E. SAWYER AWARD   \n",
       "10885       2023           2024        96  JEAN HERSHOLT HUMANITARIAN AWARD   \n",
       "10886       2023           2024        96                    HONORARY AWARD   \n",
       "10887       2023           2024        96                    HONORARY AWARD   \n",
       "10888       2023           2024        96                    HONORARY AWARD   \n",
       "\n",
       "                                                    name  film  winner  \n",
       "16                                        Ralph Hammeras  <NA>   False  \n",
       "18                                      Nugent Slaughter  <NA>   False  \n",
       "31                                        Joseph Farnham  <NA>    True  \n",
       "32                                    George Marion, Jr.  <NA>   False  \n",
       "33                                          Warner Bros.  <NA>    True  \n",
       "...                                                  ...   ...     ...  \n",
       "10763                                          Iain Neil  <NA>    True  \n",
       "10885                                               <NA>  <NA>    True  \n",
       "10886  To Angela Bassett, who has inspired audiences ...  <NA>    True  \n",
       "10887  To Mel Brooks, for his comedic brilliance, pro...  <NA>    True  \n",
       "10888  To Carol Littleton, whose commitment to her cr...  <NA>    True  \n",
       "\n",
       "[319 rows x 7 columns]"
      ],
      "text/html": [
       "<div>\n",
       "<style scoped>\n",
       "    .dataframe tbody tr th:only-of-type {\n",
       "        vertical-align: middle;\n",
       "    }\n",
       "\n",
       "    .dataframe tbody tr th {\n",
       "        vertical-align: top;\n",
       "    }\n",
       "\n",
       "    .dataframe thead th {\n",
       "        text-align: right;\n",
       "    }\n",
       "</style>\n",
       "<table border=\"1\" class=\"dataframe\">\n",
       "  <thead>\n",
       "    <tr style=\"text-align: right;\">\n",
       "      <th></th>\n",
       "      <th>year_film</th>\n",
       "      <th>year_ceremony</th>\n",
       "      <th>ceremony</th>\n",
       "      <th>category</th>\n",
       "      <th>name</th>\n",
       "      <th>film</th>\n",
       "      <th>winner</th>\n",
       "    </tr>\n",
       "  </thead>\n",
       "  <tbody>\n",
       "    <tr>\n",
       "      <th>16</th>\n",
       "      <td>1927</td>\n",
       "      <td>1928</td>\n",
       "      <td>1</td>\n",
       "      <td>ENGINEERING EFFECTS</td>\n",
       "      <td>Ralph Hammeras</td>\n",
       "      <td>&lt;NA&gt;</td>\n",
       "      <td>False</td>\n",
       "    </tr>\n",
       "    <tr>\n",
       "      <th>18</th>\n",
       "      <td>1927</td>\n",
       "      <td>1928</td>\n",
       "      <td>1</td>\n",
       "      <td>ENGINEERING EFFECTS</td>\n",
       "      <td>Nugent Slaughter</td>\n",
       "      <td>&lt;NA&gt;</td>\n",
       "      <td>False</td>\n",
       "    </tr>\n",
       "    <tr>\n",
       "      <th>31</th>\n",
       "      <td>1927</td>\n",
       "      <td>1928</td>\n",
       "      <td>1</td>\n",
       "      <td>WRITING (Title Writing)</td>\n",
       "      <td>Joseph Farnham</td>\n",
       "      <td>&lt;NA&gt;</td>\n",
       "      <td>True</td>\n",
       "    </tr>\n",
       "    <tr>\n",
       "      <th>32</th>\n",
       "      <td>1927</td>\n",
       "      <td>1928</td>\n",
       "      <td>1</td>\n",
       "      <td>WRITING (Title Writing)</td>\n",
       "      <td>George Marion, Jr.</td>\n",
       "      <td>&lt;NA&gt;</td>\n",
       "      <td>False</td>\n",
       "    </tr>\n",
       "    <tr>\n",
       "      <th>33</th>\n",
       "      <td>1927</td>\n",
       "      <td>1928</td>\n",
       "      <td>1</td>\n",
       "      <td>SPECIAL AWARD</td>\n",
       "      <td>Warner Bros.</td>\n",
       "      <td>&lt;NA&gt;</td>\n",
       "      <td>True</td>\n",
       "    </tr>\n",
       "    <tr>\n",
       "      <th>...</th>\n",
       "      <td>...</td>\n",
       "      <td>...</td>\n",
       "      <td>...</td>\n",
       "      <td>...</td>\n",
       "      <td>...</td>\n",
       "      <td>...</td>\n",
       "      <td>...</td>\n",
       "    </tr>\n",
       "    <tr>\n",
       "      <th>10763</th>\n",
       "      <td>2022</td>\n",
       "      <td>2023</td>\n",
       "      <td>95</td>\n",
       "      <td>GORDON E. SAWYER AWARD</td>\n",
       "      <td>Iain Neil</td>\n",
       "      <td>&lt;NA&gt;</td>\n",
       "      <td>True</td>\n",
       "    </tr>\n",
       "    <tr>\n",
       "      <th>10885</th>\n",
       "      <td>2023</td>\n",
       "      <td>2024</td>\n",
       "      <td>96</td>\n",
       "      <td>JEAN HERSHOLT HUMANITARIAN AWARD</td>\n",
       "      <td>&lt;NA&gt;</td>\n",
       "      <td>&lt;NA&gt;</td>\n",
       "      <td>True</td>\n",
       "    </tr>\n",
       "    <tr>\n",
       "      <th>10886</th>\n",
       "      <td>2023</td>\n",
       "      <td>2024</td>\n",
       "      <td>96</td>\n",
       "      <td>HONORARY AWARD</td>\n",
       "      <td>To Angela Bassett, who has inspired audiences ...</td>\n",
       "      <td>&lt;NA&gt;</td>\n",
       "      <td>True</td>\n",
       "    </tr>\n",
       "    <tr>\n",
       "      <th>10887</th>\n",
       "      <td>2023</td>\n",
       "      <td>2024</td>\n",
       "      <td>96</td>\n",
       "      <td>HONORARY AWARD</td>\n",
       "      <td>To Mel Brooks, for his comedic brilliance, pro...</td>\n",
       "      <td>&lt;NA&gt;</td>\n",
       "      <td>True</td>\n",
       "    </tr>\n",
       "    <tr>\n",
       "      <th>10888</th>\n",
       "      <td>2023</td>\n",
       "      <td>2024</td>\n",
       "      <td>96</td>\n",
       "      <td>HONORARY AWARD</td>\n",
       "      <td>To Carol Littleton, whose commitment to her cr...</td>\n",
       "      <td>&lt;NA&gt;</td>\n",
       "      <td>True</td>\n",
       "    </tr>\n",
       "  </tbody>\n",
       "</table>\n",
       "<p>319 rows × 7 columns</p>\n",
       "</div>"
      ]
     },
     "execution_count": 122,
     "metadata": {},
     "output_type": "execute_result"
    }
   ],
   "execution_count": 122
  },
  {
   "metadata": {},
   "cell_type": "markdown",
   "source": [
    "Null values were found, but will be kept as it may represent an important entry for the context of the dataset."
   ],
   "id": "163ca4e30dcd24ab"
  },
  {
   "cell_type": "code",
   "id": "remove-invalid-oscar",
   "metadata": {
    "ExecuteTime": {
     "end_time": "2025-01-23T13:13:45.378964Z",
     "start_time": "2025-01-23T13:13:45.363595Z"
    }
   },
   "source": [
    "invalid_oscar = oscar_awards_df[oscar_awards_df['name'].isna() & oscar_awards_df['film'].isna()]\n",
    "\n",
    "invalid_oscar"
   ],
   "outputs": [
    {
     "data": {
      "text/plain": [
       "       year_film  year_ceremony  ceremony                          category  \\\n",
       "10513       2020           2021        93  JEAN HERSHOLT HUMANITARIAN AWARD   \n",
       "10514       2020           2021        93  JEAN HERSHOLT HUMANITARIAN AWARD   \n",
       "10635       2021           2022        94  JEAN HERSHOLT HUMANITARIAN AWARD   \n",
       "10759       2022           2023        95  JEAN HERSHOLT HUMANITARIAN AWARD   \n",
       "10885       2023           2024        96  JEAN HERSHOLT HUMANITARIAN AWARD   \n",
       "\n",
       "       name  film  winner  \n",
       "10513  <NA>  <NA>    True  \n",
       "10514  <NA>  <NA>    True  \n",
       "10635  <NA>  <NA>    True  \n",
       "10759  <NA>  <NA>    True  \n",
       "10885  <NA>  <NA>    True  "
      ],
      "text/html": [
       "<div>\n",
       "<style scoped>\n",
       "    .dataframe tbody tr th:only-of-type {\n",
       "        vertical-align: middle;\n",
       "    }\n",
       "\n",
       "    .dataframe tbody tr th {\n",
       "        vertical-align: top;\n",
       "    }\n",
       "\n",
       "    .dataframe thead th {\n",
       "        text-align: right;\n",
       "    }\n",
       "</style>\n",
       "<table border=\"1\" class=\"dataframe\">\n",
       "  <thead>\n",
       "    <tr style=\"text-align: right;\">\n",
       "      <th></th>\n",
       "      <th>year_film</th>\n",
       "      <th>year_ceremony</th>\n",
       "      <th>ceremony</th>\n",
       "      <th>category</th>\n",
       "      <th>name</th>\n",
       "      <th>film</th>\n",
       "      <th>winner</th>\n",
       "    </tr>\n",
       "  </thead>\n",
       "  <tbody>\n",
       "    <tr>\n",
       "      <th>10513</th>\n",
       "      <td>2020</td>\n",
       "      <td>2021</td>\n",
       "      <td>93</td>\n",
       "      <td>JEAN HERSHOLT HUMANITARIAN AWARD</td>\n",
       "      <td>&lt;NA&gt;</td>\n",
       "      <td>&lt;NA&gt;</td>\n",
       "      <td>True</td>\n",
       "    </tr>\n",
       "    <tr>\n",
       "      <th>10514</th>\n",
       "      <td>2020</td>\n",
       "      <td>2021</td>\n",
       "      <td>93</td>\n",
       "      <td>JEAN HERSHOLT HUMANITARIAN AWARD</td>\n",
       "      <td>&lt;NA&gt;</td>\n",
       "      <td>&lt;NA&gt;</td>\n",
       "      <td>True</td>\n",
       "    </tr>\n",
       "    <tr>\n",
       "      <th>10635</th>\n",
       "      <td>2021</td>\n",
       "      <td>2022</td>\n",
       "      <td>94</td>\n",
       "      <td>JEAN HERSHOLT HUMANITARIAN AWARD</td>\n",
       "      <td>&lt;NA&gt;</td>\n",
       "      <td>&lt;NA&gt;</td>\n",
       "      <td>True</td>\n",
       "    </tr>\n",
       "    <tr>\n",
       "      <th>10759</th>\n",
       "      <td>2022</td>\n",
       "      <td>2023</td>\n",
       "      <td>95</td>\n",
       "      <td>JEAN HERSHOLT HUMANITARIAN AWARD</td>\n",
       "      <td>&lt;NA&gt;</td>\n",
       "      <td>&lt;NA&gt;</td>\n",
       "      <td>True</td>\n",
       "    </tr>\n",
       "    <tr>\n",
       "      <th>10885</th>\n",
       "      <td>2023</td>\n",
       "      <td>2024</td>\n",
       "      <td>96</td>\n",
       "      <td>JEAN HERSHOLT HUMANITARIAN AWARD</td>\n",
       "      <td>&lt;NA&gt;</td>\n",
       "      <td>&lt;NA&gt;</td>\n",
       "      <td>True</td>\n",
       "    </tr>\n",
       "  </tbody>\n",
       "</table>\n",
       "</div>"
      ]
     },
     "execution_count": 123,
     "metadata": {},
     "output_type": "execute_result"
    }
   ],
   "execution_count": 123
  },
  {
   "metadata": {
    "ExecuteTime": {
     "end_time": "2025-01-23T13:13:46.039511Z",
     "start_time": "2025-01-23T13:13:46.030496Z"
    }
   },
   "cell_type": "code",
   "source": [
    "oscar_awards_df = oscar_awards_df.drop(invalid_oscar.index)"
   ],
   "id": "2bf71ae490832444",
   "outputs": [],
   "execution_count": 124
  },
  {
   "metadata": {},
   "cell_type": "markdown",
   "source": [
    "The <i>Jean Hersholt Humanitarian Award</i> is a special category for exceptional contributions to humanitarian causes.\n",
    "\n",
    "Since tuples have no value for <code>name</code>, we decided not to keep them."
   ],
   "id": "9c917ffb741b7a4d"
  },
  {
   "metadata": {
    "ExecuteTime": {
     "end_time": "2025-01-23T13:13:46.507500Z",
     "start_time": "2025-01-23T13:13:46.486522Z"
    }
   },
   "cell_type": "code",
   "source": "oscar_awards_df.duplicated().sum()",
   "id": "6fd07f8e7c45358b",
   "outputs": [
    {
     "data": {
      "text/plain": [
       "np.int64(6)"
      ]
     },
     "execution_count": 125,
     "metadata": {},
     "output_type": "execute_result"
    }
   ],
   "execution_count": 125
  },
  {
   "metadata": {
    "ExecuteTime": {
     "end_time": "2025-01-23T13:13:46.820538Z",
     "start_time": "2025-01-23T13:13:46.799617Z"
    }
   },
   "cell_type": "code",
   "source": "oscar_awards_df = oscar_awards_df.drop_duplicates()",
   "id": "c1d3834be9665725",
   "outputs": [],
   "execution_count": 126
  },
  {
   "metadata": {
    "ExecuteTime": {
     "end_time": "2025-01-23T13:13:47.031983Z",
     "start_time": "2025-01-23T13:13:47.010829Z"
    }
   },
   "cell_type": "code",
   "source": "oscar_awards_df.duplicated().sum()",
   "id": "a0057cb3726b000e",
   "outputs": [
    {
     "data": {
      "text/plain": [
       "np.int64(0)"
      ]
     },
     "execution_count": 127,
     "metadata": {},
     "output_type": "execute_result"
    }
   ],
   "execution_count": 127
  },
  {
   "metadata": {},
   "cell_type": "markdown",
   "source": "All the duplicates have been removed.",
   "id": "e3294c1663775ee3"
  },
  {
   "metadata": {},
   "cell_type": "markdown",
   "source": [
    "---"
   ],
   "id": "4a79559737e4cc34"
  },
  {
   "metadata": {},
   "cell_type": "markdown",
   "source": [
    "## Rotten Tomatoes Reviews Dataframe\n",
    "This dataset contains over 1.1 million reviews from Rotten Tomatoes, with the columns <code>rotten_tomatoes_link</code>, providing the URL of the Rotten Tomatoes page, <code>movie_title</code>, indicating the title of the movie, <code>critic_name</code>, showing the name of the critic, <code>top_critic</code>, indicating if the critic is a top critic, <code>publisher_name</code>, specifying where the review was published, <code>review_type</code>, categorizing the type of review, <code>review_score</code>, representing the score given in the review, <code>review_date</code>, showing the date of the review, and <code>review_content</code>, containing the text of the actual review."
   ],
   "id": "load-rotten-tomatoes-reviews"
  },
  {
   "metadata": {
    "ExecuteTime": {
     "end_time": "2025-01-23T13:13:50.936549Z",
     "start_time": "2025-01-23T13:13:47.145923Z"
    }
   },
   "cell_type": "code",
   "source": [
    "rotten_tomatoes_df = pd.read_csv('../csv/rotten_tomatoes_reviews.csv')"
   ],
   "id": "load-rotten-tomatoes-reviews-code",
   "outputs": [],
   "execution_count": 128
  },
  {
   "metadata": {
    "ExecuteTime": {
     "end_time": "2025-01-23T13:13:50.968142Z",
     "start_time": "2025-01-23T13:13:50.962659Z"
    }
   },
   "cell_type": "code",
   "source": [
    "rotten_tomatoes_df.shape"
   ],
   "id": "54a4e614e1a53c8e",
   "outputs": [
    {
     "data": {
      "text/plain": [
       "(1129887, 9)"
      ]
     },
     "execution_count": 129,
     "metadata": {},
     "output_type": "execute_result"
    }
   ],
   "execution_count": 129
  },
  {
   "metadata": {},
   "cell_type": "markdown",
   "source": [
    "This dataset consists of 1,129,887 rows and 9 columns, providing detailed information about Rotten Tomatoes reviews, including the review URL, movie title, critic details, review score, date, and content."
   ],
   "id": "f6e51c67b7db18b3"
  },
  {
   "metadata": {
    "ExecuteTime": {
     "end_time": "2025-01-23T13:13:51.011057Z",
     "start_time": "2025-01-23T13:13:50.998228Z"
    }
   },
   "cell_type": "code",
   "source": [
    "rotten_tomatoes_df"
   ],
   "id": "ae7565a312e6bc5e",
   "outputs": [
    {
     "data": {
      "text/plain": [
       "        rotten_tomatoes_link  \\\n",
       "0                  m/0814255   \n",
       "1                  m/0814255   \n",
       "2                  m/0814255   \n",
       "3                  m/0814255   \n",
       "4                  m/0814255   \n",
       "...                      ...   \n",
       "1129882          m/zulu_dawn   \n",
       "1129883          m/zulu_dawn   \n",
       "1129884          m/zulu_dawn   \n",
       "1129885          m/zulu_dawn   \n",
       "1129886          m/zulu_dawn   \n",
       "\n",
       "                                               movie_title        critic_name  \\\n",
       "0        Percy Jackson & the Olympians: The Lightning T...    Andrew L. Urban   \n",
       "1        Percy Jackson & the Olympians: The Lightning T...      Louise Keller   \n",
       "2        Percy Jackson & the Olympians: The Lightning T...                NaN   \n",
       "3        Percy Jackson & the Olympians: The Lightning T...       Ben McEachen   \n",
       "4        Percy Jackson & the Olympians: The Lightning T...        Ethan Alter   \n",
       "...                                                    ...                ...   \n",
       "1129882                                          Zulu Dawn      Chuck O'Leary   \n",
       "1129883                                          Zulu Dawn          Ken Hanke   \n",
       "1129884                                          Zulu Dawn    Dennis Schwartz   \n",
       "1129885                                          Zulu Dawn  Christopher Lloyd   \n",
       "1129886                                          Zulu Dawn     Brent McKnight   \n",
       "\n",
       "         top_critic                   publisher_name review_type review_score  \\\n",
       "0             False                   Urban Cinefile       Fresh          NaN   \n",
       "1             False                   Urban Cinefile       Fresh          NaN   \n",
       "2             False              FILMINK (Australia)       Fresh          NaN   \n",
       "3             False          Sunday Mail (Australia)       Fresh        3.5/5   \n",
       "4              True               Hollywood Reporter      Rotten          NaN   \n",
       "...             ...                              ...         ...          ...   \n",
       "1129882       False                 Fantastica Daily      Rotten          2/5   \n",
       "1129883       False  Mountain Xpress (Asheville, NC)       Fresh        3.5/5   \n",
       "1129884       False    Dennis Schwartz Movie Reviews       Fresh           B+   \n",
       "1129885       False          Sarasota Herald-Tribune      Rotten        3.5/5   \n",
       "1129886       False             The Last Thing I See      Rotten            C   \n",
       "\n",
       "        review_date                                     review_content  \n",
       "0        2010-02-06  A fantasy adventure that fuses Greek mythology...  \n",
       "1        2010-02-06  Uma Thurman as Medusa, the gorgon with a coiff...  \n",
       "2        2010-02-09  With a top-notch cast and dazzling special eff...  \n",
       "3        2010-02-09  Whether audiences will get behind The Lightnin...  \n",
       "4        2010-02-10  What's really lacking in The Lightning Thief i...  \n",
       "...             ...                                                ...  \n",
       "1129882  2005-11-02                                                NaN  \n",
       "1129883  2007-03-07  Seen today, it's not only a startling indictme...  \n",
       "1129884  2010-09-16  A rousing visual spectacle that's a prequel of...  \n",
       "1129885  2011-02-28  A simple two-act story: Prelude to war, and th...  \n",
       "1129886  2020-07-09  Rides the line between being a pure artifact o...  \n",
       "\n",
       "[1129887 rows x 9 columns]"
      ],
      "text/html": [
       "<div>\n",
       "<style scoped>\n",
       "    .dataframe tbody tr th:only-of-type {\n",
       "        vertical-align: middle;\n",
       "    }\n",
       "\n",
       "    .dataframe tbody tr th {\n",
       "        vertical-align: top;\n",
       "    }\n",
       "\n",
       "    .dataframe thead th {\n",
       "        text-align: right;\n",
       "    }\n",
       "</style>\n",
       "<table border=\"1\" class=\"dataframe\">\n",
       "  <thead>\n",
       "    <tr style=\"text-align: right;\">\n",
       "      <th></th>\n",
       "      <th>rotten_tomatoes_link</th>\n",
       "      <th>movie_title</th>\n",
       "      <th>critic_name</th>\n",
       "      <th>top_critic</th>\n",
       "      <th>publisher_name</th>\n",
       "      <th>review_type</th>\n",
       "      <th>review_score</th>\n",
       "      <th>review_date</th>\n",
       "      <th>review_content</th>\n",
       "    </tr>\n",
       "  </thead>\n",
       "  <tbody>\n",
       "    <tr>\n",
       "      <th>0</th>\n",
       "      <td>m/0814255</td>\n",
       "      <td>Percy Jackson &amp; the Olympians: The Lightning T...</td>\n",
       "      <td>Andrew L. Urban</td>\n",
       "      <td>False</td>\n",
       "      <td>Urban Cinefile</td>\n",
       "      <td>Fresh</td>\n",
       "      <td>NaN</td>\n",
       "      <td>2010-02-06</td>\n",
       "      <td>A fantasy adventure that fuses Greek mythology...</td>\n",
       "    </tr>\n",
       "    <tr>\n",
       "      <th>1</th>\n",
       "      <td>m/0814255</td>\n",
       "      <td>Percy Jackson &amp; the Olympians: The Lightning T...</td>\n",
       "      <td>Louise Keller</td>\n",
       "      <td>False</td>\n",
       "      <td>Urban Cinefile</td>\n",
       "      <td>Fresh</td>\n",
       "      <td>NaN</td>\n",
       "      <td>2010-02-06</td>\n",
       "      <td>Uma Thurman as Medusa, the gorgon with a coiff...</td>\n",
       "    </tr>\n",
       "    <tr>\n",
       "      <th>2</th>\n",
       "      <td>m/0814255</td>\n",
       "      <td>Percy Jackson &amp; the Olympians: The Lightning T...</td>\n",
       "      <td>NaN</td>\n",
       "      <td>False</td>\n",
       "      <td>FILMINK (Australia)</td>\n",
       "      <td>Fresh</td>\n",
       "      <td>NaN</td>\n",
       "      <td>2010-02-09</td>\n",
       "      <td>With a top-notch cast and dazzling special eff...</td>\n",
       "    </tr>\n",
       "    <tr>\n",
       "      <th>3</th>\n",
       "      <td>m/0814255</td>\n",
       "      <td>Percy Jackson &amp; the Olympians: The Lightning T...</td>\n",
       "      <td>Ben McEachen</td>\n",
       "      <td>False</td>\n",
       "      <td>Sunday Mail (Australia)</td>\n",
       "      <td>Fresh</td>\n",
       "      <td>3.5/5</td>\n",
       "      <td>2010-02-09</td>\n",
       "      <td>Whether audiences will get behind The Lightnin...</td>\n",
       "    </tr>\n",
       "    <tr>\n",
       "      <th>4</th>\n",
       "      <td>m/0814255</td>\n",
       "      <td>Percy Jackson &amp; the Olympians: The Lightning T...</td>\n",
       "      <td>Ethan Alter</td>\n",
       "      <td>True</td>\n",
       "      <td>Hollywood Reporter</td>\n",
       "      <td>Rotten</td>\n",
       "      <td>NaN</td>\n",
       "      <td>2010-02-10</td>\n",
       "      <td>What's really lacking in The Lightning Thief i...</td>\n",
       "    </tr>\n",
       "    <tr>\n",
       "      <th>...</th>\n",
       "      <td>...</td>\n",
       "      <td>...</td>\n",
       "      <td>...</td>\n",
       "      <td>...</td>\n",
       "      <td>...</td>\n",
       "      <td>...</td>\n",
       "      <td>...</td>\n",
       "      <td>...</td>\n",
       "      <td>...</td>\n",
       "    </tr>\n",
       "    <tr>\n",
       "      <th>1129882</th>\n",
       "      <td>m/zulu_dawn</td>\n",
       "      <td>Zulu Dawn</td>\n",
       "      <td>Chuck O'Leary</td>\n",
       "      <td>False</td>\n",
       "      <td>Fantastica Daily</td>\n",
       "      <td>Rotten</td>\n",
       "      <td>2/5</td>\n",
       "      <td>2005-11-02</td>\n",
       "      <td>NaN</td>\n",
       "    </tr>\n",
       "    <tr>\n",
       "      <th>1129883</th>\n",
       "      <td>m/zulu_dawn</td>\n",
       "      <td>Zulu Dawn</td>\n",
       "      <td>Ken Hanke</td>\n",
       "      <td>False</td>\n",
       "      <td>Mountain Xpress (Asheville, NC)</td>\n",
       "      <td>Fresh</td>\n",
       "      <td>3.5/5</td>\n",
       "      <td>2007-03-07</td>\n",
       "      <td>Seen today, it's not only a startling indictme...</td>\n",
       "    </tr>\n",
       "    <tr>\n",
       "      <th>1129884</th>\n",
       "      <td>m/zulu_dawn</td>\n",
       "      <td>Zulu Dawn</td>\n",
       "      <td>Dennis Schwartz</td>\n",
       "      <td>False</td>\n",
       "      <td>Dennis Schwartz Movie Reviews</td>\n",
       "      <td>Fresh</td>\n",
       "      <td>B+</td>\n",
       "      <td>2010-09-16</td>\n",
       "      <td>A rousing visual spectacle that's a prequel of...</td>\n",
       "    </tr>\n",
       "    <tr>\n",
       "      <th>1129885</th>\n",
       "      <td>m/zulu_dawn</td>\n",
       "      <td>Zulu Dawn</td>\n",
       "      <td>Christopher Lloyd</td>\n",
       "      <td>False</td>\n",
       "      <td>Sarasota Herald-Tribune</td>\n",
       "      <td>Rotten</td>\n",
       "      <td>3.5/5</td>\n",
       "      <td>2011-02-28</td>\n",
       "      <td>A simple two-act story: Prelude to war, and th...</td>\n",
       "    </tr>\n",
       "    <tr>\n",
       "      <th>1129886</th>\n",
       "      <td>m/zulu_dawn</td>\n",
       "      <td>Zulu Dawn</td>\n",
       "      <td>Brent McKnight</td>\n",
       "      <td>False</td>\n",
       "      <td>The Last Thing I See</td>\n",
       "      <td>Rotten</td>\n",
       "      <td>C</td>\n",
       "      <td>2020-07-09</td>\n",
       "      <td>Rides the line between being a pure artifact o...</td>\n",
       "    </tr>\n",
       "  </tbody>\n",
       "</table>\n",
       "<p>1129887 rows × 9 columns</p>\n",
       "</div>"
      ]
     },
     "execution_count": 130,
     "metadata": {},
     "output_type": "execute_result"
    }
   ],
   "execution_count": 130
  },
  {
   "metadata": {
    "ExecuteTime": {
     "end_time": "2025-01-23T13:13:51.080573Z",
     "start_time": "2025-01-23T13:13:51.074148Z"
    }
   },
   "cell_type": "code",
   "source": [
    "rotten_tomatoes_df.dtypes"
   ],
   "id": "23fbb98358d3f4c4",
   "outputs": [
    {
     "data": {
      "text/plain": [
       "rotten_tomatoes_link    object\n",
       "movie_title             object\n",
       "critic_name             object\n",
       "top_critic                bool\n",
       "publisher_name          object\n",
       "review_type             object\n",
       "review_score            object\n",
       "review_date             object\n",
       "review_content          object\n",
       "dtype: object"
      ]
     },
     "execution_count": 131,
     "metadata": {},
     "output_type": "execute_result"
    }
   ],
   "execution_count": 131
  },
  {
   "metadata": {},
   "cell_type": "markdown",
   "source": [
    "Many columns are currently stored as <code>objects</code>, we will convert them to more useful formats for manipulation."
   ],
   "id": "a8c2b896519a179c"
  },
  {
   "metadata": {
    "ExecuteTime": {
     "end_time": "2025-01-23T13:13:51.805123Z",
     "start_time": "2025-01-23T13:13:51.182777Z"
    }
   },
   "cell_type": "code",
   "source": [
    "rotten_tomatoes_df['review_date'] = pd.to_datetime(rotten_tomatoes_df['review_date'])\n",
    "rotten_tomatoes_df['movie_title'] = rotten_tomatoes_df['movie_title'].astype('string')\n",
    "rotten_tomatoes_df['critic_name'] = rotten_tomatoes_df['critic_name'].astype('string')\n",
    "rotten_tomatoes_df['publisher_name'] = rotten_tomatoes_df['publisher_name'].astype('string')\n",
    "rotten_tomatoes_df['review_type'] = rotten_tomatoes_df['review_type'].astype('string')\n",
    "rotten_tomatoes_df['review_score'] = rotten_tomatoes_df['review_score'].astype('string')\n",
    "rotten_tomatoes_df['review_content'] = rotten_tomatoes_df['review_content'].astype('string')\n",
    "\n",
    "rotten_tomatoes_df.dtypes"
   ],
   "id": "d42e607460ed0c43",
   "outputs": [
    {
     "data": {
      "text/plain": [
       "rotten_tomatoes_link            object\n",
       "movie_title             string[python]\n",
       "critic_name             string[python]\n",
       "top_critic                        bool\n",
       "publisher_name          string[python]\n",
       "review_type             string[python]\n",
       "review_score            string[python]\n",
       "review_date             datetime64[ns]\n",
       "review_content          string[python]\n",
       "dtype: object"
      ]
     },
     "execution_count": 132,
     "metadata": {},
     "output_type": "execute_result"
    }
   ],
   "execution_count": 132
  },
  {
   "metadata": {
    "ExecuteTime": {
     "end_time": "2025-01-23T13:13:52.231506Z",
     "start_time": "2025-01-23T13:13:51.878112Z"
    }
   },
   "cell_type": "code",
   "source": [
    "rotten_tomatoes_df.isna().sum()"
   ],
   "id": "dd596b85264d5031",
   "outputs": [
    {
     "data": {
      "text/plain": [
       "rotten_tomatoes_link         0\n",
       "movie_title                  0\n",
       "critic_name              18521\n",
       "top_critic                   0\n",
       "publisher_name               0\n",
       "review_type                  0\n",
       "review_score            305902\n",
       "review_date                  0\n",
       "review_content           65778\n",
       "dtype: int64"
      ]
     },
     "execution_count": 133,
     "metadata": {},
     "output_type": "execute_result"
    }
   ],
   "execution_count": 133
  },
  {
   "metadata": {
    "ExecuteTime": {
     "end_time": "2025-01-23T13:13:52.678392Z",
     "start_time": "2025-01-23T13:13:52.371273Z"
    }
   },
   "cell_type": "code",
   "source": [
    "rotten_tomatoes_df[rotten_tomatoes_df['review_score'].isnull() &\n",
    "                           rotten_tomatoes_df['review_content'].isnull() &\n",
    "                           rotten_tomatoes_df['critic_name'].isnull()]"
   ],
   "id": "828b8f85e8a5b018",
   "outputs": [
    {
     "data": {
      "text/plain": [
       "                rotten_tomatoes_link                     movie_title  \\\n",
       "118910           m/alice_sweet_alice  Alice, Sweet Alice (Communion)   \n",
       "219988              m/callas_forever                  Callas Forever   \n",
       "323790    m/escape_to_witch_mountain        Escape to Witch Mountain   \n",
       "349208                    m/flawless                        Flawless   \n",
       "493769                m/kings_ransom                   King's Ransom   \n",
       "619413                 m/nurse_betty                     Nurse Betty   \n",
       "751877  m/saddest_music_in_the_world  The Saddest Music in the World   \n",
       "751879  m/saddest_music_in_the_world  The Saddest Music in the World   \n",
       "\n",
       "       critic_name  top_critic                publisher_name review_type  \\\n",
       "118910        <NA>       False                         Film4      Rotten   \n",
       "219988        <NA>        True    Denver Rocky Mountain News      Rotten   \n",
       "323790        <NA>        True                Chicago Reader       Fresh   \n",
       "349208        <NA>       False                     E! Online      Rotten   \n",
       "493769        <NA>       False                 Hollywood.com       Fresh   \n",
       "619413        <NA>        True  Atlanta Journal-Constitution       Fresh   \n",
       "751877        <NA>       False             Premiere Magazine      Rotten   \n",
       "751879        <NA>       False             Premiere Magazine      Rotten   \n",
       "\n",
       "       review_score review_date review_content  \n",
       "118910         <NA>  2003-05-24           <NA>  \n",
       "219988         <NA>  2004-12-17           <NA>  \n",
       "323790         <NA>  2000-01-01           <NA>  \n",
       "349208         <NA>  2000-01-01           <NA>  \n",
       "493769         <NA>  2005-04-23           <NA>  \n",
       "619413         <NA>  2000-01-01           <NA>  \n",
       "751877         <NA>  2004-07-03           <NA>  \n",
       "751879         <NA>  2004-07-03           <NA>  "
      ],
      "text/html": [
       "<div>\n",
       "<style scoped>\n",
       "    .dataframe tbody tr th:only-of-type {\n",
       "        vertical-align: middle;\n",
       "    }\n",
       "\n",
       "    .dataframe tbody tr th {\n",
       "        vertical-align: top;\n",
       "    }\n",
       "\n",
       "    .dataframe thead th {\n",
       "        text-align: right;\n",
       "    }\n",
       "</style>\n",
       "<table border=\"1\" class=\"dataframe\">\n",
       "  <thead>\n",
       "    <tr style=\"text-align: right;\">\n",
       "      <th></th>\n",
       "      <th>rotten_tomatoes_link</th>\n",
       "      <th>movie_title</th>\n",
       "      <th>critic_name</th>\n",
       "      <th>top_critic</th>\n",
       "      <th>publisher_name</th>\n",
       "      <th>review_type</th>\n",
       "      <th>review_score</th>\n",
       "      <th>review_date</th>\n",
       "      <th>review_content</th>\n",
       "    </tr>\n",
       "  </thead>\n",
       "  <tbody>\n",
       "    <tr>\n",
       "      <th>118910</th>\n",
       "      <td>m/alice_sweet_alice</td>\n",
       "      <td>Alice, Sweet Alice (Communion)</td>\n",
       "      <td>&lt;NA&gt;</td>\n",
       "      <td>False</td>\n",
       "      <td>Film4</td>\n",
       "      <td>Rotten</td>\n",
       "      <td>&lt;NA&gt;</td>\n",
       "      <td>2003-05-24</td>\n",
       "      <td>&lt;NA&gt;</td>\n",
       "    </tr>\n",
       "    <tr>\n",
       "      <th>219988</th>\n",
       "      <td>m/callas_forever</td>\n",
       "      <td>Callas Forever</td>\n",
       "      <td>&lt;NA&gt;</td>\n",
       "      <td>True</td>\n",
       "      <td>Denver Rocky Mountain News</td>\n",
       "      <td>Rotten</td>\n",
       "      <td>&lt;NA&gt;</td>\n",
       "      <td>2004-12-17</td>\n",
       "      <td>&lt;NA&gt;</td>\n",
       "    </tr>\n",
       "    <tr>\n",
       "      <th>323790</th>\n",
       "      <td>m/escape_to_witch_mountain</td>\n",
       "      <td>Escape to Witch Mountain</td>\n",
       "      <td>&lt;NA&gt;</td>\n",
       "      <td>True</td>\n",
       "      <td>Chicago Reader</td>\n",
       "      <td>Fresh</td>\n",
       "      <td>&lt;NA&gt;</td>\n",
       "      <td>2000-01-01</td>\n",
       "      <td>&lt;NA&gt;</td>\n",
       "    </tr>\n",
       "    <tr>\n",
       "      <th>349208</th>\n",
       "      <td>m/flawless</td>\n",
       "      <td>Flawless</td>\n",
       "      <td>&lt;NA&gt;</td>\n",
       "      <td>False</td>\n",
       "      <td>E! Online</td>\n",
       "      <td>Rotten</td>\n",
       "      <td>&lt;NA&gt;</td>\n",
       "      <td>2000-01-01</td>\n",
       "      <td>&lt;NA&gt;</td>\n",
       "    </tr>\n",
       "    <tr>\n",
       "      <th>493769</th>\n",
       "      <td>m/kings_ransom</td>\n",
       "      <td>King's Ransom</td>\n",
       "      <td>&lt;NA&gt;</td>\n",
       "      <td>False</td>\n",
       "      <td>Hollywood.com</td>\n",
       "      <td>Fresh</td>\n",
       "      <td>&lt;NA&gt;</td>\n",
       "      <td>2005-04-23</td>\n",
       "      <td>&lt;NA&gt;</td>\n",
       "    </tr>\n",
       "    <tr>\n",
       "      <th>619413</th>\n",
       "      <td>m/nurse_betty</td>\n",
       "      <td>Nurse Betty</td>\n",
       "      <td>&lt;NA&gt;</td>\n",
       "      <td>True</td>\n",
       "      <td>Atlanta Journal-Constitution</td>\n",
       "      <td>Fresh</td>\n",
       "      <td>&lt;NA&gt;</td>\n",
       "      <td>2000-01-01</td>\n",
       "      <td>&lt;NA&gt;</td>\n",
       "    </tr>\n",
       "    <tr>\n",
       "      <th>751877</th>\n",
       "      <td>m/saddest_music_in_the_world</td>\n",
       "      <td>The Saddest Music in the World</td>\n",
       "      <td>&lt;NA&gt;</td>\n",
       "      <td>False</td>\n",
       "      <td>Premiere Magazine</td>\n",
       "      <td>Rotten</td>\n",
       "      <td>&lt;NA&gt;</td>\n",
       "      <td>2004-07-03</td>\n",
       "      <td>&lt;NA&gt;</td>\n",
       "    </tr>\n",
       "    <tr>\n",
       "      <th>751879</th>\n",
       "      <td>m/saddest_music_in_the_world</td>\n",
       "      <td>The Saddest Music in the World</td>\n",
       "      <td>&lt;NA&gt;</td>\n",
       "      <td>False</td>\n",
       "      <td>Premiere Magazine</td>\n",
       "      <td>Rotten</td>\n",
       "      <td>&lt;NA&gt;</td>\n",
       "      <td>2004-07-03</td>\n",
       "      <td>&lt;NA&gt;</td>\n",
       "    </tr>\n",
       "  </tbody>\n",
       "</table>\n",
       "</div>"
      ]
     },
     "execution_count": 134,
     "metadata": {},
     "output_type": "execute_result"
    }
   ],
   "execution_count": 134
  },
  {
   "metadata": {},
   "cell_type": "markdown",
   "source": [
    "Reviews without <code>review_score</code>, <code>review_content</code>, <code>critic_name</code> were found but will be kept because they may be relevant in the future."
   ],
   "id": "63aa845fb78c4ef6"
  },
  {
   "metadata": {
    "ExecuteTime": {
     "end_time": "2025-01-23T13:13:54.579820Z",
     "start_time": "2025-01-23T13:13:52.823282Z"
    }
   },
   "cell_type": "code",
   "source": "rotten_tomatoes_df.duplicated().sum()",
   "id": "f5a93dc77d4e5faa",
   "outputs": [
    {
     "data": {
      "text/plain": [
       "np.int64(119471)"
      ]
     },
     "execution_count": 135,
     "metadata": {},
     "output_type": "execute_result"
    }
   ],
   "execution_count": 135
  },
  {
   "metadata": {
    "ExecuteTime": {
     "end_time": "2025-01-23T13:13:56.418504Z",
     "start_time": "2025-01-23T13:13:54.619423Z"
    }
   },
   "cell_type": "code",
   "source": "rotten_tomatoes_df = rotten_tomatoes_df.drop_duplicates()",
   "id": "e6efcd3c39d05d87",
   "outputs": [],
   "execution_count": 136
  },
  {
   "metadata": {
    "ExecuteTime": {
     "end_time": "2025-01-23T13:13:57.847742Z",
     "start_time": "2025-01-23T13:13:56.427727Z"
    }
   },
   "cell_type": "code",
   "source": "rotten_tomatoes_df.duplicated().sum()",
   "id": "7b3d70cc5a546b1b",
   "outputs": [
    {
     "data": {
      "text/plain": [
       "np.int64(0)"
      ]
     },
     "execution_count": 137,
     "metadata": {},
     "output_type": "execute_result"
    }
   ],
   "execution_count": 137
  },
  {
   "metadata": {},
   "cell_type": "markdown",
   "source": "All the duplicates have been removed.",
   "id": "48031e7f571e74ad"
  },
  {
   "metadata": {},
   "cell_type": "markdown",
   "source": [
    "# Final thoughts on dataframes"
   ],
   "id": "telegram-chat"
  },
  {
   "metadata": {
    "ExecuteTime": {
     "end_time": "2025-01-23T13:13:58.479479Z",
     "start_time": "2025-01-23T13:13:57.871695Z"
    }
   },
   "cell_type": "code",
   "source": [
    "# Trova tutti i titoli di film unici nel dataset di Rotten Tomatoes\n",
    "unique_rotten_tomatoes_movies = rotten_tomatoes_df['movie_title'].unique()\n",
    "\n",
    "# Trova i titoli di film unici nel dataset dei film\n",
    "unique_movies = movies_df['name'].unique()\n",
    "\n",
    "# Converti tutti i titoli di film in stringhe e poi in minuscolo per il confronto\n",
    "unique_rotten_tomatoes_movies = [str(title).lower() for title in unique_rotten_tomatoes_movies]\n",
    "unique_movies = [str(title).lower() for title in unique_movies]\n",
    "\n",
    "# Trova i film che sono presenti in entrambi i dataset\n",
    "common_movies = set(unique_rotten_tomatoes_movies).intersection(set(unique_movies))\n",
    "\n",
    "# Stampa il numero di film trovati\n",
    "print(f\"Number of unique films on Rotten Tomatoes: {len(unique_rotten_tomatoes_movies)}\")\n",
    "print(f\"Number of unique movies in the movie dataset: {len(unique_movies)}\")\n",
    "print(f\"Number of common films: {len(common_movies)}\")"
   ],
   "id": "bf00b5de",
   "outputs": [
    {
     "name": "stdout",
     "output_type": "stream",
     "text": [
      "Number of unique films on Rotten Tomatoes: 17100\n",
      "Number of unique movies in the movie dataset: 786963\n",
      "Number of common films: 15056\n"
     ]
    }
   ],
   "execution_count": 138
  },
  {
   "metadata": {},
   "cell_type": "markdown",
   "source": [
    "# Saving modified dataframes"
   ],
   "id": "6815978b115be333"
  },
  {
   "metadata": {
    "ExecuteTime": {
     "end_time": "2025-01-23T13:14:09.522482Z",
     "start_time": "2025-01-23T13:13:58.512992Z"
    }
   },
   "cell_type": "code",
   "source": [
    "movies_df.to_csv('movie_df.csv', index=False)"
   ],
   "id": "5d281a9f1902d5a4",
   "outputs": [],
   "execution_count": 139
  },
  {
   "metadata": {
    "ExecuteTime": {
     "end_time": "2025-01-23T13:14:21.784456Z",
     "start_time": "2025-01-23T13:14:09.596982Z"
    }
   },
   "cell_type": "code",
   "source": [
    "actors_df.to_csv('actors_df.csv', index=False)"
   ],
   "id": "af9a6baa40b75c3e",
   "outputs": [],
   "execution_count": 140
  },
  {
   "metadata": {
    "ExecuteTime": {
     "end_time": "2025-01-23T13:14:25.633803Z",
     "start_time": "2025-01-23T13:14:21.789220Z"
    }
   },
   "cell_type": "code",
   "source": [
    "posters_df.to_csv('posters_df.csv', index=False)"
   ],
   "id": "932eb34adb5633d8",
   "outputs": [],
   "execution_count": 141
  },
  {
   "metadata": {
    "ExecuteTime": {
     "end_time": "2025-01-23T13:14:25.724195Z",
     "start_time": "2025-01-23T13:14:25.664814Z"
    }
   },
   "cell_type": "code",
   "source": [
    "oscar_awards_df.to_csv('oscar_awards_df.csv', index=False)"
   ],
   "id": "21873eb97c7760cb",
   "outputs": [],
   "execution_count": 142
  },
  {
   "metadata": {
    "ExecuteTime": {
     "end_time": "2025-01-23T14:48:25.710325Z",
     "start_time": "2025-01-23T14:48:24.720166Z"
    }
   },
   "cell_type": "code",
   "source": "studios_df.to_csv('studios_df.csv', index=False)",
   "id": "1e5112f206a094c6",
   "outputs": [],
   "execution_count": 178
  },
  {
   "metadata": {
    "ExecuteTime": {
     "end_time": "2025-01-23T15:01:03.297040Z",
     "start_time": "2025-01-23T15:00:55.932571Z"
    }
   },
   "cell_type": "code",
   "source": "crew_df.to_csv('crew_df.csv', index=False)",
   "id": "c6fb92fdc16bc4a4",
   "outputs": [],
   "execution_count": 189
  },
  {
   "metadata": {
    "ExecuteTime": {
     "end_time": "2025-01-23T14:03:35.262860Z",
     "start_time": "2025-01-23T14:03:35.251331Z"
    }
   },
   "cell_type": "code",
   "source": "oscar_awards_df.isna().sum()",
   "id": "7179ea95e09c14f2",
   "outputs": [
    {
     "data": {
      "text/plain": [
       "year_film          0\n",
       "year_ceremony      0\n",
       "ceremony           0\n",
       "category           0\n",
       "name               0\n",
       "film             314\n",
       "winner             0\n",
       "dtype: int64"
      ]
     },
     "execution_count": 149,
     "metadata": {},
     "output_type": "execute_result"
    }
   ],
   "execution_count": 149
  },
  {
   "metadata": {
    "ExecuteTime": {
     "end_time": "2025-01-23T14:03:36.765236Z",
     "start_time": "2025-01-23T14:03:36.757925Z"
    }
   },
   "cell_type": "code",
   "source": "oscar_awards_df.dtypes",
   "id": "cd6774229bf20d1e",
   "outputs": [
    {
     "data": {
      "text/plain": [
       "year_film                 int64\n",
       "year_ceremony             int64\n",
       "ceremony                  int64\n",
       "category         string[python]\n",
       "name             string[python]\n",
       "film             string[python]\n",
       "winner                     bool\n",
       "dtype: object"
      ]
     },
     "execution_count": 150,
     "metadata": {},
     "output_type": "execute_result"
    }
   ],
   "execution_count": 150
  },
  {
   "metadata": {
    "ExecuteTime": {
     "end_time": "2025-01-23T14:03:38.249873Z",
     "start_time": "2025-01-23T14:03:38.237426Z"
    }
   },
   "cell_type": "code",
   "source": "oscar_awards_df.duplicated().sum()",
   "id": "259dcd5b604c9ea2",
   "outputs": [
    {
     "data": {
      "text/plain": [
       "np.int64(0)"
      ]
     },
     "execution_count": 151,
     "metadata": {},
     "output_type": "execute_result"
    }
   ],
   "execution_count": 151
  }
 ],
 "metadata": {
  "kernelspec": {
   "display_name": "Python 3",
   "language": "python",
   "name": "python3"
  },
  "language_info": {
   "codemirror_mode": {
    "name": "ipython",
    "version": 3
   },
   "file_extension": ".py",
   "mimetype": "text/x-python",
   "name": "python",
   "nbconvert_exporter": "python",
   "pygments_lexer": "ipython3",
   "version": "3.12.2"
  }
 },
 "nbformat": 4,
 "nbformat_minor": 5
}
