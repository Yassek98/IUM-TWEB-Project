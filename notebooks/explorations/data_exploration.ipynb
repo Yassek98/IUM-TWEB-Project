{
 "cells": [
  {
   "cell_type": "markdown",
   "id": "795bbbd7b67e1204",
   "metadata": {},
   "source": [
    "# Data Exploration"
   ]
  },
  {
   "cell_type": "code",
   "execution_count": 80,
   "id": "import-libraries",
   "metadata": {
    "ExecuteTime": {
     "end_time": "2025-01-13T20:56:47.026065Z",
     "start_time": "2025-01-13T20:56:46.643537Z"
    }
   },
   "source": [
    "import pandas as pd"
   ],
   "outputs": [],
   "execution_count": 1
  },
  {
   "cell_type": "markdown",
   "id": "load-movies",
   "metadata": {},
   "source": [
    "## Movies Dataframe\n",
    "The Movies dataframe contains detailed information about over 940,000 films, including their unique IDs, titles, release dates, poster taglines, short descriptions, durations in minutes, and their ratings."
   ]
  },
  {
   "cell_type": "code",
   "execution_count": 81,
   "id": "load-movies-code",
   "metadata": {
    "ExecuteTime": {
     "end_time": "2025-01-13T20:57:08.871921Z",
     "start_time": "2025-01-13T20:57:04.631577Z"
    }
   },
   "source": "movies_df = pd.read_csv('csv/movies.csv')",
   "outputs": [],
   "execution_count": 2
  },
  {
   "cell_type": "code",
   "execution_count": 82,
   "id": "b78e46d2126c3a33",
   "metadata": {
    "ExecuteTime": {
     "end_time": "2025-01-13T20:57:16.476880Z",
     "start_time": "2025-01-13T20:57:16.468995Z"
    }
   },
   "source": [
    "movies_df.shape"
   ],
   "outputs": [
    {
     "data": {
      "text/plain": [
       "(941597, 7)"
      ]
     },
     "execution_count": 82,
     "metadata": {},
     "output_type": "execute_result"
    }
   ],
   "execution_count": 3
  },
  {
   "cell_type": "markdown",
   "id": "ea30b43ec434471e",
   "metadata": {},
   "source": [
    "This dataset consists of 941,597 rows and 7 columns, providing comprehensive details about a vast collection of films."
   ]
  },
  {
   "cell_type": "code",
   "execution_count": 83,
   "id": "ffa00be21ed20594",
   "metadata": {
    "ExecuteTime": {
     "end_time": "2025-01-13T20:57:18.669860Z",
     "start_time": "2025-01-13T20:57:18.658770Z"
    }
   },
   "source": [
    "movies_df.head()"
   ],
   "outputs": [
    {
     "data": {
      "text/plain": [
       "        id                               name    date  \\\n",
       "0  1000001                             Barbie  2023.0   \n",
       "1  1000002                           Parasite  2019.0   \n",
       "2  1000003  Everything Everywhere All at Once  2022.0   \n",
       "3  1000004                         Fight Club  1999.0   \n",
       "4  1000005                         La La Land  2016.0   \n",
       "\n",
       "                                            tagline  \\\n",
       "0                  She's everything. He's just Ken.   \n",
       "1                       Act like you own the place.   \n",
       "2  The universe is so much bigger than you realize.   \n",
       "3                           Mischief. Mayhem. Soap.   \n",
       "4                    Here's to the fools who dream.   \n",
       "\n",
       "                                         description  minute  rating  \n",
       "0  Barbie and Ken are having the time of their li...   114.0    3.86  \n",
       "1  All unemployed, Ki-taek's family takes peculia...   133.0    4.56  \n",
       "2  An aging Chinese immigrant is swept up in an i...   140.0    4.30  \n",
       "3  A ticking-time-bomb insomniac and a slippery s...   139.0    4.27  \n",
       "4  Mia, an aspiring actress, serves lattes to mov...   129.0    4.09  "
      ],
      "text/html": [
       "<div>\n",
       "<style scoped>\n",
       "    .dataframe tbody tr th:only-of-type {\n",
       "        vertical-align: middle;\n",
       "    }\n",
       "\n",
       "    .dataframe tbody tr th {\n",
       "        vertical-align: top;\n",
       "    }\n",
       "\n",
       "    .dataframe thead th {\n",
       "        text-align: right;\n",
       "    }\n",
       "</style>\n",
       "<table border=\"1\" class=\"dataframe\">\n",
       "  <thead>\n",
       "    <tr style=\"text-align: right;\">\n",
       "      <th></th>\n",
       "      <th>id</th>\n",
       "      <th>name</th>\n",
       "      <th>date</th>\n",
       "      <th>tagline</th>\n",
       "      <th>description</th>\n",
       "      <th>minute</th>\n",
       "      <th>rating</th>\n",
       "    </tr>\n",
       "  </thead>\n",
       "  <tbody>\n",
       "    <tr>\n",
       "      <th>0</th>\n",
       "      <td>1000001</td>\n",
       "      <td>Barbie</td>\n",
       "      <td>2023.0</td>\n",
       "      <td>She's everything. He's just Ken.</td>\n",
       "      <td>Barbie and Ken are having the time of their li...</td>\n",
       "      <td>114.0</td>\n",
       "      <td>3.86</td>\n",
       "    </tr>\n",
       "    <tr>\n",
       "      <th>1</th>\n",
       "      <td>1000002</td>\n",
       "      <td>Parasite</td>\n",
       "      <td>2019.0</td>\n",
       "      <td>Act like you own the place.</td>\n",
       "      <td>All unemployed, Ki-taek's family takes peculia...</td>\n",
       "      <td>133.0</td>\n",
       "      <td>4.56</td>\n",
       "    </tr>\n",
       "    <tr>\n",
       "      <th>2</th>\n",
       "      <td>1000003</td>\n",
       "      <td>Everything Everywhere All at Once</td>\n",
       "      <td>2022.0</td>\n",
       "      <td>The universe is so much bigger than you realize.</td>\n",
       "      <td>An aging Chinese immigrant is swept up in an i...</td>\n",
       "      <td>140.0</td>\n",
       "      <td>4.30</td>\n",
       "    </tr>\n",
       "    <tr>\n",
       "      <th>3</th>\n",
       "      <td>1000004</td>\n",
       "      <td>Fight Club</td>\n",
       "      <td>1999.0</td>\n",
       "      <td>Mischief. Mayhem. Soap.</td>\n",
       "      <td>A ticking-time-bomb insomniac and a slippery s...</td>\n",
       "      <td>139.0</td>\n",
       "      <td>4.27</td>\n",
       "    </tr>\n",
       "    <tr>\n",
       "      <th>4</th>\n",
       "      <td>1000005</td>\n",
       "      <td>La La Land</td>\n",
       "      <td>2016.0</td>\n",
       "      <td>Here's to the fools who dream.</td>\n",
       "      <td>Mia, an aspiring actress, serves lattes to mov...</td>\n",
       "      <td>129.0</td>\n",
       "      <td>4.09</td>\n",
       "    </tr>\n",
       "  </tbody>\n",
       "</table>\n",
       "</div>"
      ]
     },
     "execution_count": 83,

     "metadata": {},
     "output_type": "execute_result"
    }
   ],
   "execution_count": 4
  },
  {
   "cell_type": "code",
   "execution_count": 84,

   "id": "2dc7a0be714b0b32",
   "metadata": {
    "ExecuteTime": {
     "end_time": "2025-01-13T20:57:20.464854Z",
     "start_time": "2025-01-13T20:57:20.457977Z"
    }
   },
   "source": [
    "movies_df.dtypes"
   ],
   "outputs": [
    {
     "data": {
      "text/plain": [
       "id               int64\n",
       "name            object\n",
       "date           float64\n",
       "tagline         object\n",
       "description     object\n",
       "minute         float64\n",
       "rating         float64\n",
       "dtype: object"
      ]
     },
     "execution_count": 84,
     "metadata": {},
     "output_type": "execute_result"
    }
   ],
   "execution_count": 5
  },
  {
   "cell_type": "markdown",
   "id": "71a8af807eb59c36",
   "metadata": {},
   "source": [
    "The date column is currently stored as a float, which is not suitable for representing release dates; We will convert it to a proper date format for accurate analysis."
   ]
  },
  {
   "cell_type": "code",
   "execution_count": 107,
   "id": "fe7c0d5bae8270e5",
   "metadata": {
    "ExecuteTime": {
     "end_time": "2025-01-13T20:57:22.454917Z",
     "start_time": "2025-01-13T20:57:22.416886Z"
    }
   },
   "source": [
    "movies_df['date'] = pd.to_datetime(movies_df['date'])\n"
   ]
  },
  {
   "cell_type": "code",
   "execution_count": null,
   "id": "24fa9fca",
   "metadata": {},
   "outputs": [],
   "source": [
    "\n",
    "movies_df['name'] = movies_df['name'].astype('string')\n",
    "movies_df['tagline'] = movies_df['tagline'].astype('string')\n",
    "movies_df['description'] = movies_df['description'].astype('string')\n"
   ]
  },
  {
   "cell_type": "code",
   "execution_count": 86,
   "id": "207358a083b60ffd",
   "metadata": {
    "ExecuteTime": {
     "end_time": "2025-01-13T20:57:26.554487Z",
     "start_time": "2025-01-13T20:57:26.548669Z"
    }
   },
   "source": [
    "movies_df.dtypes"
   ],
   "outputs": [
    {
     "data": {
      "text/plain": [
       "id                      int64\n",
       "name                   object\n",
       "date           datetime64[ns]\n",
       "tagline                object\n",
       "description            object\n",
       "minute                float64\n",
       "rating                float64\n",
       "dtype: object"
      ]
     },
     "execution_count": 86,
     "metadata": {},
     "output_type": "execute_result"
    }
   ],
   "execution_count": 7
  },
  {
   "metadata": {},
   "cell_type": "markdown",
   "source": "",
   "id": "ccbc6d32cf9cd450"
  },
  {
   "metadata": {},
   "cell_type": "markdown",
   "source": "### Analisi dei valori nulli",
   "id": "baed8fc97ca42139"
  },
  {
   "cell_type": "code",
   "execution_count": 87,
   "id": "7a25318bb928a4d",
   "metadata": {
    "ExecuteTime": {
     "end_time": "2025-01-13T20:57:31.609589Z",
     "start_time": "2025-01-13T20:57:31.129109Z"
    }
   },
   "cell_type": "code",
   "outputs": [
    {
     "data": {
      "text/plain": [
       "id                  0\n",
       "name               10\n",
       "date            91913\n",
       "tagline        802210\n",
       "description    160812\n",
       "minute         181570\n",
       "rating         850598\n",
       "dtype: int64"
      ]
     },

     "execution_count": 87,
     "metadata": {},
     "output_type": "execute_result"
    }
   ],
   "source": [
    "movies_df.isna().sum()"
   ]
  },
  {
   "cell_type": "markdown",
   "id": "baed8fc97ca42139",
   "metadata": {},
   "source": [
    "##TODO LEVARE QUESTI FILM DALLA LISTA, PRIMA PERO VERIFICARE SE NONE E' SALVABILE\n",
    "ho provato a pulire al massimo. qui io non hop piu trovato nulla da pulire _ yas"
   ]
  },
  {
   "cell_type": "code",
   "execution_count": 88,

   "id": "44abbb50a8cc2ae7",
   "metadata": {
    "ExecuteTime": {
     "end_time": "2025-01-13T20:58:00.868510Z",
     "start_time": "2025-01-13T20:58:00.756756Z"
    }
   },

   "outputs": [],
   "source": [
    "movies_df[movies_df['name'].isna()]\n",
    "#rimuovo le righe con name nullo\n",
    "movies_df = movies_df.dropna(subset=['name'])\n",
    "#rimuovo le righe con nome strano o inutile \n",
    "#(film con il punto come nome \".\")\n",
    "movies_df = movies_df[movies_df['name'] != '.']\n",
    "#rimuovo le apastrofi nei nomi che iniziano e finiscono con ' \" '\n",
    "movies_df['name'] = movies_df['name'].str.replace(r'^\"|\"$', '')\n",
    "#rimuovo i film con nome uguale a \"film\"\n",
    "movies_df = movies_df[movies_df['name'] != 'film']\n",
    "#rimuovo i film con nome uguale a \"movie\"\n",
    "movies_df = movies_df[movies_df['name'] != 'movie']\n",
    "#rimuovo i film che hanno duplicati di nome \n",
    "movies_df = movies_df.drop_duplicates(subset='name')"
   ]
  },
  {
   "cell_type": "code",
   "execution_count": 89,

   "id": "f12f64b0a589fd3",
   "metadata": {
    "ExecuteTime": {
     "end_time": "2025-01-13T20:58:05.924281Z",
     "start_time": "2025-01-13T20:58:04.925788Z"
    }
   },
   "source": "movies_df.duplicated().sum()",
   "outputs": [
    {
     "data": {
      "text/plain": [
       "np.int64(0)"
      ]
     },

     "execution_count": 89,
     "metadata": {},
     "output_type": "execute_result"
    }
   ],
   "execution_count": 11
  },
  {
   "cell_type": "code",
   "execution_count": 90,

   "id": "c87c26957e3a0fff",
   "metadata": {
    "ExecuteTime": {
     "end_time": "2025-01-13T20:58:08.040452Z",
     "start_time": "2025-01-13T20:58:08.021871Z"
    }
   },
   "source": [
    "movies_df['id'].duplicated().any()"
   ],
   "outputs": [
    {
     "data": {
      "text/plain": [
       "np.False_"
      ]
     },
     "execution_count": 90,
     "metadata": {},
     "output_type": "execute_result"
    }
   ],
   "execution_count": 12
  },
  {
   "metadata": {
    "ExecuteTime": {
     "end_time": "2025-01-13T21:22:21.890991Z",
     "start_time": "2025-01-13T21:22:21.762771Z"
    }
   },
   "cell_type": "code",
   "source": [
    "# Trova i film con nomi duplicati\n",
    "movies_df['name'].duplicated().any()"
   ],
   "id": "221ea85837559df",
   "outputs": [
    {
     "data": {
      "text/plain": [
       "np.True_"
      ]
     },
     "execution_count": 25,
     "metadata": {},
     "output_type": "execute_result"
    }
   ],
   "execution_count": 25
  },
  {
   "metadata": {
    "ExecuteTime": {
     "end_time": "2025-01-13T21:31:45.273207Z",
     "start_time": "2025-01-13T21:31:44.577004Z"
    }
   },
   "cell_type": "code",
   "source": [
    "duplicati = movies_df[movies_df['name'].duplicated(keep=False)]\n",
    "\n",
    "duplicati = duplicati.sort_values(by='name')\n",
    "\n",
    "duplicati"
   ],
   "id": "39dff63d6b2c8a67",
   "outputs": [
    {
     "data": {
      "text/plain": [
       "             id                                               name  \\\n",
       "812528  1812529                                             \"Born\"   \n",
       "812712  1812713                                             \"Born\"   \n",
       "926405  1926406  \"How Will I Ever Get Out of This Labyrinth of ...   \n",
       "582688  1582689  \"How Will I Ever Get Out of This Labyrinth of ...   \n",
       "755047  1755048                  \"O Jehovah, . . . I Trust in You\"   \n",
       "...         ...                                                ...   \n",
       "676309  1676310                                          정브르의 동물일기   \n",
       "884959  1884960                                           조폭의 브이로그   \n",
       "848930  1848931                                           조폭의 브이로그   \n",
       "782298  1782299                                            코리안 커넥션   \n",
       "871369  1871370                                            코리안 커넥션   \n",
       "\n",
       "                                date                          tagline  \\\n",
       "812528 1970-01-01 00:00:00.000002023                              NaN   \n",
       "812712 1970-01-01 00:00:00.000002023                              NaN   \n",
       "926405                           NaT                              NaN   \n",
       "582688 1970-01-01 00:00:00.000002023                              NaN   \n",
       "755047 1970-01-01 00:00:00.000002016  O Jehovah, . . . I Trust in You   \n",
       "...                              ...                              ...   \n",
       "676309 1970-01-01 00:00:00.000002021                              NaN   \n",
       "884959 1970-01-01 00:00:00.000002023                              NaN   \n",
       "848930 1970-01-01 00:00:00.000002023                              NaN   \n",
       "782298 1970-01-01 00:00:00.000001990                              NaN   \n",
       "871369                           NaT                              NaN   \n",
       "\n",
       "                                              description  minute  rating  \n",
       "812528  Two teenagers sat and complained about coming ...    34.0     NaN  \n",
       "812712  Two teenagers sat and complained about coming ...    34.0     NaN  \n",
       "926405                                                NaN     NaN     NaN  \n",
       "582688  Film student fails to complete her senior proj...    18.0     NaN  \n",
       "755047  See how Hezekiah overcomes pressure from all s...    52.0     NaN  \n",
       "...                                                   ...     ...     ...  \n",
       "676309                                                NaN     NaN     NaN  \n",
       "884959                                                NaN    57.0     NaN  \n",
       "848930                                                NaN     NaN     NaN  \n",
       "782298                                                NaN   117.0     NaN  \n",
       "871369                                                NaN   117.0     NaN  \n",
       "\n",
       "[201437 rows x 7 columns]"
      ],
      "text/html": [
       "<div>\n",
       "<style scoped>\n",
       "    .dataframe tbody tr th:only-of-type {\n",
       "        vertical-align: middle;\n",
       "    }\n",
       "\n",
       "    .dataframe tbody tr th {\n",
       "        vertical-align: top;\n",
       "    }\n",
       "\n",
       "    .dataframe thead th {\n",
       "        text-align: right;\n",
       "    }\n",
       "</style>\n",
       "<table border=\"1\" class=\"dataframe\">\n",
       "  <thead>\n",
       "    <tr style=\"text-align: right;\">\n",
       "      <th></th>\n",
       "      <th>id</th>\n",
       "      <th>name</th>\n",
       "      <th>date</th>\n",
       "      <th>tagline</th>\n",
       "      <th>description</th>\n",
       "      <th>minute</th>\n",
       "      <th>rating</th>\n",
       "    </tr>\n",
       "  </thead>\n",
       "  <tbody>\n",
       "    <tr>\n",
       "      <th>812528</th>\n",
       "      <td>1812529</td>\n",
       "      <td>\"Born\"</td>\n",
       "      <td>1970-01-01 00:00:00.000002023</td>\n",
       "      <td>NaN</td>\n",
       "      <td>Two teenagers sat and complained about coming ...</td>\n",
       "      <td>34.0</td>\n",
       "      <td>NaN</td>\n",
       "    </tr>\n",
       "    <tr>\n",
       "      <th>812712</th>\n",
       "      <td>1812713</td>\n",
       "      <td>\"Born\"</td>\n",
       "      <td>1970-01-01 00:00:00.000002023</td>\n",
       "      <td>NaN</td>\n",
       "      <td>Two teenagers sat and complained about coming ...</td>\n",
       "      <td>34.0</td>\n",
       "      <td>NaN</td>\n",
       "    </tr>\n",
       "    <tr>\n",
       "      <th>926405</th>\n",
       "      <td>1926406</td>\n",
       "      <td>\"How Will I Ever Get Out of This Labyrinth of ...</td>\n",
       "      <td>NaT</td>\n",
       "      <td>NaN</td>\n",
       "      <td>NaN</td>\n",
       "      <td>NaN</td>\n",
       "      <td>NaN</td>\n",
       "    </tr>\n",
       "    <tr>\n",
       "      <th>582688</th>\n",
       "      <td>1582689</td>\n",
       "      <td>\"How Will I Ever Get Out of This Labyrinth of ...</td>\n",
       "      <td>1970-01-01 00:00:00.000002023</td>\n",
       "      <td>NaN</td>\n",
       "      <td>Film student fails to complete her senior proj...</td>\n",
       "      <td>18.0</td>\n",
       "      <td>NaN</td>\n",
       "    </tr>\n",
       "    <tr>\n",
       "      <th>755047</th>\n",
       "      <td>1755048</td>\n",
       "      <td>\"O Jehovah, . . . I Trust in You\"</td>\n",
       "      <td>1970-01-01 00:00:00.000002016</td>\n",
       "      <td>O Jehovah, . . . I Trust in You</td>\n",
       "      <td>See how Hezekiah overcomes pressure from all s...</td>\n",
       "      <td>52.0</td>\n",
       "      <td>NaN</td>\n",
       "    </tr>\n",
       "    <tr>\n",
       "      <th>...</th>\n",
       "      <td>...</td>\n",
       "      <td>...</td>\n",
       "      <td>...</td>\n",
       "      <td>...</td>\n",
       "      <td>...</td>\n",
       "      <td>...</td>\n",
       "      <td>...</td>\n",
       "    </tr>\n",
       "    <tr>\n",
       "      <th>676309</th>\n",
       "      <td>1676310</td>\n",
       "      <td>정브르의 동물일기</td>\n",
       "      <td>1970-01-01 00:00:00.000002021</td>\n",
       "      <td>NaN</td>\n",
       "      <td>NaN</td>\n",
       "      <td>NaN</td>\n",
       "      <td>NaN</td>\n",
       "    </tr>\n",
       "    <tr>\n",
       "      <th>884959</th>\n",
       "      <td>1884960</td>\n",
       "      <td>조폭의 브이로그</td>\n",
       "      <td>1970-01-01 00:00:00.000002023</td>\n",
       "      <td>NaN</td>\n",
       "      <td>NaN</td>\n",
       "      <td>57.0</td>\n",
       "      <td>NaN</td>\n",
       "    </tr>\n",
       "    <tr>\n",
       "      <th>848930</th>\n",
       "      <td>1848931</td>\n",
       "      <td>조폭의 브이로그</td>\n",
       "      <td>1970-01-01 00:00:00.000002023</td>\n",
       "      <td>NaN</td>\n",
       "      <td>NaN</td>\n",
       "      <td>NaN</td>\n",
       "      <td>NaN</td>\n",
       "    </tr>\n",
       "    <tr>\n",
       "      <th>782298</th>\n",
       "      <td>1782299</td>\n",
       "      <td>코리안 커넥션</td>\n",
       "      <td>1970-01-01 00:00:00.000001990</td>\n",
       "      <td>NaN</td>\n",
       "      <td>NaN</td>\n",
       "      <td>117.0</td>\n",
       "      <td>NaN</td>\n",
       "    </tr>\n",
       "    <tr>\n",
       "      <th>871369</th>\n",
       "      <td>1871370</td>\n",
       "      <td>코리안 커넥션</td>\n",
       "      <td>NaT</td>\n",
       "      <td>NaN</td>\n",
       "      <td>NaN</td>\n",
       "      <td>117.0</td>\n",
       "      <td>NaN</td>\n",
       "    </tr>\n",
       "  </tbody>\n",
       "</table>\n",
       "<p>201437 rows × 7 columns</p>\n",
       "</div>"
      ]
     },
     "execution_count": 34,
     "metadata": {},
     "output_type": "execute_result"
    }
   ],
   "execution_count": 34
  },
  {
   "cell_type": "code",
   "execution_count": 91,
   "id": "6e073510d6466ecc",
   "metadata": {
    "ExecuteTime": {
     "end_time": "2025-01-12T16:09:22.194500Z",
     "start_time": "2025-01-12T16:09:22.180416Z"
    }
   },
   "outputs": [
    {
     "data": {
      "text/html": [
       "<div>\n",
       "<style scoped>\n",
       "    .dataframe tbody tr th:only-of-type {\n",
       "        vertical-align: middle;\n",
       "    }\n",
       "\n",
       "    .dataframe tbody tr th {\n",
       "        vertical-align: top;\n",
       "    }\n",
       "\n",
       "    .dataframe thead th {\n",
       "        text-align: right;\n",
       "    }\n",
       "</style>\n",
       "<table border=\"1\" class=\"dataframe\">\n",
       "  <thead>\n",
       "    <tr style=\"text-align: right;\">\n",
       "      <th></th>\n",
       "      <th>id</th>\n",
       "      <th>name</th>\n",
       "      <th>date</th>\n",
       "      <th>tagline</th>\n",
       "      <th>description</th>\n",
       "      <th>minute</th>\n",
       "      <th>rating</th>\n",
       "    </tr>\n",
       "  </thead>\n",
       "  <tbody>\n",
       "  </tbody>\n",
       "</table>\n",
       "</div>"
      ],
      "text/plain": [
       "Empty DataFrame\n",
       "Columns: [id, name, date, tagline, description, minute, rating]\n",
       "Index: []"
      ]
     },
     "execution_count": 91,
     "metadata": {},
     "output_type": "execute_result"
    }
   ],
   "source": [
    "movies_df[(movies_df['rating'] > 5) | (movies_df['rating'] < 0)]"
   ]
  },
  {
   "cell_type": "markdown",
   "id": "load-countries",
   "metadata": {},
   "source": [
    "## Countries Dataframe\n",
    "This dataset contains over 693,000 entries with the columns 'id', representing the film ID, and 'country', indicating one of the originating countries, with the possibility of multiple countries per film."
   ]
  },
  {
   "cell_type": "code",
   "execution_count": 92,
   "id": "load-countries-code",
   "metadata": {
    "ExecuteTime": {
     "end_time": "2025-01-12T16:13:46.491541Z",
     "start_time": "2025-01-12T16:13:46.311618Z"
    }
   },
   "outputs": [],
   "source": [
    "countries_df = pd.read_csv('../csv/countries.csv')"
   ]
  },
  {
   "cell_type": "code",
   "execution_count": 93,
   "id": "9bc8b9f590b42851",
   "metadata": {
    "ExecuteTime": {
     "end_time": "2025-01-12T16:14:25.923489Z",
     "start_time": "2025-01-12T16:14:25.917983Z"
    }
   },
   "outputs": [
    {
     "data": {
      "text/plain": [
       "(693476, 2)"
      ]
     },
     "execution_count": 93,
     "metadata": {},
     "output_type": "execute_result"
    }
   ],
   "source": [
    "countries_df.shape"
   ]
  },
  {
   "cell_type": "markdown",
   "id": "e72298b492a88241",
   "metadata": {},
   "source": [
    "This dataset consists of 693,476 rows and 2 columns, providing detailed information about the countries associated with each film."
   ]
  },
  {
   "cell_type": "code",
   "execution_count": 94,
   "id": "6cc0443980e616ba",
   "metadata": {
    "ExecuteTime": {
     "end_time": "2025-01-12T16:15:56.510707Z",
     "start_time": "2025-01-12T16:15:56.502093Z"
    }
   },
   "outputs": [
    {
     "data": {
      "text/html": [
       "<div>\n",
       "<style scoped>\n",
       "    .dataframe tbody tr th:only-of-type {\n",
       "        vertical-align: middle;\n",
       "    }\n",
       "\n",
       "    .dataframe tbody tr th {\n",
       "        vertical-align: top;\n",
       "    }\n",
       "\n",
       "    .dataframe thead th {\n",
       "        text-align: right;\n",
       "    }\n",
       "</style>\n",
       "<table border=\"1\" class=\"dataframe\">\n",
       "  <thead>\n",
       "    <tr style=\"text-align: right;\">\n",
       "      <th></th>\n",
       "      <th>id</th>\n",
       "      <th>country</th>\n",
       "    </tr>\n",
       "  </thead>\n",
       "  <tbody>\n",
       "    <tr>\n",
       "      <th>0</th>\n",
       "      <td>1000001</td>\n",
       "      <td>UK</td>\n",
       "    </tr>\n",
       "    <tr>\n",
       "      <th>1</th>\n",
       "      <td>1000001</td>\n",
       "      <td>USA</td>\n",
       "    </tr>\n",
       "    <tr>\n",
       "      <th>2</th>\n",
       "      <td>1000002</td>\n",
       "      <td>South Korea</td>\n",
       "    </tr>\n",
       "    <tr>\n",
       "      <th>3</th>\n",
       "      <td>1000003</td>\n",
       "      <td>USA</td>\n",
       "    </tr>\n",
       "    <tr>\n",
       "      <th>4</th>\n",
       "      <td>1000004</td>\n",
       "      <td>Germany</td>\n",
       "    </tr>\n",
       "  </tbody>\n",
       "</table>\n",
       "</div>"
      ],
      "text/plain": [
       "        id      country\n",
       "0  1000001           UK\n",
       "1  1000001          USA\n",
       "2  1000002  South Korea\n",
       "3  1000003          USA\n",
       "4  1000004      Germany"
      ]
     },
     "execution_count": 94,
     "metadata": {},
     "output_type": "execute_result"
    }
   ],
   "source": [
    "countries_df.head()"
   ]
  },
  {
   "cell_type": "code",
   "execution_count": 104,
   "id": "fa3c77ee",
   "metadata": {
    "vscode": {
     "languageId": "javascript"
    }
   },
   "outputs": [],
   "source": [
    "countries_df['country'] = countries_df['country'].astype('string')"
   ]
  },
  {
   "cell_type": "code",
   "execution_count": 105,
   "id": "ddbf37868ee39733",
   "metadata": {
    "ExecuteTime": {
     "end_time": "2025-01-12T16:17:35.181798Z",
     "start_time": "2025-01-12T16:17:35.175331Z"
    }
   },
   "outputs": [
    {
     "name": "stdout",
     "output_type": "stream",
     "text": [
      "string\n"
     ]
    },
    {
     "data": {
      "text/plain": [
       "id                  int64\n",
       "country    string[python]\n",
       "dtype: object"
      ]
     },
     "execution_count": 105,
     "metadata": {},
     "output_type": "execute_result"
    }
   ],
   "source": [
    "# Verifica il tipo di dati della colonna 'country'\n",
    "print(countries_df['country'].dtypes)\n",
    "countries_df.dtypes"
   ]
  },
  {
   "cell_type": "code",
   "execution_count": 20,
   "id": "2d2ddfeac2b3d767",
   "metadata": {
    "ExecuteTime": {
     "end_time": "2025-01-12T16:21:14.396808Z",
     "start_time": "2025-01-12T16:21:14.351856Z"
    }
   },
   "outputs": [
    {
     "data": {
      "text/plain": [
       "id         0\n",
       "country    0\n",
       "dtype: int64"
      ]
     },
     "execution_count": 20,
     "metadata": {},
     "output_type": "execute_result"
    }
   ],
   "source": [
    "countries_df.isna().sum()"
   ]
  },
  {
   "cell_type": "markdown",
   "id": "cd982588dfeced8",
   "metadata": {},
   "source": [
    "There are no null values in the dataset."
   ]
  },
  {
   "cell_type": "code",
   "execution_count": 21,
   "id": "430d3c50437b6654",
   "metadata": {
    "ExecuteTime": {
     "end_time": "2025-01-12T16:21:47.405651Z",
     "start_time": "2025-01-12T16:21:47.288945Z"
    }
   },
   "outputs": [
    {
     "data": {
      "text/plain": [
       "0"
      ]
     },
     "execution_count": 21,
     "metadata": {},
     "output_type": "execute_result"
    }
   ],
   "source": [
    "countries_df.duplicated().sum()"
   ]
  },
  {
   "cell_type": "markdown",
   "id": "38a95ecfed8597f2",
   "metadata": {},
   "source": [
    "There are no duplicate entries in the dataset."
   ]
  },
  {
   "cell_type": "markdown",
   "id": "load-actors",
   "metadata": {},
   "source": [
    "## Actors Dataframe\n",
    "This dataset contains over 5.7 million entries with the columns 'id', representing the film ID, 'name', indicating the name of the actor, and 'role', specifying the character played."
   ]
  },
  {
   "cell_type": "code",
   "execution_count": 22,
   "id": "load-actors-code",
   "metadata": {
    "ExecuteTime": {
     "end_time": "2025-01-12T16:26:18.861676Z",
     "start_time": "2025-01-12T16:26:11.634453Z"
    }
   },
   "outputs": [],
   "source": [
    "actors_df = pd.read_csv('../csv/actors.csv')"
   ]
  },
  {
   "cell_type": "code",
   "execution_count": 23,
   "id": "1e32d7a4e0954132",
   "metadata": {
    "ExecuteTime": {
     "end_time": "2025-01-12T16:26:21.916439Z",
     "start_time": "2025-01-12T16:26:21.910426Z"
    }
   },
   "outputs": [
    {
     "data": {
      "text/plain": [
       "(5798450, 3)"
      ]
     },
     "execution_count": 23,
     "metadata": {},
     "output_type": "execute_result"
    }
   ],
   "source": [
    "actors_df.shape"
   ]
  },
  {
   "cell_type": "markdown",
   "id": "86e2cef5d4bc9c89",
   "metadata": {},
   "source": [
    "This dataset consists of 5,798,450 rows and 3 columns, providing detailed information about the actors, their roles, and the films they appear in."
   ]
  },
  {
   "cell_type": "code",
   "execution_count": 24,
   "id": "b87d4f83fac0d025",
   "metadata": {
    "ExecuteTime": {
     "end_time": "2025-01-12T16:28:15.405117Z",
     "start_time": "2025-01-12T16:28:15.395294Z"
    }
   },
   "outputs": [
    {
     "data": {
      "text/html": [
       "<div>\n",
       "<style scoped>\n",
       "    .dataframe tbody tr th:only-of-type {\n",
       "        vertical-align: middle;\n",
       "    }\n",
       "\n",
       "    .dataframe tbody tr th {\n",
       "        vertical-align: top;\n",
       "    }\n",
       "\n",
       "    .dataframe thead th {\n",
       "        text-align: right;\n",
       "    }\n",
       "</style>\n",
       "<table border=\"1\" class=\"dataframe\">\n",
       "  <thead>\n",
       "    <tr style=\"text-align: right;\">\n",
       "      <th></th>\n",
       "      <th>id</th>\n",
       "      <th>name</th>\n",
       "      <th>role</th>\n",
       "    </tr>\n",
       "  </thead>\n",
       "  <tbody>\n",
       "    <tr>\n",
       "      <th>0</th>\n",
       "      <td>1000001</td>\n",
       "      <td>Margot Robbie</td>\n",
       "      <td>Barbie</td>\n",
       "    </tr>\n",
       "    <tr>\n",
       "      <th>1</th>\n",
       "      <td>1000001</td>\n",
       "      <td>Ryan Gosling</td>\n",
       "      <td>Ken</td>\n",
       "    </tr>\n",
       "    <tr>\n",
       "      <th>2</th>\n",
       "      <td>1000001</td>\n",
       "      <td>America Ferrera</td>\n",
       "      <td>Gloria</td>\n",
       "    </tr>\n",
       "    <tr>\n",
       "      <th>3</th>\n",
       "      <td>1000001</td>\n",
       "      <td>Ariana Greenblatt</td>\n",
       "      <td>Sasha</td>\n",
       "    </tr>\n",
       "    <tr>\n",
       "      <th>4</th>\n",
       "      <td>1000001</td>\n",
       "      <td>Issa Rae</td>\n",
       "      <td>Barbie</td>\n",
       "    </tr>\n",
       "  </tbody>\n",
       "</table>\n",
       "</div>"
      ],
      "text/plain": [
       "        id               name    role\n",
       "0  1000001      Margot Robbie  Barbie\n",
       "1  1000001       Ryan Gosling     Ken\n",
       "2  1000001    America Ferrera  Gloria\n",
       "3  1000001  Ariana Greenblatt   Sasha\n",
       "4  1000001           Issa Rae  Barbie"
      ]
     },
     "execution_count": 24,
     "metadata": {},
     "output_type": "execute_result"
    }
   ],
   "source": [
    "actors_df.head()"
   ]
  },
  {
   "cell_type": "code",
   "execution_count": 108,
   "id": "3d9c88a41f436a97",
   "metadata": {
    "ExecuteTime": {
     "end_time": "2025-01-12T16:28:24.742086Z",
     "start_time": "2025-01-12T16:28:24.734500Z"
    }
   },
   "outputs": [
    {
     "data": {
      "text/plain": [
       "id               int64\n",
       "name    string[python]\n",
       "role    string[python]\n",
       "dtype: object"
      ]
     },
     "execution_count": 108,
     "metadata": {},
     "output_type": "execute_result"
    }
   ],
   "source": [
    "actors_df['name'] = actors_df['name'].astype('string')\n",
    "actors_df['role'] = actors_df['role'].astype('string')\n",
    "\n",
    "actors_df.dtypes"
   ]
  },
  {
   "cell_type": "code",
   "execution_count": 26,
   "id": "d0ec7b0095186e31",
   "metadata": {
    "ExecuteTime": {
     "end_time": "2025-01-12T16:28:58.321821Z",
     "start_time": "2025-01-12T16:28:58.285407Z"
    }
   },
   "outputs": [
    {
     "data": {
      "text/plain": [
       "id         0\n",
       "country    0\n",
       "dtype: int64"
      ]
     },
     "execution_count": 26,
     "metadata": {},
     "output_type": "execute_result"
    }
   ],
   "source": [
    "countries_df.isna().sum()"
   ]
  },
  {
   "cell_type": "markdown",
   "id": "9995a19c090f3de2",
   "metadata": {},
   "source": [
    "There are no null values in the dataset."
   ]
  },
  {
   "cell_type": "code",
   "execution_count": 27,
   "id": "bdaef5843ee5883d",
   "metadata": {
    "ExecuteTime": {
     "end_time": "2025-01-12T16:29:10.533191Z",
     "start_time": "2025-01-12T16:29:10.342058Z"
    }
   },
   "outputs": [
    {
     "data": {
      "text/plain": [
       "0"
      ]
     },
     "execution_count": 27,
     "metadata": {},
     "output_type": "execute_result"
    }
   ],
   "source": [
    "countries_df.duplicated().sum()"
   ]
  },
  {
   "cell_type": "markdown",
   "id": "38b40e3b38e26e67",
   "metadata": {},
   "source": [
    "There are no duplicate entries in the dataset."
   ]
  },
  {
   "cell_type": "code",
   "execution_count": null,
   "id": "0631e811",
   "metadata": {},
   "outputs": [],
   "source": []
  },
  {
   "cell_type": "markdown",
   "id": "load-crew",
   "metadata": {},
   "source": [
    "## Crew Dataframe\n",
    "This dataset contains over 4.7 million entries with the columns 'id', representing the film ID, 'role', indicating the role (e.g., director), and 'name', specifying the name of the person."
   ]
  },
  {
   "cell_type": "code",
   "execution_count": 28,
   "id": "load-crew-code",
   "metadata": {
    "ExecuteTime": {
     "end_time": "2025-01-12T16:32:11.244761Z",
     "start_time": "2025-01-12T16:32:06.688491Z"
    }
   },
   "outputs": [],
   "source": [
    "crew_df = pd.read_csv('../csv/crew.csv')"
   ]
  },
  {
   "cell_type": "code",
   "execution_count": 29,
   "id": "20d09e64cb76358",
   "metadata": {
    "ExecuteTime": {
     "end_time": "2025-01-12T16:32:19.617408Z",
     "start_time": "2025-01-12T16:32:19.610709Z"
    }
   },
   "outputs": [
    {
     "data": {
      "text/plain": [
       "(4720183, 3)"
      ]
     },
     "execution_count": 29,
     "metadata": {},
     "output_type": "execute_result"
    }
   ],
   "source": [
    "crew_df.shape"
   ]
  },
  {
   "cell_type": "markdown",
   "id": "68dd0c1e9975994d",
   "metadata": {},
   "source": [
    "This dataset consists of 4,720,183 rows and 3 columns, providing detailed information about the crew members, their roles, and the films they are associated with."
   ]
  },
  {
   "cell_type": "code",
   "execution_count": 30,
   "id": "e16d6af031844a3d",
   "metadata": {
    "ExecuteTime": {
     "end_time": "2025-01-12T16:34:12.647306Z",
     "start_time": "2025-01-12T16:34:12.636905Z"
    }
   },
   "outputs": [
    {
     "data": {
      "text/html": [
       "<div>\n",
       "<style scoped>\n",
       "    .dataframe tbody tr th:only-of-type {\n",
       "        vertical-align: middle;\n",
       "    }\n",
       "\n",
       "    .dataframe tbody tr th {\n",
       "        vertical-align: top;\n",
       "    }\n",
       "\n",
       "    .dataframe thead th {\n",
       "        text-align: right;\n",
       "    }\n",
       "</style>\n",
       "<table border=\"1\" class=\"dataframe\">\n",
       "  <thead>\n",
       "    <tr style=\"text-align: right;\">\n",
       "      <th></th>\n",
       "      <th>id</th>\n",
       "      <th>role</th>\n",
       "      <th>name</th>\n",
       "    </tr>\n",
       "  </thead>\n",
       "  <tbody>\n",
       "    <tr>\n",
       "      <th>0</th>\n",
       "      <td>1000001</td>\n",
       "      <td>Director</td>\n",
       "      <td>Greta Gerwig</td>\n",
       "    </tr>\n",
       "    <tr>\n",
       "      <th>1</th>\n",
       "      <td>1000001</td>\n",
       "      <td>Producer</td>\n",
       "      <td>Tom Ackerley</td>\n",
       "    </tr>\n",
       "    <tr>\n",
       "      <th>2</th>\n",
       "      <td>1000001</td>\n",
       "      <td>Producer</td>\n",
       "      <td>Margot Robbie</td>\n",
       "    </tr>\n",
       "    <tr>\n",
       "      <th>3</th>\n",
       "      <td>1000001</td>\n",
       "      <td>Producer</td>\n",
       "      <td>Robbie Brenner</td>\n",
       "    </tr>\n",
       "    <tr>\n",
       "      <th>4</th>\n",
       "      <td>1000001</td>\n",
       "      <td>Producer</td>\n",
       "      <td>David Heyman</td>\n",
       "    </tr>\n",
       "  </tbody>\n",
       "</table>\n",
       "</div>"
      ],
      "text/plain": [
       "        id      role            name\n",
       "0  1000001  Director    Greta Gerwig\n",
       "1  1000001  Producer    Tom Ackerley\n",
       "2  1000001  Producer   Margot Robbie\n",
       "3  1000001  Producer  Robbie Brenner\n",
       "4  1000001  Producer    David Heyman"
      ]
     },
     "execution_count": 30,
     "metadata": {},
     "output_type": "execute_result"
    }
   ],
   "source": [
    "crew_df.head()"
   ]
  },
  {
   "cell_type": "code",
   "execution_count": 31,
   "id": "5572ecd0a03f3a68",
   "metadata": {
    "ExecuteTime": {
     "end_time": "2025-01-12T16:33:18.156930Z",
     "start_time": "2025-01-12T16:33:18.149109Z"
    }
   },
   "outputs": [
    {
     "data": {
      "text/plain": [
       "id       int64\n",
       "role    object\n",
       "name    object\n",
       "dtype: object"
      ]
     },
     "execution_count": 31,
     "metadata": {},
     "output_type": "execute_result"
    }
   ],
   "source": [
    "\n",
    "crew_df['role'] = crew_df['role'].astype('string')\n",
    "crew_df['name'] = crew_df['name'].astype('string')\n",
    "\n",
    "crew_df.dtypes"
   ]
  },
  {
   "cell_type": "code",
   "execution_count": 32,
   "id": "7f41715d49e12d20",
   "metadata": {
    "ExecuteTime": {
     "end_time": "2025-01-12T16:34:55.407266Z",
     "start_time": "2025-01-12T16:34:54.933749Z"
    }
   },
   "outputs": [
    {
     "data": {
      "text/plain": [
       "id      0\n",
       "role    0\n",
       "name    1\n",
       "dtype: int64"
      ]
     },
     "execution_count": 32,
     "metadata": {},
     "output_type": "execute_result"
    }
   ],
   "source": [
    "crew_df.isna().sum()"
   ]
  },
  {
   "cell_type": "code",
   "execution_count": 33,
   "id": "9c8bab3222beb111",
   "metadata": {
    "ExecuteTime": {
     "end_time": "2025-01-12T16:35:59.050220Z",
     "start_time": "2025-01-12T16:35:58.799933Z"
    }
   },
   "outputs": [
    {
     "data": {
      "text/html": [
       "<div>\n",
       "<style scoped>\n",
       "    .dataframe tbody tr th:only-of-type {\n",
       "        vertical-align: middle;\n",
       "    }\n",
       "\n",
       "    .dataframe tbody tr th {\n",
       "        vertical-align: top;\n",
       "    }\n",
       "\n",
       "    .dataframe thead th {\n",
       "        text-align: right;\n",
       "    }\n",
       "</style>\n",
       "<table border=\"1\" class=\"dataframe\">\n",
       "  <thead>\n",
       "    <tr style=\"text-align: right;\">\n",
       "      <th></th>\n",
       "      <th>id</th>\n",
       "      <th>role</th>\n",
       "      <th>name</th>\n",
       "    </tr>\n",
       "  </thead>\n",
       "  <tbody>\n",
       "    <tr>\n",
       "      <th>4562126</th>\n",
       "      <td>1859397</td>\n",
       "      <td>Writer</td>\n",
       "      <td>NaN</td>\n",
       "    </tr>\n",
       "  </tbody>\n",
       "</table>\n",
       "</div>"
      ],
      "text/plain": [
       "              id    role name\n",
       "4562126  1859397  Writer  NaN"
      ]
     },
     "execution_count": 33,
     "metadata": {},
     "output_type": "execute_result"
    }
   ],
   "source": [
    "crew_df[crew_df['name'].isnull()]"
   ]
  },
  {
   "cell_type": "markdown",
   "id": "a6456cf617d9e3bc",
   "metadata": {},
   "source": [
    "A null value was found in the 'name' column, but it will be retained as it may represent a missing or incomplete entry that is important for the context of the dataset."
   ]
  },
  {
   "cell_type": "code",
   "execution_count": 34,
   "id": "d22e2b30aa7a15c7",
   "metadata": {
    "ExecuteTime": {
     "end_time": "2025-01-12T16:36:45.768795Z",
     "start_time": "2025-01-12T16:36:45.644985Z"
    }
   },
   "outputs": [
    {
     "data": {
      "text/plain": [
       "0"
      ]
     },
     "execution_count": 34,
     "metadata": {},
     "output_type": "execute_result"
    }
   ],
   "source": [
    "countries_df.duplicated().sum()"
   ]
  },
  {
   "cell_type": "markdown",
   "id": "1b2a4656d2043354",
   "metadata": {},
   "source": [
    "There are no duplicate entries in the dataset."
   ]
  },
  {
   "cell_type": "markdown",
   "id": "load-posters",
   "metadata": {},
   "source": [
    "## Posters Dataframe\n",
    "This dataset contains over 940,000 entries with the columns 'id', representing the film ID, and 'link', providing the link to the original film posters."
   ]
  },
  {
   "cell_type": "code",
   "execution_count": 35,
   "id": "load-posters-code",
   "metadata": {
    "ExecuteTime": {
     "end_time": "2025-01-12T16:40:27.407988Z",
     "start_time": "2025-01-12T16:40:25.775998Z"
    }
   },
   "outputs": [],
   "source": [
    "posters_df = pd.read_csv('../csv/posters.csv')"
   ]
  },
  {
   "cell_type": "code",
   "execution_count": 36,
   "id": "b235c52c3db2efb7",
   "metadata": {
    "ExecuteTime": {
     "end_time": "2025-01-12T16:40:29.778837Z",
     "start_time": "2025-01-12T16:40:29.773774Z"
    }
   },
   "outputs": [
    {
     "data": {
      "text/plain": [
       "(941597, 2)"
      ]
     },
     "execution_count": 36,
     "metadata": {},
     "output_type": "execute_result"
    }
   ],
   "source": [
    "posters_df.shape"
   ]
  },
  {
   "cell_type": "markdown",
   "id": "704b91911fc9b6b6",
   "metadata": {},
   "source": [
    "This dataset consists of 941,597 rows and 2 columns, providing links to the original film posters associated with each film."
   ]
  },
  {
   "cell_type": "code",
   "execution_count": 37,
   "id": "32d2a5b7e8a4d7de",
   "metadata": {
    "ExecuteTime": {
     "end_time": "2025-01-12T16:41:06.142259Z",
     "start_time": "2025-01-12T16:41:06.134410Z"
    }
   },
   "outputs": [
    {
     "data": {
      "text/html": [
       "<div>\n",
       "<style scoped>\n",
       "    .dataframe tbody tr th:only-of-type {\n",
       "        vertical-align: middle;\n",
       "    }\n",
       "\n",
       "    .dataframe tbody tr th {\n",
       "        vertical-align: top;\n",
       "    }\n",
       "\n",
       "    .dataframe thead th {\n",
       "        text-align: right;\n",
       "    }\n",
       "</style>\n",
       "<table border=\"1\" class=\"dataframe\">\n",
       "  <thead>\n",
       "    <tr style=\"text-align: right;\">\n",
       "      <th></th>\n",
       "      <th>id</th>\n",
       "      <th>link</th>\n",
       "    </tr>\n",
       "  </thead>\n",
       "  <tbody>\n",
       "    <tr>\n",
       "      <th>0</th>\n",
       "      <td>1000001</td>\n",
       "      <td>https://a.ltrbxd.com/resized/film-poster/2/7/7...</td>\n",
       "    </tr>\n",
       "    <tr>\n",
       "      <th>1</th>\n",
       "      <td>1000002</td>\n",
       "      <td>https://a.ltrbxd.com/resized/film-poster/4/2/6...</td>\n",
       "    </tr>\n",
       "    <tr>\n",
       "      <th>2</th>\n",
       "      <td>1000003</td>\n",
       "      <td>https://a.ltrbxd.com/resized/film-poster/4/7/4...</td>\n",
       "    </tr>\n",
       "    <tr>\n",
       "      <th>3</th>\n",
       "      <td>1000004</td>\n",
       "      <td>https://a.ltrbxd.com/resized/film-poster/5/1/5...</td>\n",
       "    </tr>\n",
       "    <tr>\n",
       "      <th>4</th>\n",
       "      <td>1000005</td>\n",
       "      <td>https://a.ltrbxd.com/resized/film-poster/2/4/0...</td>\n",
       "    </tr>\n",
       "  </tbody>\n",
       "</table>\n",
       "</div>"
      ],
      "text/plain": [
       "        id                                               link\n",
       "0  1000001  https://a.ltrbxd.com/resized/film-poster/2/7/7...\n",
       "1  1000002  https://a.ltrbxd.com/resized/film-poster/4/2/6...\n",
       "2  1000003  https://a.ltrbxd.com/resized/film-poster/4/7/4...\n",
       "3  1000004  https://a.ltrbxd.com/resized/film-poster/5/1/5...\n",
       "4  1000005  https://a.ltrbxd.com/resized/film-poster/2/4/0..."
      ]
     },
     "execution_count": 37,
     "metadata": {},
     "output_type": "execute_result"
    }
   ],
   "source": [
    "posters_df.head()"
   ]
  },
  {
   "cell_type": "code",
   "execution_count": 38,
   "id": "80aff1225337a330",
   "metadata": {
    "ExecuteTime": {
     "end_time": "2025-01-12T16:42:28.429283Z",
     "start_time": "2025-01-12T16:42:28.421893Z"
    }
   },
   "outputs": [
    {
     "data": {
      "text/plain": [
       "id       int64\n",
       "link    object\n",
       "dtype: object"
      ]
     },
     "execution_count": 38,
     "metadata": {},
     "output_type": "execute_result"
    }
   ],
   "source": [
    "posters_df['link'] = posters_df['link'].astype('string')\n",
    "\n",
    "posters_df.dtypes"
   ]
  },
  {
   "cell_type": "code",
   "execution_count": 39,
   "id": "e9999cc75400b654",
   "metadata": {
    "ExecuteTime": {
     "end_time": "2025-01-12T16:42:49.972351Z",
     "start_time": "2025-01-12T16:42:49.875526Z"
    }
   },
   "outputs": [
    {
     "data": {
      "text/plain": [
       "id           0\n",
       "link    180712\n",
       "dtype: int64"
      ]
     },
     "execution_count": 39,
     "metadata": {},
     "output_type": "execute_result"
    }
   ],
   "source": [
    "posters_df.isna().sum()"
   ]
  },
  {
   "cell_type": "code",
   "execution_count": 40,
   "id": "b3dc8da850259e7a",
   "metadata": {
    "ExecuteTime": {
     "end_time": "2025-01-12T16:47:13.995893Z",
     "start_time": "2025-01-12T16:47:13.569565Z"
    }
   },
   "outputs": [
    {
     "data": {
      "text/plain": [
       "0"
      ]
     },
     "execution_count": 40,
     "metadata": {},
     "output_type": "execute_result"
    }
   ],
   "source": [
    "posters_df.duplicated().sum()"
   ]
  },
  {
   "cell_type": "markdown",
   "id": "load-releases",
   "metadata": {},
   "source": [
    "## Releases Dataframe\n",
    "This dataset contains over 13 million entries with the columns 'id', representing the film ID, 'country', indicating the country of release, 'date', showing the release date, 'type', specifying the release type (e.g., Theatrical, Digital), and 'rating', representing the rating received in that country (e.g., PG, etc.)."
   ]
  },
  {
   "cell_type": "code",
   "execution_count": 41,
   "id": "load-releases-code",
   "metadata": {
    "ExecuteTime": {
     "end_time": "2025-01-12T16:50:24.399526Z",
     "start_time": "2025-01-12T16:50:23.116287Z"
    }
   },
   "outputs": [],
   "source": [
    "releases_df = pd.read_csv('../csv/releases.csv')"
   ]
  },
  {
   "cell_type": "code",
   "execution_count": 42,
   "id": "71f8201f9768083b",
   "metadata": {
    "ExecuteTime": {
     "end_time": "2025-01-12T16:50:25.144227Z",
     "start_time": "2025-01-12T16:50:25.138755Z"
    }
   },
   "outputs": [
    {
     "data": {
      "text/plain": [
       "(1332782, 5)"
      ]
     },
     "execution_count": 42,
     "metadata": {},
     "output_type": "execute_result"
    }
   ],
   "source": [
    "releases_df.shape"
   ]
  },
  {
   "cell_type": "markdown",
   "id": "42d66a3a04689c85",
   "metadata": {},
   "source": [
    "This dataset consists of 1,332,782 rows and 5 columns, providing detailed information about the film releases, including the country, date, type, and rating in each country."
   ]
  },
  {
   "cell_type": "code",
   "execution_count": 43,
   "id": "9c1ad056efffed0e",
   "metadata": {
    "ExecuteTime": {
     "end_time": "2025-01-12T16:51:19.809860Z",
     "start_time": "2025-01-12T16:51:19.798420Z"
    }
   },
   "outputs": [
    {
     "data": {
      "text/html": [
       "<div>\n",
       "<style scoped>\n",
       "    .dataframe tbody tr th:only-of-type {\n",
       "        vertical-align: middle;\n",
       "    }\n",
       "\n",
       "    .dataframe tbody tr th {\n",
       "        vertical-align: top;\n",
       "    }\n",
       "\n",
       "    .dataframe thead th {\n",
       "        text-align: right;\n",
       "    }\n",
       "</style>\n",
       "<table border=\"1\" class=\"dataframe\">\n",
       "  <thead>\n",
       "    <tr style=\"text-align: right;\">\n",
       "      <th></th>\n",
       "      <th>id</th>\n",
       "      <th>country</th>\n",
       "      <th>date</th>\n",
       "      <th>type</th>\n",
       "      <th>rating</th>\n",
       "    </tr>\n",
       "  </thead>\n",
       "  <tbody>\n",
       "    <tr>\n",
       "      <th>0</th>\n",
       "      <td>1000001</td>\n",
       "      <td>Andorra</td>\n",
       "      <td>2023-07-21</td>\n",
       "      <td>Theatrical</td>\n",
       "      <td>NaN</td>\n",
       "    </tr>\n",
       "    <tr>\n",
       "      <th>1</th>\n",
       "      <td>1000001</td>\n",
       "      <td>Argentina</td>\n",
       "      <td>2023-07-20</td>\n",
       "      <td>Theatrical</td>\n",
       "      <td>ATP</td>\n",
       "    </tr>\n",
       "    <tr>\n",
       "      <th>2</th>\n",
       "      <td>1000001</td>\n",
       "      <td>Australia</td>\n",
       "      <td>2023-07-19</td>\n",
       "      <td>Theatrical</td>\n",
       "      <td>PG</td>\n",
       "    </tr>\n",
       "    <tr>\n",
       "      <th>3</th>\n",
       "      <td>1000001</td>\n",
       "      <td>Australia</td>\n",
       "      <td>2023-10-01</td>\n",
       "      <td>Digital</td>\n",
       "      <td>PG</td>\n",
       "    </tr>\n",
       "    <tr>\n",
       "      <th>4</th>\n",
       "      <td>1000001</td>\n",
       "      <td>Austria</td>\n",
       "      <td>2023-07-20</td>\n",
       "      <td>Theatrical</td>\n",
       "      <td>NaN</td>\n",
       "    </tr>\n",
       "  </tbody>\n",
       "</table>\n",
       "</div>"
      ],
      "text/plain": [
       "        id    country        date        type rating\n",
       "0  1000001    Andorra  2023-07-21  Theatrical    NaN\n",
       "1  1000001  Argentina  2023-07-20  Theatrical    ATP\n",
       "2  1000001  Australia  2023-07-19  Theatrical     PG\n",
       "3  1000001  Australia  2023-10-01     Digital     PG\n",
       "4  1000001    Austria  2023-07-20  Theatrical    NaN"
      ]
     },
     "execution_count": 43,
     "metadata": {},
     "output_type": "execute_result"
    }
   ],
   "source": [
    "releases_df.head()"
   ]
  },
  {
   "cell_type": "code",
   "execution_count": 109,
   "id": "2b1b61417479568c",
   "metadata": {
    "ExecuteTime": {
     "end_time": "2025-01-12T16:52:01.339640Z",
     "start_time": "2025-01-12T16:52:01.331450Z"
    }
   },
   "outputs": [
    {
     "data": {
      "text/plain": [
       "id                  int64\n",
       "country    string[python]\n",
       "date       datetime64[ns]\n",
       "type       string[python]\n",
       "rating     string[python]\n",
       "dtype: object"
      ]
     },
     "execution_count": 109,
     "metadata": {},
     "output_type": "execute_result"
    }
   ],
   "source": [
    "releases_df['country'] = releases_df['country'].astype('string')\n",
    "releases_df['type'] = releases_df['type'].astype('string')\n",
    "releases_df['rating'] = releases_df['rating'].astype('string')\n",
    "\n",
    "releases_df.dtypes"
   ]
  },
  {
   "cell_type": "markdown",
   "id": "66e26a45b8aba853",
   "metadata": {},
   "source": [
    "The date column is currently stored as an object, which is not suitable for representing release dates; We will convert it to a proper date format for accurate analysis."
   ]
  },
  {
   "cell_type": "code",
   "execution_count": 110,
   "id": "6a7d9148907f9b44",
   "metadata": {
    "ExecuteTime": {
     "end_time": "2025-01-12T16:54:00.639342Z",
     "start_time": "2025-01-12T16:54:00.177240Z"
    }
   },
   "outputs": [
    {
     "data": {
      "text/plain": [
       "id                  int64\n",
       "country    string[python]\n",
       "date       datetime64[ns]\n",
       "type       string[python]\n",
       "rating     string[python]\n",
       "dtype: object"
      ]
     },
     "execution_count": 110,
     "metadata": {},
     "output_type": "execute_result"
    }
   ],
   "source": [
    "releases_df['date'] = pd.to_datetime(releases_df['date'])\n",
    "releases_df.dtypes"
   ]
  },
  {
   "cell_type": "code",
   "execution_count": 46,
   "id": "2d9f0dbb1b94f433",
   "metadata": {
    "ExecuteTime": {
     "end_time": "2025-01-12T16:55:38.409660Z",
     "start_time": "2025-01-12T16:55:38.400374Z"
    }
   },
   "outputs": [
    {
     "data": {
      "text/plain": [
       "id                  int64\n",
       "country            object\n",
       "date       datetime64[ns]\n",
       "type               object\n",
       "rating             object\n",
       "dtype: object"
      ]
     },
     "execution_count": 46,
     "metadata": {},
     "output_type": "execute_result"
    }
   ],
   "source": [
    "releases_df.dtypes"
   ]
  },
  {
   "cell_type": "code",
   "execution_count": 47,
   "id": "25f827f57681b3e",
   "metadata": {
    "ExecuteTime": {
     "end_time": "2025-01-12T16:56:04.816472Z",
     "start_time": "2025-01-12T16:56:04.630172Z"
    }
   },
   "outputs": [
    {
     "data": {
      "text/plain": [
       "id              0\n",
       "country         0\n",
       "date            0\n",
       "type            0\n",
       "rating     998802\n",
       "dtype: int64"
      ]
     },
     "execution_count": 47,
     "metadata": {},
     "output_type": "execute_result"
    }
   ],
   "source": [
    "releases_df.isna().sum()"
   ]
  },
  {
   "cell_type": "markdown",
   "id": "45e35a495fde0d31",
   "metadata": {},
   "source": [
    "There are many null values in the 'rating' column, but no action will be taken as they will be left as is, since they may represent cases where a rating was not assigned in certain countries."
   ]
  },
  {
   "cell_type": "code",
   "execution_count": 48,
   "id": "31058c27406498d0",
   "metadata": {
    "ExecuteTime": {
     "end_time": "2025-01-12T16:57:18.337898Z",
     "start_time": "2025-01-12T16:57:17.742057Z"
    }
   },
   "outputs": [
    {
     "data": {
      "text/plain": [
       "0"
      ]
     },
     "execution_count": 48,
     "metadata": {},
     "output_type": "execute_result"
    }
   ],
   "source": [
    "releases_df.duplicated().sum()"
   ]
  },
  {
   "cell_type": "markdown",
   "id": "load-oscar-awards",
   "metadata": {},
   "source": [
    "## Oscar Awards Dataframe\n",
    "This dataset contains over 10,000 entries about Oscar candidates, with the columns 'year_film', representing the year the film was issued, 'year_ceremony', indicating the year of the ceremony, 'category', specifying the category (e.g., actor), 'name', showing the name of the person, 'film', listing the title of the film, and 'winner', indicating whether they won or not."
   ]
  },
  {
   "cell_type": "code",
   "execution_count": 49,
   "id": "load-oscar-awards-code",
   "metadata": {
    "ExecuteTime": {
     "end_time": "2025-01-12T17:00:30.306639Z",
     "start_time": "2025-01-12T17:00:30.273528Z"
    }
   },
   "outputs": [],
   "source": [
    "oscar_awards_df = pd.read_csv('../csv/the_oscar_awards.csv')"
   ]
  },
  {
   "cell_type": "code",
   "execution_count": 50,
   "id": "106695fa4d3637e3",
   "metadata": {
    "ExecuteTime": {
     "end_time": "2025-01-12T17:00:32.697522Z",
     "start_time": "2025-01-12T17:00:32.691005Z"
    }
   },
   "outputs": [
    {
     "data": {
      "text/plain": [
       "(10889, 7)"
      ]
     },
     "execution_count": 50,
     "metadata": {},
     "output_type": "execute_result"
    }
   ],
   "source": [
    "oscar_awards_df.shape"
   ]
  },
  {
   "cell_type": "markdown",
   "id": "e09c0ff7e43959c8",
   "metadata": {},
   "source": [
    "This dataset consists of 10,889 rows and 7 columns, providing detailed information about Oscar candidates, including the year of the film, ceremony, category, person, film title, and whether the candidate won."
   ]
  },
  {
   "cell_type": "code",
   "execution_count": 51,
   "id": "9b37c907656830ad",
   "metadata": {
    "ExecuteTime": {
     "end_time": "2025-01-12T17:01:20.441319Z",
     "start_time": "2025-01-12T17:01:20.428027Z"
    }
   },
   "outputs": [
    {
     "data": {
      "text/html": [
       "<div>\n",
       "<style scoped>\n",
       "    .dataframe tbody tr th:only-of-type {\n",
       "        vertical-align: middle;\n",
       "    }\n",
       "\n",
       "    .dataframe tbody tr th {\n",
       "        vertical-align: top;\n",
       "    }\n",
       "\n",
       "    .dataframe thead th {\n",
       "        text-align: right;\n",
       "    }\n",
       "</style>\n",
       "<table border=\"1\" class=\"dataframe\">\n",
       "  <thead>\n",
       "    <tr style=\"text-align: right;\">\n",
       "      <th></th>\n",
       "      <th>year_film</th>\n",
       "      <th>year_ceremony</th>\n",
       "      <th>ceremony</th>\n",
       "      <th>category</th>\n",
       "      <th>name</th>\n",
       "      <th>film</th>\n",
       "      <th>winner</th>\n",
       "    </tr>\n",
       "  </thead>\n",
       "  <tbody>\n",
       "    <tr>\n",
       "      <th>0</th>\n",
       "      <td>1927</td>\n",
       "      <td>1928</td>\n",
       "      <td>1</td>\n",
       "      <td>ACTOR</td>\n",
       "      <td>Richard Barthelmess</td>\n",
       "      <td>The Noose</td>\n",
       "      <td>False</td>\n",
       "    </tr>\n",
       "    <tr>\n",
       "      <th>1</th>\n",
       "      <td>1927</td>\n",
       "      <td>1928</td>\n",
       "      <td>1</td>\n",
       "      <td>ACTOR</td>\n",
       "      <td>Emil Jannings</td>\n",
       "      <td>The Last Command</td>\n",
       "      <td>True</td>\n",
       "    </tr>\n",
       "    <tr>\n",
       "      <th>2</th>\n",
       "      <td>1927</td>\n",
       "      <td>1928</td>\n",
       "      <td>1</td>\n",
       "      <td>ACTRESS</td>\n",
       "      <td>Louise Dresser</td>\n",
       "      <td>A Ship Comes In</td>\n",
       "      <td>False</td>\n",
       "    </tr>\n",
       "    <tr>\n",
       "      <th>3</th>\n",
       "      <td>1927</td>\n",
       "      <td>1928</td>\n",
       "      <td>1</td>\n",
       "      <td>ACTRESS</td>\n",
       "      <td>Janet Gaynor</td>\n",
       "      <td>7th Heaven</td>\n",
       "      <td>True</td>\n",
       "    </tr>\n",
       "    <tr>\n",
       "      <th>4</th>\n",
       "      <td>1927</td>\n",
       "      <td>1928</td>\n",
       "      <td>1</td>\n",
       "      <td>ACTRESS</td>\n",
       "      <td>Gloria Swanson</td>\n",
       "      <td>Sadie Thompson</td>\n",
       "      <td>False</td>\n",
       "    </tr>\n",
       "  </tbody>\n",
       "</table>\n",
       "</div>"
      ],
      "text/plain": [
       "   year_film  year_ceremony  ceremony category                 name  \\\n",
       "0       1927           1928         1    ACTOR  Richard Barthelmess   \n",
       "1       1927           1928         1    ACTOR        Emil Jannings   \n",
       "2       1927           1928         1  ACTRESS       Louise Dresser   \n",
       "3       1927           1928         1  ACTRESS         Janet Gaynor   \n",
       "4       1927           1928         1  ACTRESS       Gloria Swanson   \n",
       "\n",
       "               film  winner  \n",
       "0         The Noose   False  \n",
       "1  The Last Command    True  \n",
       "2   A Ship Comes In   False  \n",
       "3        7th Heaven    True  \n",
       "4    Sadie Thompson   False  "
      ]
     },
     "execution_count": 51,
     "metadata": {},
     "output_type": "execute_result"
    }
   ],
   "source": [
    "oscar_awards_df.head()"
   ]
  },
  {
   "cell_type": "code",
   "execution_count": 52,
   "id": "2871aea2c6245762",
   "metadata": {
    "ExecuteTime": {
     "end_time": "2025-01-12T17:02:06.539618Z",
     "start_time": "2025-01-12T17:02:06.530933Z"
    }
   },
   "outputs": [
    {
     "data": {
      "text/plain": [
       "year_film         int64\n",
       "year_ceremony     int64\n",
       "ceremony          int64\n",
       "category         object\n",
       "name             object\n",
       "film             object\n",
       "winner             bool\n",
       "dtype: object"
      ]
     },
     "execution_count": 52,
     "metadata": {},
     "output_type": "execute_result"
    }
   ],
   "source": [
    "oscar_awards_df['category'] = oscar_awards_df['category'].astype('string')\n",
    "oscar_awards_df['name'] = oscar_awards_df['name'].astype('string')\n",
    "oscar_awards_df['film'] = oscar_awards_df['film'].astype('string')\n",
    "\n",
    "oscar_awards_df.dtypes"
   ]
  },
  {
   "cell_type": "code",
   "execution_count": 53,
   "id": "3ff5ae0d20e2058b",
   "metadata": {
    "ExecuteTime": {
     "end_time": "2025-01-12T17:04:56.966363Z",
     "start_time": "2025-01-12T17:04:56.953673Z"
    }
   },
   "outputs": [
    {
     "data": {
      "text/plain": [
       "year_film          0\n",
       "year_ceremony      0\n",
       "ceremony           0\n",
       "category           0\n",
       "name               5\n",
       "film             319\n",
       "winner             0\n",
       "dtype: int64"
      ]
     },
     "execution_count": 53,
     "metadata": {},
     "output_type": "execute_result"
    }
   ],
   "source": [
    "oscar_awards_df.isna().sum()"
   ]
  },
  {
   "cell_type": "code",
   "execution_count": 54,
   "id": "32610c9f6c0c5109",
   "metadata": {
    "ExecuteTime": {
     "end_time": "2025-01-12T17:06:01.470375Z",
     "start_time": "2025-01-12T17:06:01.453142Z"
    }
   },
   "outputs": [
    {
     "data": {
      "text/html": [
       "<div>\n",
       "<style scoped>\n",
       "    .dataframe tbody tr th:only-of-type {\n",
       "        vertical-align: middle;\n",
       "    }\n",
       "\n",
       "    .dataframe tbody tr th {\n",
       "        vertical-align: top;\n",
       "    }\n",
       "\n",
       "    .dataframe thead th {\n",
       "        text-align: right;\n",
       "    }\n",
       "</style>\n",
       "<table border=\"1\" class=\"dataframe\">\n",
       "  <thead>\n",
       "    <tr style=\"text-align: right;\">\n",
       "      <th></th>\n",
       "      <th>year_film</th>\n",
       "      <th>year_ceremony</th>\n",
       "      <th>ceremony</th>\n",
       "      <th>category</th>\n",
       "      <th>name</th>\n",
       "      <th>film</th>\n",
       "      <th>winner</th>\n",
       "    </tr>\n",
       "  </thead>\n",
       "  <tbody>\n",
       "    <tr>\n",
       "      <th>10513</th>\n",
       "      <td>2020</td>\n",
       "      <td>2021</td>\n",
       "      <td>93</td>\n",
       "      <td>JEAN HERSHOLT HUMANITARIAN AWARD</td>\n",
       "      <td>NaN</td>\n",
       "      <td>NaN</td>\n",
       "      <td>True</td>\n",
       "    </tr>\n",
       "    <tr>\n",
       "      <th>10514</th>\n",
       "      <td>2020</td>\n",
       "      <td>2021</td>\n",
       "      <td>93</td>\n",
       "      <td>JEAN HERSHOLT HUMANITARIAN AWARD</td>\n",
       "      <td>NaN</td>\n",
       "      <td>NaN</td>\n",
       "      <td>True</td>\n",
       "    </tr>\n",
       "    <tr>\n",
       "      <th>10635</th>\n",
       "      <td>2021</td>\n",
       "      <td>2022</td>\n",
       "      <td>94</td>\n",
       "      <td>JEAN HERSHOLT HUMANITARIAN AWARD</td>\n",
       "      <td>NaN</td>\n",
       "      <td>NaN</td>\n",
       "      <td>True</td>\n",
       "    </tr>\n",
       "    <tr>\n",
       "      <th>10759</th>\n",
       "      <td>2022</td>\n",
       "      <td>2023</td>\n",
       "      <td>95</td>\n",
       "      <td>JEAN HERSHOLT HUMANITARIAN AWARD</td>\n",
       "      <td>NaN</td>\n",
       "      <td>NaN</td>\n",
       "      <td>True</td>\n",
       "    </tr>\n",
       "    <tr>\n",
       "      <th>10885</th>\n",
       "      <td>2023</td>\n",
       "      <td>2024</td>\n",
       "      <td>96</td>\n",
       "      <td>JEAN HERSHOLT HUMANITARIAN AWARD</td>\n",
       "      <td>NaN</td>\n",
       "      <td>NaN</td>\n",
       "      <td>True</td>\n",
       "    </tr>\n",
       "  </tbody>\n",
       "</table>\n",
       "</div>"
      ],
      "text/plain": [
       "       year_film  year_ceremony  ceremony                          category  \\\n",
       "10513       2020           2021        93  JEAN HERSHOLT HUMANITARIAN AWARD   \n",
       "10514       2020           2021        93  JEAN HERSHOLT HUMANITARIAN AWARD   \n",
       "10635       2021           2022        94  JEAN HERSHOLT HUMANITARIAN AWARD   \n",
       "10759       2022           2023        95  JEAN HERSHOLT HUMANITARIAN AWARD   \n",
       "10885       2023           2024        96  JEAN HERSHOLT HUMANITARIAN AWARD   \n",
       "\n",
       "      name film  winner  \n",
       "10513  NaN  NaN    True  \n",
       "10514  NaN  NaN    True  \n",
       "10635  NaN  NaN    True  \n",
       "10759  NaN  NaN    True  \n",
       "10885  NaN  NaN    True  "
      ]
     },
     "execution_count": 54,
     "metadata": {},
     "output_type": "execute_result"
    }
   ],
   "source": [
    "oscar_awards_df[oscar_awards_df['name'].isnull()]"
   ]
  },
  {
   "cell_type": "code",
   "execution_count": 55,
   "id": "9066b6bcc203917b",
   "metadata": {
    "ExecuteTime": {
     "end_time": "2025-01-12T17:08:21.250524Z",
     "start_time": "2025-01-12T17:08:21.238427Z"
    }
   },
   "outputs": [
    {
     "data": {
      "text/html": [
       "<div>\n",
       "<style scoped>\n",
       "    .dataframe tbody tr th:only-of-type {\n",
       "        vertical-align: middle;\n",
       "    }\n",
       "\n",
       "    .dataframe tbody tr th {\n",
       "        vertical-align: top;\n",
       "    }\n",
       "\n",
       "    .dataframe thead th {\n",
       "        text-align: right;\n",
       "    }\n",
       "</style>\n",
       "<table border=\"1\" class=\"dataframe\">\n",
       "  <thead>\n",
       "    <tr style=\"text-align: right;\">\n",
       "      <th></th>\n",
       "      <th>year_film</th>\n",
       "      <th>year_ceremony</th>\n",
       "      <th>ceremony</th>\n",
       "      <th>category</th>\n",
       "      <th>name</th>\n",
       "      <th>film</th>\n",
       "      <th>winner</th>\n",
       "    </tr>\n",
       "  </thead>\n",
       "  <tbody>\n",
       "    <tr>\n",
       "      <th>16</th>\n",
       "      <td>1927</td>\n",
       "      <td>1928</td>\n",
       "      <td>1</td>\n",
       "      <td>ENGINEERING EFFECTS</td>\n",
       "      <td>Ralph Hammeras</td>\n",
       "      <td>NaN</td>\n",
       "      <td>False</td>\n",
       "    </tr>\n",
       "    <tr>\n",
       "      <th>18</th>\n",
       "      <td>1927</td>\n",
       "      <td>1928</td>\n",
       "      <td>1</td>\n",
       "      <td>ENGINEERING EFFECTS</td>\n",
       "      <td>Nugent Slaughter</td>\n",
       "      <td>NaN</td>\n",
       "      <td>False</td>\n",
       "    </tr>\n",
       "    <tr>\n",
       "      <th>31</th>\n",
       "      <td>1927</td>\n",
       "      <td>1928</td>\n",
       "      <td>1</td>\n",
       "      <td>WRITING (Title Writing)</td>\n",
       "      <td>Joseph Farnham</td>\n",
       "      <td>NaN</td>\n",
       "      <td>True</td>\n",
       "    </tr>\n",
       "    <tr>\n",
       "      <th>32</th>\n",
       "      <td>1927</td>\n",
       "      <td>1928</td>\n",
       "      <td>1</td>\n",
       "      <td>WRITING (Title Writing)</td>\n",
       "      <td>George Marion, Jr.</td>\n",
       "      <td>NaN</td>\n",
       "      <td>False</td>\n",
       "    </tr>\n",
       "    <tr>\n",
       "      <th>33</th>\n",
       "      <td>1927</td>\n",
       "      <td>1928</td>\n",
       "      <td>1</td>\n",
       "      <td>SPECIAL AWARD</td>\n",
       "      <td>Warner Bros.</td>\n",
       "      <td>NaN</td>\n",
       "      <td>True</td>\n",
       "    </tr>\n",
       "    <tr>\n",
       "      <th>...</th>\n",
       "      <td>...</td>\n",
       "      <td>...</td>\n",
       "      <td>...</td>\n",
       "      <td>...</td>\n",
       "      <td>...</td>\n",
       "      <td>...</td>\n",
       "      <td>...</td>\n",
       "    </tr>\n",
       "    <tr>\n",
       "      <th>10763</th>\n",
       "      <td>2022</td>\n",
       "      <td>2023</td>\n",
       "      <td>95</td>\n",
       "      <td>GORDON E. SAWYER AWARD</td>\n",
       "      <td>Iain Neil</td>\n",
       "      <td>NaN</td>\n",
       "      <td>True</td>\n",
       "    </tr>\n",
       "    <tr>\n",
       "      <th>10885</th>\n",
       "      <td>2023</td>\n",
       "      <td>2024</td>\n",
       "      <td>96</td>\n",
       "      <td>JEAN HERSHOLT HUMANITARIAN AWARD</td>\n",
       "      <td>NaN</td>\n",
       "      <td>NaN</td>\n",
       "      <td>True</td>\n",
       "    </tr>\n",
       "    <tr>\n",
       "      <th>10886</th>\n",
       "      <td>2023</td>\n",
       "      <td>2024</td>\n",
       "      <td>96</td>\n",
       "      <td>HONORARY AWARD</td>\n",
       "      <td>To Angela Bassett, who has inspired audiences ...</td>\n",
       "      <td>NaN</td>\n",
       "      <td>True</td>\n",
       "    </tr>\n",
       "    <tr>\n",
       "      <th>10887</th>\n",
       "      <td>2023</td>\n",
       "      <td>2024</td>\n",
       "      <td>96</td>\n",
       "      <td>HONORARY AWARD</td>\n",
       "      <td>To Mel Brooks, for his comedic brilliance, pro...</td>\n",
       "      <td>NaN</td>\n",
       "      <td>True</td>\n",
       "    </tr>\n",
       "    <tr>\n",
       "      <th>10888</th>\n",
       "      <td>2023</td>\n",
       "      <td>2024</td>\n",
       "      <td>96</td>\n",
       "      <td>HONORARY AWARD</td>\n",
       "      <td>To Carol Littleton, whose commitment to her cr...</td>\n",
       "      <td>NaN</td>\n",
       "      <td>True</td>\n",
       "    </tr>\n",
       "  </tbody>\n",
       "</table>\n",
       "<p>319 rows × 7 columns</p>\n",
       "</div>"
      ],
      "text/plain": [
       "       year_film  year_ceremony  ceremony                          category  \\\n",
       "16          1927           1928         1               ENGINEERING EFFECTS   \n",
       "18          1927           1928         1               ENGINEERING EFFECTS   \n",
       "31          1927           1928         1           WRITING (Title Writing)   \n",
       "32          1927           1928         1           WRITING (Title Writing)   \n",
       "33          1927           1928         1                     SPECIAL AWARD   \n",
       "...          ...            ...       ...                               ...   \n",
       "10763       2022           2023        95            GORDON E. SAWYER AWARD   \n",
       "10885       2023           2024        96  JEAN HERSHOLT HUMANITARIAN AWARD   \n",
       "10886       2023           2024        96                    HONORARY AWARD   \n",
       "10887       2023           2024        96                    HONORARY AWARD   \n",
       "10888       2023           2024        96                    HONORARY AWARD   \n",
       "\n",
       "                                                    name film  winner  \n",
       "16                                        Ralph Hammeras  NaN   False  \n",
       "18                                      Nugent Slaughter  NaN   False  \n",
       "31                                        Joseph Farnham  NaN    True  \n",
       "32                                    George Marion, Jr.  NaN   False  \n",
       "33                                          Warner Bros.  NaN    True  \n",
       "...                                                  ...  ...     ...  \n",
       "10763                                          Iain Neil  NaN    True  \n",
       "10885                                                NaN  NaN    True  \n",
       "10886  To Angela Bassett, who has inspired audiences ...  NaN    True  \n",
       "10887  To Mel Brooks, for his comedic brilliance, pro...  NaN    True  \n",
       "10888  To Carol Littleton, whose commitment to her cr...  NaN    True  \n",
       "\n",
       "[319 rows x 7 columns]"
      ]
     },
     "execution_count": 55,
     "metadata": {},
     "output_type": "execute_result"
    }
   ],
   "source": [
    "oscar_awards_df[oscar_awards_df['film'].isnull()]"
   ]
  },
  {
   "cell_type": "markdown",
   "id": "load-rotten-tomatoes-reviews",
   "metadata": {},
   "source": [
    "## Rotten Tomatoes Reviews Dataframe\n",
    "This dataset contains over 1.1 million reviews from Rotten Tomatoes, with the columns 'rotten_tomatoes_link', providing the URL of the Rotten Tomatoes page, 'movie_title', indicating the title of the movie, 'critic_name', showing the name of the critic, 'top_critic', indicating if the critic is a top critic, 'publisher_name', specifying where the review was published, 'review_type', categorizing the type of review, 'review_score', representing the score given in the review, 'review_date', showing the date of the review, and 'review_content', containing the text of the actual review."
   ]
  },
  {
   "cell_type": "code",
   "execution_count": 56,
   "id": "load-rotten-tomatoes-reviews-code",
   "metadata": {
    "ExecuteTime": {
     "end_time": "2025-01-12T17:18:19.963775Z",
     "start_time": "2025-01-12T17:18:15.783370Z"
    }
   },
   "outputs": [],
   "source": [
    "rotten_tomatoes_df = pd.read_csv('../csv/rotten_tomatoes_reviews.csv')"
   ]
  },
  {
   "cell_type": "code",
   "execution_count": 57,
   "id": "54a4e614e1a53c8e",
   "metadata": {
    "ExecuteTime": {
     "end_time": "2025-01-12T17:18:21.777608Z",
     "start_time": "2025-01-12T17:18:21.770933Z"
    }
   },
   "outputs": [
    {
     "data": {
      "text/plain": [
       "(1129887, 9)"
      ]
     },
     "execution_count": 57,
     "metadata": {},
     "output_type": "execute_result"
    }
   ],
   "source": [
    "rotten_tomatoes_df.shape"
   ]
  },
  {
   "cell_type": "markdown",
   "id": "f6e51c67b7db18b3",
   "metadata": {},
   "source": [
    "This dataset consists of 1,129,887 rows and 9 columns, providing detailed information about Rotten Tomatoes reviews, including the review URL, movie title, critic details, review score, date, and content."
   ]
  },
  {
   "cell_type": "code",
   "execution_count": 58,
   "id": "ae7565a312e6bc5e",
   "metadata": {
    "ExecuteTime": {
     "end_time": "2025-01-12T17:18:54.083292Z",
     "start_time": "2025-01-12T17:18:54.065284Z"
    }
   },
   "outputs": [
    {
     "data": {
      "text/html": [
       "<div>\n",
       "<style scoped>\n",
       "    .dataframe tbody tr th:only-of-type {\n",
       "        vertical-align: middle;\n",
       "    }\n",
       "\n",
       "    .dataframe tbody tr th {\n",
       "        vertical-align: top;\n",
       "    }\n",
       "\n",
       "    .dataframe thead th {\n",
       "        text-align: right;\n",
       "    }\n",
       "</style>\n",
       "<table border=\"1\" class=\"dataframe\">\n",
       "  <thead>\n",
       "    <tr style=\"text-align: right;\">\n",
       "      <th></th>\n",
       "      <th>rotten_tomatoes_link</th>\n",
       "      <th>movie_title</th>\n",
       "      <th>critic_name</th>\n",
       "      <th>top_critic</th>\n",
       "      <th>publisher_name</th>\n",
       "      <th>review_type</th>\n",
       "      <th>review_score</th>\n",
       "      <th>review_date</th>\n",
       "      <th>review_content</th>\n",
       "    </tr>\n",
       "  </thead>\n",
       "  <tbody>\n",
       "    <tr>\n",
       "      <th>0</th>\n",
       "      <td>m/0814255</td>\n",
       "      <td>Percy Jackson &amp; the Olympians: The Lightning T...</td>\n",
       "      <td>Andrew L. Urban</td>\n",
       "      <td>False</td>\n",
       "      <td>Urban Cinefile</td>\n",
       "      <td>Fresh</td>\n",
       "      <td>NaN</td>\n",
       "      <td>2010-02-06</td>\n",
       "      <td>A fantasy adventure that fuses Greek mythology...</td>\n",
       "    </tr>\n",
       "    <tr>\n",
       "      <th>1</th>\n",
       "      <td>m/0814255</td>\n",
       "      <td>Percy Jackson &amp; the Olympians: The Lightning T...</td>\n",
       "      <td>Louise Keller</td>\n",
       "      <td>False</td>\n",
       "      <td>Urban Cinefile</td>\n",
       "      <td>Fresh</td>\n",
       "      <td>NaN</td>\n",
       "      <td>2010-02-06</td>\n",
       "      <td>Uma Thurman as Medusa, the gorgon with a coiff...</td>\n",
       "    </tr>\n",
       "    <tr>\n",
       "      <th>2</th>\n",
       "      <td>m/0814255</td>\n",
       "      <td>Percy Jackson &amp; the Olympians: The Lightning T...</td>\n",
       "      <td>NaN</td>\n",
       "      <td>False</td>\n",
       "      <td>FILMINK (Australia)</td>\n",
       "      <td>Fresh</td>\n",
       "      <td>NaN</td>\n",
       "      <td>2010-02-09</td>\n",
       "      <td>With a top-notch cast and dazzling special eff...</td>\n",
       "    </tr>\n",
       "    <tr>\n",
       "      <th>3</th>\n",
       "      <td>m/0814255</td>\n",
       "      <td>Percy Jackson &amp; the Olympians: The Lightning T...</td>\n",
       "      <td>Ben McEachen</td>\n",
       "      <td>False</td>\n",
       "      <td>Sunday Mail (Australia)</td>\n",
       "      <td>Fresh</td>\n",
       "      <td>3.5/5</td>\n",
       "      <td>2010-02-09</td>\n",
       "      <td>Whether audiences will get behind The Lightnin...</td>\n",
       "    </tr>\n",
       "    <tr>\n",
       "      <th>4</th>\n",
       "      <td>m/0814255</td>\n",
       "      <td>Percy Jackson &amp; the Olympians: The Lightning T...</td>\n",
       "      <td>Ethan Alter</td>\n",
       "      <td>True</td>\n",
       "      <td>Hollywood Reporter</td>\n",
       "      <td>Rotten</td>\n",
       "      <td>NaN</td>\n",
       "      <td>2010-02-10</td>\n",
       "      <td>What's really lacking in The Lightning Thief i...</td>\n",
       "    </tr>\n",
       "  </tbody>\n",
       "</table>\n",
       "</div>"
      ],
      "text/plain": [
       "  rotten_tomatoes_link                                        movie_title  \\\n",
       "0            m/0814255  Percy Jackson & the Olympians: The Lightning T...   \n",
       "1            m/0814255  Percy Jackson & the Olympians: The Lightning T...   \n",
       "2            m/0814255  Percy Jackson & the Olympians: The Lightning T...   \n",
       "3            m/0814255  Percy Jackson & the Olympians: The Lightning T...   \n",
       "4            m/0814255  Percy Jackson & the Olympians: The Lightning T...   \n",
       "\n",
       "       critic_name  top_critic           publisher_name review_type  \\\n",
       "0  Andrew L. Urban       False           Urban Cinefile       Fresh   \n",
       "1    Louise Keller       False           Urban Cinefile       Fresh   \n",
       "2              NaN       False      FILMINK (Australia)       Fresh   \n",
       "3     Ben McEachen       False  Sunday Mail (Australia)       Fresh   \n",
       "4      Ethan Alter        True       Hollywood Reporter      Rotten   \n",
       "\n",
       "  review_score review_date                                     review_content  \n",
       "0          NaN  2010-02-06  A fantasy adventure that fuses Greek mythology...  \n",
       "1          NaN  2010-02-06  Uma Thurman as Medusa, the gorgon with a coiff...  \n",
       "2          NaN  2010-02-09  With a top-notch cast and dazzling special eff...  \n",
       "3        3.5/5  2010-02-09  Whether audiences will get behind The Lightnin...  \n",
       "4          NaN  2010-02-10  What's really lacking in The Lightning Thief i...  "
      ]
     },
     "execution_count": 58,
     "metadata": {},
     "output_type": "execute_result"
    }
   ],
   "source": [
    "rotten_tomatoes_df.head()"
   ]
  },
  {
   "cell_type": "code",
   "execution_count": 59,
   "id": "23fbb98358d3f4c4",
   "metadata": {
    "ExecuteTime": {
     "end_time": "2025-01-12T17:19:58.609717Z",
     "start_time": "2025-01-12T17:19:58.602243Z"
    }
   },
   "outputs": [
    {
     "data": {
      "text/plain": [
       "rotten_tomatoes_link    object\n",
       "movie_title             object\n",
       "critic_name             object\n",
       "top_critic                bool\n",
       "publisher_name          object\n",
       "review_type             object\n",
       "review_score            object\n",
       "review_date             object\n",
       "review_content          object\n",
       "dtype: object"
      ]
     },
     "execution_count": 59,
     "metadata": {},
     "output_type": "execute_result"
    }
   ],
   "source": [
    "rotten_tomatoes_df.dtypes"
   ]
  },
  {
   "cell_type": "markdown",
   "id": "a8c2b896519a179c",
   "metadata": {},
   "source": [
    "The review_date column is currently stored as an object, which is not suitable for representing review dates; We will convert it to a proper date format for accurate analysis."
   ]
  },
  {
   "cell_type": "code",
   "execution_count": 111,
   "id": "d42e607460ed0c43",
   "metadata": {
    "ExecuteTime": {
     "end_time": "2025-01-12T17:22:49.944295Z",
     "start_time": "2025-01-12T17:22:49.765059Z"
    }
   },
   "outputs": [
    {
     "data": {
      "text/plain": [
       "rotten_tomatoes_link            object\n",
       "movie_title             string[python]\n",
       "critic_name             string[python]\n",
       "top_critic                        bool\n",
       "publisher_name          string[python]\n",
       "review_type             string[python]\n",
       "review_score            string[python]\n",
       "review_date             datetime64[ns]\n",
       "review_content          string[python]\n",
       "dtype: object"
      ]
     },
     "execution_count": 111,
     "metadata": {},
     "output_type": "execute_result"
    }
   ],
   "source": [
    "rotten_tomatoes_df['review_date'] = pd.to_datetime(rotten_tomatoes_df['review_date'])\n",
    "\n",
    "\n",
    "rotten_tomatoes_df['movie_title'] = rotten_tomatoes_df['movie_title'].astype('string')\n",
    "rotten_tomatoes_df['critic_name'] = rotten_tomatoes_df['critic_name'].astype('string')\n",
    "rotten_tomatoes_df['publisher_name'] = rotten_tomatoes_df['publisher_name'].astype('string')\n",
    "rotten_tomatoes_df['review_type'] = rotten_tomatoes_df['review_type'].astype('string')\n",
    "rotten_tomatoes_df['review_score'] = rotten_tomatoes_df['review_score'].astype('string')\n",
    "rotten_tomatoes_df['review_content'] = rotten_tomatoes_df['review_content'].astype('string')\n",
    "\n",
    "rotten_tomatoes_df.dtypes"
   ]
  },
  {
   "cell_type": "code",
   "execution_count": 61,
   "id": "dd596b85264d5031",
   "metadata": {
    "ExecuteTime": {
     "end_time": "2025-01-12T17:23:59.918370Z",
     "start_time": "2025-01-12T17:23:59.539182Z"
    }
   },
   "outputs": [
    {
     "data": {
      "text/plain": [
       "rotten_tomatoes_link         0\n",
       "movie_title                  0\n",
       "critic_name              18521\n",
       "top_critic                   0\n",
       "publisher_name               0\n",
       "review_type                  0\n",
       "review_score            305902\n",
       "review_date                  0\n",
       "review_content           65778\n",
       "dtype: int64"
      ]
     },
     "execution_count": 61,
     "metadata": {},
     "output_type": "execute_result"
    }
   ],
   "source": [
    "rotten_tomatoes_df.isna().sum()"
   ]
  },
  {
   "cell_type": "code",
   "execution_count": 62,
   "id": "828b8f85e8a5b018",
   "metadata": {
    "ExecuteTime": {
     "end_time": "2025-01-12T17:36:09.055488Z",
     "start_time": "2025-01-12T17:36:08.882327Z"
    }
   },
   "outputs": [
    {
     "data": {
      "text/html": [
       "<div>\n",
       "<style scoped>\n",
       "    .dataframe tbody tr th:only-of-type {\n",
       "        vertical-align: middle;\n",
       "    }\n",
       "\n",
       "    .dataframe tbody tr th {\n",
       "        vertical-align: top;\n",
       "    }\n",
       "\n",
       "    .dataframe thead th {\n",
       "        text-align: right;\n",
       "    }\n",
       "</style>\n",
       "<table border=\"1\" class=\"dataframe\">\n",
       "  <thead>\n",
       "    <tr style=\"text-align: right;\">\n",
       "      <th></th>\n",
       "      <th>rotten_tomatoes_link</th>\n",
       "      <th>movie_title</th>\n",
       "      <th>critic_name</th>\n",
       "      <th>top_critic</th>\n",
       "      <th>publisher_name</th>\n",
       "      <th>review_type</th>\n",
       "      <th>review_score</th>\n",
       "      <th>review_date</th>\n",
       "      <th>review_content</th>\n",
       "    </tr>\n",
       "  </thead>\n",
       "  <tbody>\n",
       "    <tr>\n",
       "      <th>118910</th>\n",
       "      <td>m/alice_sweet_alice</td>\n",
       "      <td>Alice, Sweet Alice (Communion)</td>\n",
       "      <td>NaN</td>\n",
       "      <td>False</td>\n",
       "      <td>Film4</td>\n",
       "      <td>Rotten</td>\n",
       "      <td>NaN</td>\n",
       "      <td>2003-05-24</td>\n",
       "      <td>NaN</td>\n",
       "    </tr>\n",
       "    <tr>\n",
       "      <th>219988</th>\n",
       "      <td>m/callas_forever</td>\n",
       "      <td>Callas Forever</td>\n",
       "      <td>NaN</td>\n",
       "      <td>True</td>\n",
       "      <td>Denver Rocky Mountain News</td>\n",
       "      <td>Rotten</td>\n",
       "      <td>NaN</td>\n",
       "      <td>2004-12-17</td>\n",
       "      <td>NaN</td>\n",
       "    </tr>\n",
       "    <tr>\n",
       "      <th>323790</th>\n",
       "      <td>m/escape_to_witch_mountain</td>\n",
       "      <td>Escape to Witch Mountain</td>\n",
       "      <td>NaN</td>\n",
       "      <td>True</td>\n",
       "      <td>Chicago Reader</td>\n",
       "      <td>Fresh</td>\n",
       "      <td>NaN</td>\n",
       "      <td>2000-01-01</td>\n",
       "      <td>NaN</td>\n",
       "    </tr>\n",
       "    <tr>\n",
       "      <th>349208</th>\n",
       "      <td>m/flawless</td>\n",
       "      <td>Flawless</td>\n",
       "      <td>NaN</td>\n",
       "      <td>False</td>\n",
       "      <td>E! Online</td>\n",
       "      <td>Rotten</td>\n",
       "      <td>NaN</td>\n",
       "      <td>2000-01-01</td>\n",
       "      <td>NaN</td>\n",
       "    </tr>\n",
       "    <tr>\n",
       "      <th>493769</th>\n",
       "      <td>m/kings_ransom</td>\n",
       "      <td>King's Ransom</td>\n",
       "      <td>NaN</td>\n",
       "      <td>False</td>\n",
       "      <td>Hollywood.com</td>\n",
       "      <td>Fresh</td>\n",
       "      <td>NaN</td>\n",
       "      <td>2005-04-23</td>\n",
       "      <td>NaN</td>\n",
       "    </tr>\n",
       "    <tr>\n",
       "      <th>619413</th>\n",
       "      <td>m/nurse_betty</td>\n",
       "      <td>Nurse Betty</td>\n",
       "      <td>NaN</td>\n",
       "      <td>True</td>\n",
       "      <td>Atlanta Journal-Constitution</td>\n",
       "      <td>Fresh</td>\n",
       "      <td>NaN</td>\n",
       "      <td>2000-01-01</td>\n",
       "      <td>NaN</td>\n",
       "    </tr>\n",
       "    <tr>\n",
       "      <th>751877</th>\n",
       "      <td>m/saddest_music_in_the_world</td>\n",
       "      <td>The Saddest Music in the World</td>\n",
       "      <td>NaN</td>\n",
       "      <td>False</td>\n",
       "      <td>Premiere Magazine</td>\n",
       "      <td>Rotten</td>\n",
       "      <td>NaN</td>\n",
       "      <td>2004-07-03</td>\n",
       "      <td>NaN</td>\n",
       "    </tr>\n",
       "    <tr>\n",
       "      <th>751879</th>\n",
       "      <td>m/saddest_music_in_the_world</td>\n",
       "      <td>The Saddest Music in the World</td>\n",
       "      <td>NaN</td>\n",
       "      <td>False</td>\n",
       "      <td>Premiere Magazine</td>\n",
       "      <td>Rotten</td>\n",
       "      <td>NaN</td>\n",
       "      <td>2004-07-03</td>\n",
       "      <td>NaN</td>\n",
       "    </tr>\n",
       "  </tbody>\n",
       "</table>\n",
       "</div>"
      ],
      "text/plain": [
       "                rotten_tomatoes_link                     movie_title  \\\n",
       "118910           m/alice_sweet_alice  Alice, Sweet Alice (Communion)   \n",
       "219988              m/callas_forever                  Callas Forever   \n",
       "323790    m/escape_to_witch_mountain        Escape to Witch Mountain   \n",
       "349208                    m/flawless                        Flawless   \n",
       "493769                m/kings_ransom                   King's Ransom   \n",
       "619413                 m/nurse_betty                     Nurse Betty   \n",
       "751877  m/saddest_music_in_the_world  The Saddest Music in the World   \n",
       "751879  m/saddest_music_in_the_world  The Saddest Music in the World   \n",
       "\n",
       "       critic_name  top_critic                publisher_name review_type  \\\n",
       "118910         NaN       False                         Film4      Rotten   \n",
       "219988         NaN        True    Denver Rocky Mountain News      Rotten   \n",
       "323790         NaN        True                Chicago Reader       Fresh   \n",
       "349208         NaN       False                     E! Online      Rotten   \n",
       "493769         NaN       False                 Hollywood.com       Fresh   \n",
       "619413         NaN        True  Atlanta Journal-Constitution       Fresh   \n",
       "751877         NaN       False             Premiere Magazine      Rotten   \n",
       "751879         NaN       False             Premiere Magazine      Rotten   \n",
       "\n",
       "       review_score review_date review_content  \n",
       "118910          NaN  2003-05-24            NaN  \n",
       "219988          NaN  2004-12-17            NaN  \n",
       "323790          NaN  2000-01-01            NaN  \n",
       "349208          NaN  2000-01-01            NaN  \n",
       "493769          NaN  2005-04-23            NaN  \n",
       "619413          NaN  2000-01-01            NaN  \n",
       "751877          NaN  2004-07-03            NaN  \n",
       "751879          NaN  2004-07-03            NaN  "
      ]
     },
     "execution_count": 62,
     "metadata": {},
     "output_type": "execute_result"
    }
   ],
   "source": [
    "rotten_tomatoes_df[rotten_tomatoes_df['review_score'].isnull() &\n",
    "                           rotten_tomatoes_df['review_content'].isnull() &\n",
    "                           rotten_tomatoes_df['critic_name'].isnull()]"
   ]
  },
  {
   "cell_type": "code",
   "execution_count": 63,
   "id": "bf00b5de",
   "metadata": {},
   "outputs": [
    {
     "name": "stdout",
     "output_type": "stream",
     "text": [
      "Numero di film unici in Rotten Tomatoes: 17100\n",
      "Numero di film unici nel dataset dei film: 795422\n",
      "Numero di film comuni: 15106\n"
     ]
    }
   ],
   "source": [
    "# Trova tutti i titoli di film unici nel dataset di Rotten Tomatoes\n",
    "unique_rotten_tomatoes_movies = rotten_tomatoes_df['movie_title'].unique()\n",
    "\n",
    "# Trova i titoli di film unici nel dataset dei film\n",
    "unique_movies = movies_df['name'].unique()\n",
    "\n",
    "# Converti tutti i titoli di film in stringhe e poi in minuscolo per il confronto\n",
    "unique_rotten_tomatoes_movies = [str(title).lower() for title in unique_rotten_tomatoes_movies]\n",
    "unique_movies = [str(title).lower() for title in unique_movies]\n",
    "\n",
    "# Trova i film che sono presenti in entrambi i dataset\n",
    "common_movies = set(unique_rotten_tomatoes_movies).intersection(set(unique_movies))\n",
    "\n",
    "# Stampa il numero di film trovati\n",
    "print(f\"Numero di film unici in Rotten Tomatoes: {len(unique_rotten_tomatoes_movies)}\")\n",
    "print(f\"Numero di film unici nel dataset dei film: {len(unique_movies)}\")\n",
    "print(f\"Numero di film comuni: {len(common_movies)}\")"
   ]
  },
  {
   "cell_type": "markdown",
   "id": "telegram-chat",
   "metadata": {},
   "source": [
    "## Tentativo di capirci qualcosa sui dati rovinati "
   ]
  },
  {
   "cell_type": "code",
   "execution_count": 64,
   "id": "remove-invalid-movies",
   "metadata": {},
   "outputs": [],
   "source": [
    "# Remove invalid movies\n",
    "invalid_movies = movies_df[movies_df['name'].isna() | (movies_df['name'] == '.')]\n",
    "movies_df = movies_df.drop(invalid_movies.index)"
   ]
  },
  {
   "cell_type": "code",
   "execution_count": 65,
   "id": "remove-invalid-oscar",
   "metadata": {},
   "outputs": [],
   "source": [
    "# Remove invalid Oscar entries\n",
    "invalid_oscar = oscar_awards_df[oscar_awards_df['name'].isna() & oscar_awards_df['film'].isna()]\n",
    "oscar_awards_df = oscar_awards_df.drop(invalid_oscar.index)"
   ]
  },
  {
   "cell_type": "code",
   "execution_count": 66,
   "id": "remove-invalid-reviews",
   "metadata": {},
   "outputs": [],
   "source": [
    "# Remove invalid reviews\n",
    "invalid_reviews = rotten_tomatoes_df[rotten_tomatoes_df['review_score'].isna() & rotten_tomatoes_df['review_content'].isna() & rotten_tomatoes_df['critic_name'].isna()]\n",
    "rotten_tomatoes_df = rotten_tomatoes_df.drop(invalid_reviews.index)"
   ]
  },
  {
   "cell_type": "markdown",
   "id": "yassek-message-3",
   "metadata": {},
   "source": [
    "Yassek: ok, io onesto toglierei queste cose, non vorrei comparissero nella nostra app"
   ]
  },
  {
   "cell_type": "code",
   "execution_count": 69,
   "id": "standardize-names",
   "metadata": {},
   "outputs": [],
   "source": [
    "# Standardize names for matching\n",
    "def standardize_name(name):\n",
    "    return name.lower().replace(' ', '_').replace('\"', '')\n",
    "\n",
    "# Fill NaN values with an empty string before applying the function\n",
    "movies_df['name'] = movies_df['name'].fillna('').apply(standardize_name)\n",
    "oscar_awards_df['film'] = oscar_awards_df['film'].fillna('').apply(standardize_name)\n",
    "rotten_tomatoes_df['movie_title'] = rotten_tomatoes_df['movie_title'].fillna('').apply(standardize_name)"
   ]
  },
  {
   "cell_type": "code",
   "execution_count": null,
   "id": "match-movies-reviews",
   "metadata": {},
   "outputs": [],
   "source": [
    "# Match movies with reviews\n",
    "unique_rotten_tomatoes_movies = rotten_tomatoes_df['movie_title'].unique()\n",
    "unique_movies = movies_df['name'].unique()\n",
    "common_movies = set(unique_rotten_tomatoes_movies).intersection(set(unique_movies))\n",
    "print(f\"Numero di film unici in Rotten Tomatoes: {len(unique_rotten_tomatoes_movies)}\")\n",
    "print(f\"Numero di film unici nel dataset dei film: {len(unique_movies)}\")\n",
    "print(f\"Numero di film comuni: {len(common_movies)}\")"
   ]
  }
 ],
 "metadata": {
  "kernelspec": {
   "display_name": "Python 3",
   "language": "python",
   "name": "python3"
  },
  "language_info": {
   "codemirror_mode": {
    "name": "ipython",
    "version": 3
   },
   "file_extension": ".py",
   "mimetype": "text/x-python",
   "name": "python",
   "nbconvert_exporter": "python",
   "pygments_lexer": "ipython3",
   "version": "3.12.2"
  }
 },
 "nbformat": 4,
 "nbformat_minor": 5
}
