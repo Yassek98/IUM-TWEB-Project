{
 "cells": [
  {
   "cell_type": "code",
   "execution_count": null,
   "id": "import-libraries",
   "metadata": {},
   "outputs": [],
   "source": [
    "import pandas as pd\n",
    "import matplotlib.pyplot as plt\n",
    "import seaborn as sns\n",
    "sns.set(style=\"darkgrid\")"
   ]
  },
  {
   "cell_type": "markdown",
   "id": "load-movies",
   "metadata": {},
   "source": [
    "## Load Movies Data"
   ]
  },
  {
   "cell_type": "code",
   "execution_count": null,
   "id": "load-movies-code",
   "metadata": {},
   "outputs": [],
   "source": [
    "movies = pd.read_csv('../data/movies.csv')\n",
    "print(movies.head())"
   ]
  },
  {
   "cell_type": "markdown",
   "id": "load-countries",
   "metadata": {},
   "source": [
    "## Load Countries Data"
   ]
  },
  {
   "cell_type": "code",
   "execution_count": null,
   "id": "load-countries-code",
   "metadata": {},
   "outputs": [],
   "source": [
    "countries = pd.read_csv('../data/countries.csv')\n",
    "print(countries.head())"
   ]
  },
  {
   "cell_type": "markdown",
   "id": "load-actors",
   "metadata": {},
   "source": [
    "## Load Actors Data"
   ]
  },
  {
   "cell_type": "code",
   "execution_count": null,
   "id": "load-actors-code",
   "metadata": {},
   "outputs": [],
   "source": [
    "actors = pd.read_csv('../data/actors.csv')\n",
    "print(actors.head())"
   ]
  },
  {
   "cell_type": "markdown",
   "id": "load-crew",
   "metadata": {},
   "source": [
    "## Load Crew Data"
   ]
  },
  {
   "cell_type": "code",
   "execution_count": null,
   "id": "load-crew-code",
   "metadata": {},
   "outputs": [],
   "source": [
    "crew = pd.read_csv('../data/crew.csv')\n",
    "print(crew.head())"
   ]
  },
  {
   "cell_type": "markdown",
   "id": "load-posters",
   "metadata": {},
   "source": [
    "## Load Posters Data"
   ]
  },
  {
   "cell_type": "code",
   "execution_count": null,
   "id": "load-posters-code",
   "metadata": {},
   "outputs": [],
   "source": [
    "posters = pd.read_csv('../data/posters.csv')\n",
    "print(posters.head())"
   ]
  },
  {
   "cell_type": "markdown",
   "id": "load-releases",
   "metadata": {},
   "source": [
    "## Load Releases Data"
   ]
  },
  {
   "cell_type": "code",
   "execution_count": null,
   "id": "load-releases-code",
   "metadata": {},
   "outputs": [],
   "source": [
    "releases = pd.read_csv('../data/releases.csv')\n",
    "print(releases.head())"
   ]
  },
  {
   "cell_type": "markdown",
   "id": "load-oscar-awards",
   "metadata": {},
   "source": [
    "## Load Oscar Awards Data"
   ]
  },
  {
   "cell_type": "code",
   "execution_count": null,
   "id": "load-oscar-awards-code",
   "metadata": {},
   "outputs": [],
   "source": [
    "oscar_awards = pd.read_csv('../data/The_oscar_awards.csv')\n",
    "print(oscar_awards.head())"
   ]
  },
  {
   "cell_type": "markdown",
   "id": "load-rotten-tomatoes-reviews",
   "metadata": {},
   "source": [
    "## Load Rotten Tomatoes Reviews Data"
   ]
  },
  {
   "cell_type": "code",
   "execution_count": null,
   "id": "load-rotten-tomatoes-reviews-code",
   "metadata": {},
   "outputs": [],
   "source": [
    "rotten_tomatoes_reviews = pd.read_csv('../data/rotten_tomatoes_reviews.csv')\n",
    "print(rotten_tomatoes_reviews.head())"
   ]
  }
 ],
 "metadata": {
  "kernelspec": {
   "display_name": "Python 3",
   "language": "python",
   "name": "python3"
  },
  "language_info": {
   "codemirror_mode": {
    "name": "ipython",
    "version": 3
   },
   "file_extension": ".py",
   "mimetype": "text/x-python",
   "name": "python",
   "nbconvert_exporter": "python",
   "pygments_lexer": "ipython3",
   "version": "3.8.5"
  }
 },
 "nbformat": 4,
 "nbformat_minor": 5
}
