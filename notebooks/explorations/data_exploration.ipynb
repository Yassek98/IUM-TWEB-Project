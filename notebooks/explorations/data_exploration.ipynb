{
 "cells": [
  {
   "cell_type": "markdown",
   "id": "795bbbd7b67e1204",
   "metadata": {},
   "source": [
    "# Data Exploration"
   ]
  },
  {
   "cell_type": "code",
   "id": "import-libraries",
   "metadata": {
    "ExecuteTime": {
     "end_time": "2025-01-14T22:00:21.809898Z",
     "start_time": "2025-01-14T22:00:21.148787Z"
    }
   },
   "source": [
    "import pandas as pd"
   ],
   "outputs": [],
   "execution_count": 1
  },
  {
   "cell_type": "markdown",
   "id": "load-movies",
   "metadata": {},
   "source": [
    "## Movies Dataframe\n",
    "The Movies dataframe contains detailed information about over 940,000 films, including their unique IDs, titles, release dates, poster taglines, short descriptions, durations in minutes, and their ratings."
   ]
  },
  {
   "cell_type": "code",
   "id": "load-movies-code",
   "metadata": {
    "ExecuteTime": {
     "end_time": "2025-01-14T22:00:27.841635Z",
     "start_time": "2025-01-14T22:00:23.657382Z"
    }
   },
   "source": "movies_df = pd.read_csv('csv/movies.csv')",
   "outputs": [],
   "execution_count": 2
  },
  {
   "cell_type": "code",
   "id": "b78e46d2126c3a33",
   "metadata": {
    "ExecuteTime": {
     "end_time": "2025-01-14T22:00:29.773590Z",
     "start_time": "2025-01-14T22:00:29.767041Z"
    }
   },
   "source": [
    "movies_df.shape"
   ],
   "outputs": [
    {
     "data": {
      "text/plain": [
       "(941597, 7)"
      ]
     },
     "execution_count": 3,
     "metadata": {},
     "output_type": "execute_result"
    }
   ],
   "execution_count": 3
  },
  {
   "cell_type": "markdown",
   "id": "ea30b43ec434471e",
   "metadata": {},
   "source": [
    "This dataset consists of 941,597 rows and 7 columns, providing comprehensive details about a vast collection of films."
   ]
  },
  {
   "cell_type": "code",
   "id": "ffa00be21ed20594",
   "metadata": {
    "ExecuteTime": {
     "end_time": "2025-01-14T22:00:32.116669Z",
     "start_time": "2025-01-14T22:00:32.099896Z"
    }
   },
   "source": [
    "movies_df.head()"
   ],
   "outputs": [
    {
     "data": {
      "text/plain": [
       "        id                               name    date  \\\n",
       "0  1000001                             Barbie  2023.0   \n",
       "1  1000002                           Parasite  2019.0   \n",
       "2  1000003  Everything Everywhere All at Once  2022.0   \n",
       "3  1000004                         Fight Club  1999.0   \n",
       "4  1000005                         La La Land  2016.0   \n",
       "\n",
       "                                            tagline  \\\n",
       "0                  She's everything. He's just Ken.   \n",
       "1                       Act like you own the place.   \n",
       "2  The universe is so much bigger than you realize.   \n",
       "3                           Mischief. Mayhem. Soap.   \n",
       "4                    Here's to the fools who dream.   \n",
       "\n",
       "                                         description  minute  rating  \n",
       "0  Barbie and Ken are having the time of their li...   114.0    3.86  \n",
       "1  All unemployed, Ki-taek's family takes peculia...   133.0    4.56  \n",
       "2  An aging Chinese immigrant is swept up in an i...   140.0    4.30  \n",
       "3  A ticking-time-bomb insomniac and a slippery s...   139.0    4.27  \n",
       "4  Mia, an aspiring actress, serves lattes to mov...   129.0    4.09  "
      ],
      "text/html": [
       "<div>\n",
       "<style scoped>\n",
       "    .dataframe tbody tr th:only-of-type {\n",
       "        vertical-align: middle;\n",
       "    }\n",
       "\n",
       "    .dataframe tbody tr th {\n",
       "        vertical-align: top;\n",
       "    }\n",
       "\n",
       "    .dataframe thead th {\n",
       "        text-align: right;\n",
       "    }\n",
       "</style>\n",
       "<table border=\"1\" class=\"dataframe\">\n",
       "  <thead>\n",
       "    <tr style=\"text-align: right;\">\n",
       "      <th></th>\n",
       "      <th>id</th>\n",
       "      <th>name</th>\n",
       "      <th>date</th>\n",
       "      <th>tagline</th>\n",
       "      <th>description</th>\n",
       "      <th>minute</th>\n",
       "      <th>rating</th>\n",
       "    </tr>\n",
       "  </thead>\n",
       "  <tbody>\n",
       "    <tr>\n",
       "      <th>0</th>\n",
       "      <td>1000001</td>\n",
       "      <td>Barbie</td>\n",
       "      <td>2023.0</td>\n",
       "      <td>She's everything. He's just Ken.</td>\n",
       "      <td>Barbie and Ken are having the time of their li...</td>\n",
       "      <td>114.0</td>\n",
       "      <td>3.86</td>\n",
       "    </tr>\n",
       "    <tr>\n",
       "      <th>1</th>\n",
       "      <td>1000002</td>\n",
       "      <td>Parasite</td>\n",
       "      <td>2019.0</td>\n",
       "      <td>Act like you own the place.</td>\n",
       "      <td>All unemployed, Ki-taek's family takes peculia...</td>\n",
       "      <td>133.0</td>\n",
       "      <td>4.56</td>\n",
       "    </tr>\n",
       "    <tr>\n",
       "      <th>2</th>\n",
       "      <td>1000003</td>\n",
       "      <td>Everything Everywhere All at Once</td>\n",
       "      <td>2022.0</td>\n",
       "      <td>The universe is so much bigger than you realize.</td>\n",
       "      <td>An aging Chinese immigrant is swept up in an i...</td>\n",
       "      <td>140.0</td>\n",
       "      <td>4.30</td>\n",
       "    </tr>\n",
       "    <tr>\n",
       "      <th>3</th>\n",
       "      <td>1000004</td>\n",
       "      <td>Fight Club</td>\n",
       "      <td>1999.0</td>\n",
       "      <td>Mischief. Mayhem. Soap.</td>\n",
       "      <td>A ticking-time-bomb insomniac and a slippery s...</td>\n",
       "      <td>139.0</td>\n",
       "      <td>4.27</td>\n",
       "    </tr>\n",
       "    <tr>\n",
       "      <th>4</th>\n",
       "      <td>1000005</td>\n",
       "      <td>La La Land</td>\n",
       "      <td>2016.0</td>\n",
       "      <td>Here's to the fools who dream.</td>\n",
       "      <td>Mia, an aspiring actress, serves lattes to mov...</td>\n",
       "      <td>129.0</td>\n",
       "      <td>4.09</td>\n",
       "    </tr>\n",
       "  </tbody>\n",
       "</table>\n",
       "</div>"
      ]
     },
     "execution_count": 4,
     "metadata": {},
     "output_type": "execute_result"
    }
   ],
   "execution_count": 4
  },
  {
   "cell_type": "code",
   "id": "2dc7a0be714b0b32",
   "metadata": {
    "ExecuteTime": {
     "end_time": "2025-01-14T22:00:34.355502Z",
     "start_time": "2025-01-14T22:00:34.338426Z"
    }
   },
   "source": [
    "movies_df.dtypes"
   ],
   "outputs": [
    {
     "data": {
      "text/plain": [
       "id               int64\n",
       "name            object\n",
       "date           float64\n",
       "tagline         object\n",
       "description     object\n",
       "minute         float64\n",
       "rating         float64\n",
       "dtype: object"
      ]
     },
     "execution_count": 5,
     "metadata": {},
     "output_type": "execute_result"
    }
   ],
   "execution_count": 5
  },
  {
   "cell_type": "markdown",
   "id": "71a8af807eb59c36",
   "metadata": {},
   "source": [
    "The date column is currently stored as a float, which is not suitable for representing release dates; We will convert it to a proper date format for accurate analysis."
   ]
  },
  {
   "cell_type": "code",
   "id": "fe7c0d5bae8270e5",
   "metadata": {
    "ExecuteTime": {
     "end_time": "2025-01-14T22:00:37.929462Z",
     "start_time": "2025-01-14T22:00:37.895363Z"
    }
   },
   "source": [
    "movies_df['date'] = pd.to_datetime(movies_df['date'])"
   ],
   "outputs": [],
   "execution_count": 6
  },
  {
   "cell_type": "code",
   "id": "207358a083b60ffd",
   "metadata": {
    "ExecuteTime": {
     "end_time": "2025-01-14T22:00:40.091037Z",
     "start_time": "2025-01-14T22:00:40.086455Z"
    }
   },
   "source": [
    "movies_df.dtypes"
   ],
   "outputs": [
    {
     "data": {
      "text/plain": [
       "id                      int64\n",
       "name                   object\n",
       "date           datetime64[ns]\n",
       "tagline                object\n",
       "description            object\n",
       "minute                float64\n",
       "rating                float64\n",
       "dtype: object"
      ]
     },
     "execution_count": 7,
     "metadata": {},
     "output_type": "execute_result"
    }
   ],
   "execution_count": 7
  },
  {
   "metadata": {},
   "cell_type": "markdown",
   "source": "",
   "id": "ccbc6d32cf9cd450"
  },
  {
   "metadata": {},
   "cell_type": "markdown",
   "source": "### Analisi dei valori nulli",
   "id": "baed8fc97ca42139"
  },
  {
   "metadata": {
    "ExecuteTime": {
     "end_time": "2025-01-14T22:00:44.108616Z",
     "start_time": "2025-01-14T22:00:43.827773Z"
    }
   },
   "cell_type": "code",
   "source": "movies_df.isna().sum()",
   "id": "7a25318bb928a4d",
   "outputs": [
    {
     "data": {
      "text/plain": [
       "id                  0\n",
       "name               10\n",
       "date            91913\n",
       "tagline        802210\n",
       "description    160812\n",
       "minute         181570\n",
       "rating         850598\n",
       "dtype: int64"
      ]
     },
     "execution_count": 8,
     "metadata": {},
     "output_type": "execute_result"
    }
   ],
   "execution_count": 8
  },
  {
   "cell_type": "code",
   "id": "44abbb50a8cc2ae7",
   "metadata": {
    "ExecuteTime": {
     "end_time": "2025-01-14T22:00:58.720408Z",
     "start_time": "2025-01-14T22:00:58.642430Z"
    }
   },
   "source": [
    "movies_df[movies_df['name'].isna()]"
   ],
   "outputs": [
    {
     "data": {
      "text/plain": [
       "             id name                          date tagline  \\\n",
       "287514  1287515  NaN 1970-01-01 00:00:00.000002015     NaN   \n",
       "617642  1617643  NaN                           NaT     NaN   \n",
       "646520  1646521  NaN 1970-01-01 00:00:00.000002008     NaN   \n",
       "648185  1648186  NaN                           NaT     NaN   \n",
       "720294  1720295  NaN                           NaT     NaN   \n",
       "725369  1725370  NaN                           NaT     NaN   \n",
       "741481  1741482  NaN                           NaT     NaN   \n",
       "840337  1840338  NaN                           NaT     NaN   \n",
       "883228  1883229  NaN                           NaT     NaN   \n",
       "894771  1894772  NaN                           NaT     NaN   \n",
       "\n",
       "                                              description  minute  rating  \n",
       "287514  NONE is a short film that explores the balance...     4.0     NaN  \n",
       "617642                                                NaN     NaN     NaN  \n",
       "646520                                                NaN     NaN     NaN  \n",
       "648185                                                NaN     NaN     NaN  \n",
       "720294  In this directorial debut of Eden Ewardson, he...     8.0     NaN  \n",
       "725369                                                NaN     NaN     NaN  \n",
       "741481                                                NaN    90.0     NaN  \n",
       "840337                                                NaN     NaN     NaN  \n",
       "883228                                                NaN     NaN     NaN  \n",
       "894771                                                NaN     NaN     NaN  "
      ],
      "text/html": [
       "<div>\n",
       "<style scoped>\n",
       "    .dataframe tbody tr th:only-of-type {\n",
       "        vertical-align: middle;\n",
       "    }\n",
       "\n",
       "    .dataframe tbody tr th {\n",
       "        vertical-align: top;\n",
       "    }\n",
       "\n",
       "    .dataframe thead th {\n",
       "        text-align: right;\n",
       "    }\n",
       "</style>\n",
       "<table border=\"1\" class=\"dataframe\">\n",
       "  <thead>\n",
       "    <tr style=\"text-align: right;\">\n",
       "      <th></th>\n",
       "      <th>id</th>\n",
       "      <th>name</th>\n",
       "      <th>date</th>\n",
       "      <th>tagline</th>\n",
       "      <th>description</th>\n",
       "      <th>minute</th>\n",
       "      <th>rating</th>\n",
       "    </tr>\n",
       "  </thead>\n",
       "  <tbody>\n",
       "    <tr>\n",
       "      <th>287514</th>\n",
       "      <td>1287515</td>\n",
       "      <td>NaN</td>\n",
       "      <td>1970-01-01 00:00:00.000002015</td>\n",
       "      <td>NaN</td>\n",
       "      <td>NONE is a short film that explores the balance...</td>\n",
       "      <td>4.0</td>\n",
       "      <td>NaN</td>\n",
       "    </tr>\n",
       "    <tr>\n",
       "      <th>617642</th>\n",
       "      <td>1617643</td>\n",
       "      <td>NaN</td>\n",
       "      <td>NaT</td>\n",
       "      <td>NaN</td>\n",
       "      <td>NaN</td>\n",
       "      <td>NaN</td>\n",
       "      <td>NaN</td>\n",
       "    </tr>\n",
       "    <tr>\n",
       "      <th>646520</th>\n",
       "      <td>1646521</td>\n",
       "      <td>NaN</td>\n",
       "      <td>1970-01-01 00:00:00.000002008</td>\n",
       "      <td>NaN</td>\n",
       "      <td>NaN</td>\n",
       "      <td>NaN</td>\n",
       "      <td>NaN</td>\n",
       "    </tr>\n",
       "    <tr>\n",
       "      <th>648185</th>\n",
       "      <td>1648186</td>\n",
       "      <td>NaN</td>\n",
       "      <td>NaT</td>\n",
       "      <td>NaN</td>\n",
       "      <td>NaN</td>\n",
       "      <td>NaN</td>\n",
       "      <td>NaN</td>\n",
       "    </tr>\n",
       "    <tr>\n",
       "      <th>720294</th>\n",
       "      <td>1720295</td>\n",
       "      <td>NaN</td>\n",
       "      <td>NaT</td>\n",
       "      <td>NaN</td>\n",
       "      <td>In this directorial debut of Eden Ewardson, he...</td>\n",
       "      <td>8.0</td>\n",
       "      <td>NaN</td>\n",
       "    </tr>\n",
       "    <tr>\n",
       "      <th>725369</th>\n",
       "      <td>1725370</td>\n",
       "      <td>NaN</td>\n",
       "      <td>NaT</td>\n",
       "      <td>NaN</td>\n",
       "      <td>NaN</td>\n",
       "      <td>NaN</td>\n",
       "      <td>NaN</td>\n",
       "    </tr>\n",
       "    <tr>\n",
       "      <th>741481</th>\n",
       "      <td>1741482</td>\n",
       "      <td>NaN</td>\n",
       "      <td>NaT</td>\n",
       "      <td>NaN</td>\n",
       "      <td>NaN</td>\n",
       "      <td>90.0</td>\n",
       "      <td>NaN</td>\n",
       "    </tr>\n",
       "    <tr>\n",
       "      <th>840337</th>\n",
       "      <td>1840338</td>\n",
       "      <td>NaN</td>\n",
       "      <td>NaT</td>\n",
       "      <td>NaN</td>\n",
       "      <td>NaN</td>\n",
       "      <td>NaN</td>\n",
       "      <td>NaN</td>\n",
       "    </tr>\n",
       "    <tr>\n",
       "      <th>883228</th>\n",
       "      <td>1883229</td>\n",
       "      <td>NaN</td>\n",
       "      <td>NaT</td>\n",
       "      <td>NaN</td>\n",
       "      <td>NaN</td>\n",
       "      <td>NaN</td>\n",
       "      <td>NaN</td>\n",
       "    </tr>\n",
       "    <tr>\n",
       "      <th>894771</th>\n",
       "      <td>1894772</td>\n",
       "      <td>NaN</td>\n",
       "      <td>NaT</td>\n",
       "      <td>NaN</td>\n",
       "      <td>NaN</td>\n",
       "      <td>NaN</td>\n",
       "      <td>NaN</td>\n",
       "    </tr>\n",
       "  </tbody>\n",
       "</table>\n",
       "</div>"
      ]
     },
     "execution_count": 9,
     "metadata": {},
     "output_type": "execute_result"
    }
   ],
   "execution_count": 9
  },
  {
   "metadata": {},
   "cell_type": "markdown",
   "source": "###  Eliminazione Valori nulli",
   "id": "cc51d8a51474b05f"
  },
  {
   "metadata": {
    "ExecuteTime": {
     "end_time": "2025-01-14T22:01:02.085584Z",
     "start_time": "2025-01-14T22:01:01.850011Z"
    }
   },
   "cell_type": "code",
   "source": "movies_df = movies_df.dropna(subset=['name'])",
   "id": "eaca51bbde42a24b",
   "outputs": [],
   "execution_count": 10
  },
  {
   "metadata": {},
   "cell_type": "markdown",
   "source": "",
   "id": "cdb849b7098a697d"
  },
  {
   "metadata": {},
   "cell_type": "markdown",
   "source": "### Analisi dei duplicati",
   "id": "86ec5987acb5ee"
  },
  {
   "cell_type": "code",
   "id": "f12f64b0a589fd3",
   "metadata": {
    "ExecuteTime": {
     "end_time": "2025-01-14T22:01:12.813992Z",
     "start_time": "2025-01-14T22:01:11.796523Z"
    }
   },
   "source": "movies_df.duplicated().sum()",
   "outputs": [
    {
     "data": {
      "text/plain": [
       "np.int64(0)"
      ]
     },
     "execution_count": 11,
     "metadata": {},
     "output_type": "execute_result"
    }
   ],
   "execution_count": 11
  },
  {
   "cell_type": "code",
   "id": "c87c26957e3a0fff",
   "metadata": {
    "ExecuteTime": {
     "end_time": "2025-01-14T22:01:15.187837Z",
     "start_time": "2025-01-14T22:01:15.175127Z"
    }
   },
   "source": [
    "movies_df['id'].duplicated().any()"
   ],
   "outputs": [
    {
     "data": {
      "text/plain": [
       "np.False_"
      ]
     },
     "execution_count": 12,
     "metadata": {},
     "output_type": "execute_result"
    }
   ],
   "execution_count": 12
  },
  {
   "metadata": {
    "ExecuteTime": {
     "end_time": "2025-01-14T22:01:19.968326Z",
     "start_time": "2025-01-14T22:01:19.824736Z"
    }
   },
   "cell_type": "code",
   "source": [
    "# Trova i film con nomi duplicati\n",
    "movies_df['name'].duplicated().any()"
   ],
   "id": "221ea85837559df",
   "outputs": [
    {
     "data": {
      "text/plain": [
       "np.True_"
      ]
     },
     "execution_count": 13,
     "metadata": {},
     "output_type": "execute_result"
    }
   ],
   "execution_count": 13
  },
  {
   "metadata": {
    "ExecuteTime": {
     "end_time": "2025-01-14T22:13:59.355519Z",
     "start_time": "2025-01-14T22:13:58.785737Z"
    }
   },
   "cell_type": "code",
   "source": [
    "duplicati = movies_df[movies_df['name'].duplicated(keep=False)]\n",
    "\n",
    "duplicati = duplicati.sort_values(by='name')\n",
    "\n",
    "duplicati"
   ],
   "id": "39dff63d6b2c8a67",
   "outputs": [
    {
     "data": {
      "text/plain": [
       "             id  name                          date  \\\n",
       "336644  1336645     # 1970-01-01 00:00:00.000002020   \n",
       "787774  1787775     # 1970-01-01 00:00:00.000002012   \n",
       "524259  1524260    #1 1970-01-01 00:00:00.000002022   \n",
       "393181  1393182    #1 1970-01-01 00:00:00.000002009   \n",
       "526951  1526952    #1 1970-01-01 00:00:00.000002011   \n",
       "...         ...   ...                           ...   \n",
       "769416  1769417    螺旋 1970-01-01 00:00:00.000001981   \n",
       "864354  1864355  飞跃绝境 1970-01-01 00:00:00.000001991   \n",
       "896514  1896515  飞跃绝境                           NaT   \n",
       "729419  1729420    鬼妹 1970-01-01 00:00:00.000001985   \n",
       "708855  1708856    鬼妹 1970-01-01 00:00:00.000002005   \n",
       "\n",
       "                                                  tagline  \\\n",
       "336644                                                NaN   \n",
       "787774                                                NaN   \n",
       "524259  A modern story of suspense... in their biggest...   \n",
       "393181                                                NaN   \n",
       "526951                                                NaN   \n",
       "...                                                   ...   \n",
       "769416                                                NaN   \n",
       "864354                                                NaN   \n",
       "896514                                                NaN   \n",
       "729419                                                NaN   \n",
       "708855                                                NaN   \n",
       "\n",
       "                                              description  minute  rating  \n",
       "336644                  Infodemic, pandemic, pandemonium.     4.0     NaN  \n",
       "787774                                                NaN     NaN     NaN  \n",
       "524259  A broke comic shop owner and an obsessive coll...     8.0     NaN  \n",
       "393181  You're running and you're running away, but yo...     4.0     NaN  \n",
       "526951                    Short movie by Tomoyasu Murata.     5.0     NaN  \n",
       "...                                                   ...     ...     ...  \n",
       "769416                                                NaN    86.0     NaN  \n",
       "864354                                                NaN     NaN     NaN  \n",
       "896514  In 1964, my country will conduct the first exp...     NaN     NaN  \n",
       "729419                                                NaN    91.0     NaN  \n",
       "708855  Entangled by ghosts, a scholar teams up with a...    88.0     NaN  \n",
       "\n",
       "[191364 rows x 7 columns]"
      ],
      "text/html": [
       "<div>\n",
       "<style scoped>\n",
       "    .dataframe tbody tr th:only-of-type {\n",
       "        vertical-align: middle;\n",
       "    }\n",
       "\n",
       "    .dataframe tbody tr th {\n",
       "        vertical-align: top;\n",
       "    }\n",
       "\n",
       "    .dataframe thead th {\n",
       "        text-align: right;\n",
       "    }\n",
       "</style>\n",
       "<table border=\"1\" class=\"dataframe\">\n",
       "  <thead>\n",
       "    <tr style=\"text-align: right;\">\n",
       "      <th></th>\n",
       "      <th>id</th>\n",
       "      <th>name</th>\n",
       "      <th>date</th>\n",
       "      <th>tagline</th>\n",
       "      <th>description</th>\n",
       "      <th>minute</th>\n",
       "      <th>rating</th>\n",
       "    </tr>\n",
       "  </thead>\n",
       "  <tbody>\n",
       "    <tr>\n",
       "      <th>336644</th>\n",
       "      <td>1336645</td>\n",
       "      <td>#</td>\n",
       "      <td>1970-01-01 00:00:00.000002020</td>\n",
       "      <td>NaN</td>\n",
       "      <td>Infodemic, pandemic, pandemonium.</td>\n",
       "      <td>4.0</td>\n",
       "      <td>NaN</td>\n",
       "    </tr>\n",
       "    <tr>\n",
       "      <th>787774</th>\n",
       "      <td>1787775</td>\n",
       "      <td>#</td>\n",
       "      <td>1970-01-01 00:00:00.000002012</td>\n",
       "      <td>NaN</td>\n",
       "      <td>NaN</td>\n",
       "      <td>NaN</td>\n",
       "      <td>NaN</td>\n",
       "    </tr>\n",
       "    <tr>\n",
       "      <th>524259</th>\n",
       "      <td>1524260</td>\n",
       "      <td>#1</td>\n",
       "      <td>1970-01-01 00:00:00.000002022</td>\n",
       "      <td>A modern story of suspense... in their biggest...</td>\n",
       "      <td>A broke comic shop owner and an obsessive coll...</td>\n",
       "      <td>8.0</td>\n",
       "      <td>NaN</td>\n",
       "    </tr>\n",
       "    <tr>\n",
       "      <th>393181</th>\n",
       "      <td>1393182</td>\n",
       "      <td>#1</td>\n",
       "      <td>1970-01-01 00:00:00.000002009</td>\n",
       "      <td>NaN</td>\n",
       "      <td>You're running and you're running away, but yo...</td>\n",
       "      <td>4.0</td>\n",
       "      <td>NaN</td>\n",
       "    </tr>\n",
       "    <tr>\n",
       "      <th>526951</th>\n",
       "      <td>1526952</td>\n",
       "      <td>#1</td>\n",
       "      <td>1970-01-01 00:00:00.000002011</td>\n",
       "      <td>NaN</td>\n",
       "      <td>Short movie by Tomoyasu Murata.</td>\n",
       "      <td>5.0</td>\n",
       "      <td>NaN</td>\n",
       "    </tr>\n",
       "    <tr>\n",
       "      <th>...</th>\n",
       "      <td>...</td>\n",
       "      <td>...</td>\n",
       "      <td>...</td>\n",
       "      <td>...</td>\n",
       "      <td>...</td>\n",
       "      <td>...</td>\n",
       "      <td>...</td>\n",
       "    </tr>\n",
       "    <tr>\n",
       "      <th>769416</th>\n",
       "      <td>1769417</td>\n",
       "      <td>螺旋</td>\n",
       "      <td>1970-01-01 00:00:00.000001981</td>\n",
       "      <td>NaN</td>\n",
       "      <td>NaN</td>\n",
       "      <td>86.0</td>\n",
       "      <td>NaN</td>\n",
       "    </tr>\n",
       "    <tr>\n",
       "      <th>864354</th>\n",
       "      <td>1864355</td>\n",
       "      <td>飞跃绝境</td>\n",
       "      <td>1970-01-01 00:00:00.000001991</td>\n",
       "      <td>NaN</td>\n",
       "      <td>NaN</td>\n",
       "      <td>NaN</td>\n",
       "      <td>NaN</td>\n",
       "    </tr>\n",
       "    <tr>\n",
       "      <th>896514</th>\n",
       "      <td>1896515</td>\n",
       "      <td>飞跃绝境</td>\n",
       "      <td>NaT</td>\n",
       "      <td>NaN</td>\n",
       "      <td>In 1964, my country will conduct the first exp...</td>\n",
       "      <td>NaN</td>\n",
       "      <td>NaN</td>\n",
       "    </tr>\n",
       "    <tr>\n",
       "      <th>729419</th>\n",
       "      <td>1729420</td>\n",
       "      <td>鬼妹</td>\n",
       "      <td>1970-01-01 00:00:00.000001985</td>\n",
       "      <td>NaN</td>\n",
       "      <td>NaN</td>\n",
       "      <td>91.0</td>\n",
       "      <td>NaN</td>\n",
       "    </tr>\n",
       "    <tr>\n",
       "      <th>708855</th>\n",
       "      <td>1708856</td>\n",
       "      <td>鬼妹</td>\n",
       "      <td>1970-01-01 00:00:00.000002005</td>\n",
       "      <td>NaN</td>\n",
       "      <td>Entangled by ghosts, a scholar teams up with a...</td>\n",
       "      <td>88.0</td>\n",
       "      <td>NaN</td>\n",
       "    </tr>\n",
       "  </tbody>\n",
       "</table>\n",
       "<p>191364 rows × 7 columns</p>\n",
       "</div>"
      ]
     },
     "execution_count": 27,
     "metadata": {},
     "output_type": "execute_result"
    }
   ],
   "execution_count": 27
  },
  {
   "cell_type": "code",
   "id": "6e073510d6466ecc",
   "metadata": {
    "ExecuteTime": {
     "end_time": "2025-01-14T22:04:34.313231Z",
     "start_time": "2025-01-14T22:04:33.719490Z"
    }
   },
   "source": [
    "duplicati = movies_df[movies_df.duplicated(subset=['name', 'date', 'description'], keep=False)]\n",
    "\n",
    "# Ordina i duplicati per una migliore visualizzazione\n",
    "duplicati = duplicati.sort_values(by=['name', 'date', 'description'])\n",
    "\n",
    "# Mostra i duplicati\n",
    "duplicati"
   ],
   "outputs": [
    {
     "data": {
      "text/plain": [
       "Empty DataFrame\n",
       "Columns: [id, name, date, tagline, description, minute, rating]\n",
       "Index: []"
      ],
      "text/html": [
       "<div>\n",
       "<style scoped>\n",
       "    .dataframe tbody tr th:only-of-type {\n",
       "        vertical-align: middle;\n",
       "    }\n",
       "\n",
       "    .dataframe tbody tr th {\n",
       "        vertical-align: top;\n",
       "    }\n",
       "\n",
       "    .dataframe thead th {\n",
       "        text-align: right;\n",
       "    }\n",
       "</style>\n",
       "<table border=\"1\" class=\"dataframe\">\n",
       "  <thead>\n",
       "    <tr style=\"text-align: right;\">\n",
       "      <th></th>\n",
       "      <th>id</th>\n",
       "      <th>name</th>\n",
       "      <th>date</th>\n",
       "      <th>tagline</th>\n",
       "      <th>description</th>\n",
       "      <th>minute</th>\n",
       "      <th>rating</th>\n",
       "    </tr>\n",
       "  </thead>\n",
       "  <tbody>\n",
       "  </tbody>\n",
       "</table>\n",
       "</div>"
      ]
     },
     "execution_count": 18,
     "metadata": {},
     "output_type": "execute_result"
    }
   ],
   "execution_count": 18
  },
  {
   "metadata": {},
   "cell_type": "markdown",
   "source": "si è deciso di eliminare i duplicati con stesso 'name', 'date', 'description'",
   "id": "cda71829b42af306"
  },
  {
   "metadata": {
    "ExecuteTime": {
     "end_time": "2025-01-14T22:04:10.053066Z",
     "start_time": "2025-01-14T22:04:09.523689Z"
    }
   },
   "cell_type": "code",
   "source": "movies_df = movies_df.drop_duplicates(subset=['name', 'date', 'description'])",
   "id": "4cfd857d28596bf4",
   "outputs": [],
   "execution_count": 17
  },
  {
   "metadata": {
    "ExecuteTime": {
     "end_time": "2025-01-14T22:12:49.307522Z",
     "start_time": "2025-01-14T22:12:48.933575Z"
    }
   },
   "cell_type": "code",
   "source": [
    "# Filtra i duplicati per la colonna 'name' con keep=False\n",
    "duplicati = movies_df[movies_df['name'].duplicated(keep=False)]\n",
    "\n",
    "# Filtra ulteriormente per le righe dove 'date' e 'description' sono NaN\n",
    "duplicati_nan = duplicati[duplicati['date'].isna() & duplicati['description'].isna()]\n",
    "\n",
    "# Ordina i risultati per una migliore leggibilità\n",
    "duplicati_nan = duplicati_nan.sort_values(by='name')\n",
    "\n",
    "# Mostra i duplicati con le condizioni richieste\n",
    "duplicati_nan"
   ],
   "id": "3b0ff3fb9f357dd5",
   "outputs": [
    {
     "data": {
      "text/plain": [
       "Empty DataFrame\n",
       "Columns: [id, name, date, tagline, description, minute, rating]\n",
       "Index: []"
      ],
      "text/html": [
       "<div>\n",
       "<style scoped>\n",
       "    .dataframe tbody tr th:only-of-type {\n",
       "        vertical-align: middle;\n",
       "    }\n",
       "\n",
       "    .dataframe tbody tr th {\n",
       "        vertical-align: top;\n",
       "    }\n",
       "\n",
       "    .dataframe thead th {\n",
       "        text-align: right;\n",
       "    }\n",
       "</style>\n",
       "<table border=\"1\" class=\"dataframe\">\n",
       "  <thead>\n",
       "    <tr style=\"text-align: right;\">\n",
       "      <th></th>\n",
       "      <th>id</th>\n",
       "      <th>name</th>\n",
       "      <th>date</th>\n",
       "      <th>tagline</th>\n",
       "      <th>description</th>\n",
       "      <th>minute</th>\n",
       "      <th>rating</th>\n",
       "    </tr>\n",
       "  </thead>\n",
       "  <tbody>\n",
       "  </tbody>\n",
       "</table>\n",
       "</div>"
      ]
     },
     "execution_count": 25,
     "metadata": {},
     "output_type": "execute_result"
    }
   ],
   "execution_count": 25
  },
  {
   "metadata": {},
   "cell_type": "markdown",
   "source": "si è deciso di eliminare anche i duplicati con stesso 'name' ma con i valori 'date' e 'description' nulli",
   "id": "4e3dcc97fadfb34c"
  },
  {
   "metadata": {
    "ExecuteTime": {
     "end_time": "2025-01-14T22:12:44.909017Z",
     "start_time": "2025-01-14T22:12:44.235924Z"
    }
   },
   "cell_type": "code",
   "source": "movies_df = movies_df.drop(duplicati_nan.index)",
   "id": "3d189177ab7f0474",
   "outputs": [],
   "execution_count": 24
  },
  {
   "metadata": {},
   "cell_type": "code",
   "outputs": [],
   "execution_count": null,
   "source": "movies_df[(movies_df['rating'] > 5) | (movies_df['rating'] < 0)]",
   "id": "a319aa276b123a0a"
  },
  {
   "metadata": {},
   "cell_type": "markdown",
   "source": [
    "## Countries Dataframe\n",
    "This dataset contains over 693,000 entries with the columns 'id', representing the film ID, and 'country', indicating one of the originating countries, with the possibility of multiple countries per film."
   ],
   "id": "ef031c0aaec7c360"
  },
  {
   "cell_type": "code",
   "id": "9bc8b9f590b42851",
   "metadata": {
    "ExecuteTime": {
     "end_time": "2025-01-14T21:44:48.737236Z",
     "start_time": "2025-01-14T21:44:48.595369Z"
    }
   },
   "source": "countries_df = pd.read_csv('csv/countries.csv')",
   "outputs": [],
   "execution_count": 18
  },
  {
   "metadata": {},
   "cell_type": "code",
   "outputs": [],
   "execution_count": null,
   "source": "countries_df.shape",
   "id": "58975a749fee9543"
  },
  {
   "metadata": {},
   "cell_type": "markdown",
   "source": "This dataset consists of 693,476 rows and 2 columns, providing detailed information about the countries associated with each film.",
   "id": "ff40e72c6c6c99b3"
  },
  {
   "cell_type": "code",
   "execution_count": 18,
   "id": "ddbf37868ee39733",
   "metadata": {
    "ExecuteTime": {
     "end_time": "2025-01-12T16:17:35.181798Z",
     "start_time": "2025-01-12T16:17:35.175331Z"
    }
   },
   "outputs": [
    {
     "data": {
      "text/plain": [
       "id          int64\n",
       "country    object\n",
       "dtype: object"
      ]
     },
     "execution_count": 18,
     "metadata": {},
     "output_type": "execute_result"
    }
   ],
   "source": "countries_df.head()"
  },
  {
   "cell_type": "code",
   "execution_count": 19,
   "id": "2d2ddfeac2b3d767",
   "metadata": {
    "ExecuteTime": {
     "end_time": "2025-01-12T16:21:14.396808Z",
     "start_time": "2025-01-12T16:21:14.351856Z"
    }
   },
   "outputs": [
    {
     "data": {
      "text/plain": [
       "id         0\n",
       "country    0\n",
       "dtype: int64"
      ]
     },
     "execution_count": 19,
     "metadata": {},
     "output_type": "execute_result"
    }
   ],
   "source": "countries_df.dtypes"
  },
  {
   "metadata": {},
   "cell_type": "code",
   "outputs": [],
   "execution_count": null,
   "source": "countries_df.isna().sum()",
   "id": "f18475c71b5c0c3b"
  },
  {
   "metadata": {},
   "cell_type": "markdown",
   "source": "There are no null values in the dataset.",
   "id": "163d3e44c021a484"
  },
  {
   "metadata": {},
   "cell_type": "code",
   "outputs": [],
   "execution_count": null,
   "source": "countries_df.duplicated().sum()",
   "id": "c5537a0b3e20352d"
  },
  {
   "cell_type": "markdown",
   "id": "load-actors",
   "metadata": {},
   "source": "There are no duplicate entries in the dataset."
  },
  {
   "metadata": {},
   "cell_type": "markdown",
   "source": [
    "## Actors Dataframe\n",
    "This dataset contains over 5.7 million entries with the columns 'id', representing the film ID, 'name', indicating the name of the actor, and 'role', specifying the character played."
   ],
   "id": "365cd849898e76be"
  },
  {
   "cell_type": "code",
   "execution_count": 22,
   "id": "1e32d7a4e0954132",
   "metadata": {
    "ExecuteTime": {
     "end_time": "2025-01-12T16:26:21.916439Z",
     "start_time": "2025-01-12T16:26:21.910426Z"
    }
   },
   "outputs": [
    {
     "data": {
      "text/plain": [
       "(5798450, 3)"
      ]
     },
     "execution_count": 22,
     "metadata": {},
     "output_type": "execute_result"
    }
   ],
   "source": "actors_df = pd.read_csv('../csv/actors.csv')"
  },
  {
   "metadata": {},
   "cell_type": "code",
   "outputs": [],
   "execution_count": null,
   "source": "actors_df.shape",
   "id": "cc03b42414867be9"
  },
  {
   "metadata": {},
   "cell_type": "markdown",
   "source": "This dataset consists of 5,798,450 rows and 3 columns, providing detailed information about the actors, their roles, and the films they appear in.",
   "id": "e382978f4645f4d5"
  },
  {
   "cell_type": "code",
   "execution_count": 24,
   "id": "3d9c88a41f436a97",
   "metadata": {
    "ExecuteTime": {
     "end_time": "2025-01-12T16:28:24.742086Z",
     "start_time": "2025-01-12T16:28:24.734500Z"
    }
   },
   "outputs": [
    {
     "data": {
      "text/plain": [
       "id       int64\n",
       "name    object\n",
       "role    object\n",
       "dtype: object"
      ]
     },
     "execution_count": 24,
     "metadata": {},
     "output_type": "execute_result"
    }
   ],
   "source": "actors_df.head()"
  },
  {
   "cell_type": "code",
   "execution_count": 25,
   "id": "d0ec7b0095186e31",
   "metadata": {
    "ExecuteTime": {
     "end_time": "2025-01-12T16:28:58.321821Z",
     "start_time": "2025-01-12T16:28:58.285407Z"
    }
   },
   "outputs": [
    {
     "data": {
      "text/plain": [
       "id         0\n",
       "country    0\n",
       "dtype: int64"
      ]
     },
     "execution_count": 25,
     "metadata": {},
     "output_type": "execute_result"
    }
   ],
   "source": "actors_df.dtypes"
  },
  {
   "metadata": {},
   "cell_type": "code",
   "outputs": [],
   "execution_count": null,
   "source": "countries_df.isna().sum()",
   "id": "ca59347c4f4a4e73"
  },
  {
   "metadata": {},
   "cell_type": "markdown",
   "source": "There are no null values in the dataset.",
   "id": "2be65c2d0f9418fd"
  },
  {
   "metadata": {},
   "cell_type": "code",
   "outputs": [],
   "execution_count": null,
   "source": "countries_df.duplicated().sum()",
   "id": "e8c45864cb78d99d"
  },
  {
   "cell_type": "markdown",
   "id": "load-crew",
   "metadata": {},
   "source": "There are no duplicate entries in the dataset."
  },
  {
   "metadata": {},
   "cell_type": "markdown",
   "source": [
    "## Crew Dataframe\n",
    "This dataset contains over 4.7 million entries with the columns 'id', representing the film ID, 'role', indicating the role (e.g., director), and 'name', specifying the name of the person."
   ],
   "id": "8904afd1b4d53b6a"
  },
  {
   "cell_type": "code",
   "execution_count": 28,
   "id": "20d09e64cb76358",
   "metadata": {
    "ExecuteTime": {
     "end_time": "2025-01-12T16:32:19.617408Z",
     "start_time": "2025-01-12T16:32:19.610709Z"
    }
   },
   "outputs": [
    {
     "data": {
      "text/plain": [
       "(4720183, 3)"
      ]
     },
     "execution_count": 28,
     "metadata": {},
     "output_type": "execute_result"
    }
   ],
   "source": "crew_df = pd.read_csv('../csv/crew.csv')"
  },
  {
   "metadata": {},
   "cell_type": "code",
   "outputs": [],
   "execution_count": null,
   "source": "crew_df.shape",
   "id": "7465642048855b0f"
  },
  {
   "metadata": {},
   "cell_type": "markdown",
   "source": "This dataset consists of 4,720,183 rows and 3 columns, providing detailed information about the crew members, their roles, and the films they are associated with.",
   "id": "7812d41a37b0977b"
  },
  {
   "cell_type": "code",
   "execution_count": 30,
   "id": "5572ecd0a03f3a68",
   "metadata": {
    "ExecuteTime": {
     "end_time": "2025-01-12T16:33:18.156930Z",
     "start_time": "2025-01-12T16:33:18.149109Z"
    }
   },
   "outputs": [
    {
     "data": {
      "text/plain": [
       "id       int64\n",
       "role    object\n",
       "name    object\n",
       "dtype: object"
      ]
     },
     "execution_count": 30,
     "metadata": {},
     "output_type": "execute_result"
    }
   ],
   "source": "crew_df.head()"
  },
  {
   "cell_type": "code",
   "execution_count": 31,
   "id": "7f41715d49e12d20",
   "metadata": {
    "ExecuteTime": {
     "end_time": "2025-01-12T16:34:55.407266Z",
     "start_time": "2025-01-12T16:34:54.933749Z"
    }
   },
   "outputs": [
    {
     "data": {
      "text/plain": [
       "id      0\n",
       "role    0\n",
       "name    1\n",
       "dtype: int64"
      ]
     },
     "execution_count": 31,
     "metadata": {},
     "output_type": "execute_result"
    }
   ],
   "source": "crew_df.dtypes"
  },
  {
   "cell_type": "code",
   "execution_count": 32,
   "id": "9c8bab3222beb111",
   "metadata": {
    "ExecuteTime": {
     "end_time": "2025-01-12T16:35:59.050220Z",
     "start_time": "2025-01-12T16:35:58.799933Z"
    }
   },
   "outputs": [
    {
     "data": {
      "text/html": [
       "<div>\n",
       "<style scoped>\n",
       "    .dataframe tbody tr th:only-of-type {\n",
       "        vertical-align: middle;\n",
       "    }\n",
       "\n",
       "    .dataframe tbody tr th {\n",
       "        vertical-align: top;\n",
       "    }\n",
       "\n",
       "    .dataframe thead th {\n",
       "        text-align: right;\n",
       "    }\n",
       "</style>\n",
       "<table border=\"1\" class=\"dataframe\">\n",
       "  <thead>\n",
       "    <tr style=\"text-align: right;\">\n",
       "      <th></th>\n",
       "      <th>id</th>\n",
       "      <th>role</th>\n",
       "      <th>name</th>\n",
       "    </tr>\n",
       "  </thead>\n",
       "  <tbody>\n",
       "    <tr>\n",
       "      <th>4562126</th>\n",
       "      <td>1859397</td>\n",
       "      <td>Writer</td>\n",
       "      <td>NaN</td>\n",
       "    </tr>\n",
       "  </tbody>\n",
       "</table>\n",
       "</div>"
      ],
      "text/plain": [
       "              id    role name\n",
       "4562126  1859397  Writer  NaN"
      ]
     },
     "execution_count": 32,
     "metadata": {},
     "output_type": "execute_result"
    }
   ],
   "source": "crew_df.isna().sum()"
  },
  {
   "metadata": {},
   "cell_type": "code",
   "outputs": [],
   "execution_count": null,
   "source": "crew_df[crew_df['name'].isnull()]",
   "id": "ad9c69c53227ff35"
  },
  {
   "metadata": {},
   "cell_type": "markdown",
   "source": "A null value was found in the 'name' column, but it will be retained as it may represent a missing or incomplete entry that is important for the context of the dataset.",
   "id": "cb136415b0484ae4"
  },
  {
   "metadata": {},
   "cell_type": "code",
   "outputs": [],
   "execution_count": null,
   "source": "countries_df.duplicated().sum()",
   "id": "7f02923701d92672"
  },
  {
   "cell_type": "markdown",
   "id": "load-posters",
   "metadata": {},
   "source": "There are no duplicate entries in the dataset."
  },
  {
   "metadata": {},
   "cell_type": "markdown",
   "source": [
    "## Posters Dataframe\n",
    "This dataset contains over 940,000 entries with the columns 'id', representing the film ID, and 'link', providing the link to the original film posters."
   ],
   "id": "33803b41aacf412a"
  },
  {
   "cell_type": "code",
   "execution_count": 35,
   "id": "b235c52c3db2efb7",
   "metadata": {
    "ExecuteTime": {
     "end_time": "2025-01-12T16:40:29.778837Z",
     "start_time": "2025-01-12T16:40:29.773774Z"
    }
   },
   "outputs": [
    {
     "data": {
      "text/plain": [
       "(941597, 2)"
      ]
     },
     "execution_count": 35,
     "metadata": {},
     "output_type": "execute_result"
    }
   ],
   "source": "posters_df = pd.read_csv('../csv/posters.csv')"
  },
  {
   "metadata": {},
   "cell_type": "code",
   "outputs": [],
   "execution_count": null,
   "source": "posters_df.shape",
   "id": "74ceebcf4abdaa46"
  },
  {
   "metadata": {},
   "cell_type": "markdown",
   "source": "This dataset consists of 941,597 rows and 2 columns, providing links to the original film posters associated with each film.",
   "id": "db21462d6711144e"
  },
  {
   "cell_type": "code",
   "execution_count": 37,
   "id": "80aff1225337a330",
   "metadata": {
    "ExecuteTime": {
     "end_time": "2025-01-12T16:42:28.429283Z",
     "start_time": "2025-01-12T16:42:28.421893Z"
    }
   },
   "outputs": [
    {
     "data": {
      "text/plain": [
       "id       int64\n",
       "link    object\n",
       "dtype: object"
      ]
     },
     "execution_count": 37,
     "metadata": {},
     "output_type": "execute_result"
    }
   ],
   "source": "posters_df.head()"
  },
  {
   "cell_type": "code",
   "execution_count": 38,
   "id": "e9999cc75400b654",
   "metadata": {
    "ExecuteTime": {
     "end_time": "2025-01-12T16:42:49.972351Z",
     "start_time": "2025-01-12T16:42:49.875526Z"
    }
   },
   "outputs": [
    {
     "data": {
      "text/plain": [
       "id           0\n",
       "link    180712\n",
       "dtype: int64"
      ]
     },
     "execution_count": 38,
     "metadata": {},
     "output_type": "execute_result"
    }
   ],
   "source": "posters_df.dtypes"
  },
  {
   "cell_type": "code",
   "execution_count": 39,
   "id": "b3dc8da850259e7a",
   "metadata": {
    "ExecuteTime": {
     "end_time": "2025-01-12T16:47:13.995893Z",
     "start_time": "2025-01-12T16:47:13.569565Z"
    }
   },
   "outputs": [
    {
     "data": {
      "text/plain": [
       "0"
      ]
     },
     "execution_count": 39,
     "metadata": {},
     "output_type": "execute_result"
    }
   ],
   "source": "posters_df.isna().sum()"
  },
  {
   "metadata": {},
   "cell_type": "code",
   "outputs": [],
   "execution_count": null,
   "source": "posters_df.duplicated().sum()",
   "id": "873a9b5697aa259c"
  },
  {
   "metadata": {},
   "cell_type": "markdown",
   "source": [
    "## Releases Dataframe\n",
    "This dataset contains over 13 million entries with the columns 'id', representing the film ID, 'country', indicating the country of release, 'date', showing the release date, 'type', specifying the release type (e.g., Theatrical, Digital), and 'rating', representing the rating received in that country (e.g., PG, etc.)."
   ],
   "id": "11fd40fae1677c07"
  },
  {
   "cell_type": "code",
   "execution_count": 41,
   "id": "71f8201f9768083b",
   "metadata": {
    "ExecuteTime": {
     "end_time": "2025-01-12T16:50:25.144227Z",
     "start_time": "2025-01-12T16:50:25.138755Z"
    }
   },
   "outputs": [
    {
     "data": {
      "text/plain": [
       "(1332782, 5)"
      ]
     },
     "execution_count": 41,
     "metadata": {},
     "output_type": "execute_result"
    }
   ],
   "source": "releases_df = pd.read_csv('../csv/releases.csv')"
  },
  {
   "metadata": {},
   "cell_type": "code",
   "outputs": [],
   "execution_count": null,
   "source": "releases_df.shape",
   "id": "ed46bafe00287cf8"
  },
  {
   "metadata": {},
   "cell_type": "markdown",
   "source": "This dataset consists of 1,332,782 rows and 5 columns, providing detailed information about the film releases, including the country, date, type, and rating in each country.",
   "id": "6e46e45b2d1dc1b4"
  },
  {
   "cell_type": "code",
   "execution_count": 43,
   "id": "2b1b61417479568c",
   "metadata": {
    "ExecuteTime": {
     "end_time": "2025-01-12T16:52:01.339640Z",
     "start_time": "2025-01-12T16:52:01.331450Z"
    }
   },
   "outputs": [
    {
     "data": {
      "text/plain": [
       "id          int64\n",
       "country    object\n",
       "date       object\n",
       "type       object\n",
       "rating     object\n",
       "dtype: object"
      ]
     },
     "execution_count": 43,
     "metadata": {},
     "output_type": "execute_result"
    }
   ],
   "source": "releases_df.head()"
  },
  {
   "metadata": {},
   "cell_type": "code",
   "outputs": [],
   "execution_count": null,
   "source": "releases_df.dtypes",
   "id": "45ed6212f368cc54"
  },
  {
   "metadata": {},
   "cell_type": "markdown",
   "source": "The date column is currently stored as an object, which is not suitable for representing release dates; We will convert it to a proper date format for accurate analysis.",
   "id": "72a78bfdd2e98012"
  },
  {
   "cell_type": "code",
   "execution_count": 45,
   "id": "2d9f0dbb1b94f433",
   "metadata": {
    "ExecuteTime": {
     "end_time": "2025-01-12T16:55:38.409660Z",
     "start_time": "2025-01-12T16:55:38.400374Z"
    }
   },
   "outputs": [
    {
     "data": {
      "text/plain": [
       "id                  int64\n",
       "country            object\n",
       "date       datetime64[ns]\n",
       "type               object\n",
       "rating             object\n",
       "dtype: object"
      ]
     },
     "execution_count": 45,
     "metadata": {},
     "output_type": "execute_result"
    }
   ],
   "source": [
    "releases_df['date'] = pd.to_datetime(releases_df['date'])\n",
    "releases_df.dtypes"
   ]
  },
  {
   "cell_type": "code",
   "execution_count": 46,
   "id": "25f827f57681b3e",
   "metadata": {
    "ExecuteTime": {
     "end_time": "2025-01-12T16:56:04.816472Z",
     "start_time": "2025-01-12T16:56:04.630172Z"
    }
   },
   "outputs": [
    {
     "data": {
      "text/plain": [
       "id              0\n",
       "country         0\n",
       "date            0\n",
       "type            0\n",
       "rating     998802\n",
       "dtype: int64"
      ]
     },
     "execution_count": 46,
     "metadata": {},
     "output_type": "execute_result"
    }
   ],
   "source": "releases_df.dtypes"
  },
  {
   "metadata": {},
   "cell_type": "code",
   "outputs": [],
   "execution_count": null,
   "source": "releases_df.isna().sum()",
   "id": "e9f36f68d8cb32cb"
  },
  {
   "metadata": {},
   "cell_type": "markdown",
   "source": "There are many null values in the 'rating' column, but no action will be taken as they will be left as is, since they may represent cases where a rating was not assigned in certain countries.",
   "id": "8ad0e6fa8b433b72"
  },
  {
   "metadata": {},
   "cell_type": "code",
   "outputs": [],
   "execution_count": null,
   "source": "releases_df.duplicated().sum()",
   "id": "a2989e4ebd596049"
  },
  {
   "metadata": {},
   "cell_type": "markdown",
   "source": [
    "## Oscar Awards Dataframe\n",
    "This dataset contains over 10,000 entries about Oscar candidates, with the columns 'year_film', representing the year the film was issued, 'year_ceremony', indicating the year of the ceremony, 'category', specifying the category (e.g., actor), 'name', showing the name of the person, 'film', listing the title of the film, and 'winner', indicating whether they won or not."
   ],
   "id": "2c95dba2d3505813"
  },
  {
   "cell_type": "code",
   "execution_count": 49,
   "id": "106695fa4d3637e3",
   "metadata": {
    "ExecuteTime": {
     "end_time": "2025-01-12T17:00:32.697522Z",
     "start_time": "2025-01-12T17:00:32.691005Z"
    }
   },
   "outputs": [
    {
     "data": {
      "text/plain": [
       "(10889, 7)"
      ]
     },
     "execution_count": 49,
     "metadata": {},
     "output_type": "execute_result"
    }
   ],
   "source": "oscar_awards_df = pd.read_csv('../csv/the_oscar_awards.csv')"
  },
  {
   "metadata": {},
   "cell_type": "code",
   "outputs": [],
   "execution_count": null,
   "source": "oscar_awards_df.shape",
   "id": "85c5f799281096f8"
  },
  {
   "metadata": {},
   "cell_type": "markdown",
   "source": "This dataset consists of 10,889 rows and 7 columns, providing detailed information about Oscar candidates, including the year of the film, ceremony, category, person, film title, and whether the candidate won.",
   "id": "a5f10c0dea496c80"
  },
  {
   "cell_type": "code",
   "execution_count": 51,
   "id": "2871aea2c6245762",
   "metadata": {
    "ExecuteTime": {
     "end_time": "2025-01-12T17:02:06.539618Z",
     "start_time": "2025-01-12T17:02:06.530933Z"
    }
   },
   "outputs": [
    {
     "data": {
      "text/plain": [
       "year_film         int64\n",
       "year_ceremony     int64\n",
       "ceremony          int64\n",
       "category         object\n",
       "name             object\n",
       "film             object\n",
       "winner             bool\n",
       "dtype: object"
      ]
     },
     "execution_count": 51,
     "metadata": {},
     "output_type": "execute_result"
    }
   ],
   "source": "oscar_awards_df.head()"
  },
  {
   "cell_type": "code",
   "execution_count": 52,
   "id": "3ff5ae0d20e2058b",
   "metadata": {
    "ExecuteTime": {
     "end_time": "2025-01-12T17:04:56.966363Z",
     "start_time": "2025-01-12T17:04:56.953673Z"
    }
   },
   "outputs": [
    {
     "data": {
      "text/plain": [
       "year_film          0\n",
       "year_ceremony      0\n",
       "ceremony           0\n",
       "category           0\n",
       "name               5\n",
       "film             319\n",
       "winner             0\n",
       "dtype: int64"
      ]
     },
     "execution_count": 52,
     "metadata": {},
     "output_type": "execute_result"
    }
   ],
   "source": "oscar_awards_df.dtypes"
  },
  {
   "cell_type": "code",
   "execution_count": 53,
   "id": "32610c9f6c0c5109",
   "metadata": {
    "ExecuteTime": {
     "end_time": "2025-01-12T17:06:01.470375Z",
     "start_time": "2025-01-12T17:06:01.453142Z"
    }
   },
   "outputs": [
    {
     "data": {
      "text/html": [
       "<div>\n",
       "<style scoped>\n",
       "    .dataframe tbody tr th:only-of-type {\n",
       "        vertical-align: middle;\n",
       "    }\n",
       "\n",
       "    .dataframe tbody tr th {\n",
       "        vertical-align: top;\n",
       "    }\n",
       "\n",
       "    .dataframe thead th {\n",
       "        text-align: right;\n",
       "    }\n",
       "</style>\n",
       "<table border=\"1\" class=\"dataframe\">\n",
       "  <thead>\n",
       "    <tr style=\"text-align: right;\">\n",
       "      <th></th>\n",
       "      <th>year_film</th>\n",
       "      <th>year_ceremony</th>\n",
       "      <th>ceremony</th>\n",
       "      <th>category</th>\n",
       "      <th>name</th>\n",
       "      <th>film</th>\n",
       "      <th>winner</th>\n",
       "    </tr>\n",
       "  </thead>\n",
       "  <tbody>\n",
       "    <tr>\n",
       "      <th>10513</th>\n",
       "      <td>2020</td>\n",
       "      <td>2021</td>\n",
       "      <td>93</td>\n",
       "      <td>JEAN HERSHOLT HUMANITARIAN AWARD</td>\n",
       "      <td>NaN</td>\n",
       "      <td>NaN</td>\n",
       "      <td>True</td>\n",
       "    </tr>\n",
       "    <tr>\n",
       "      <th>10514</th>\n",
       "      <td>2020</td>\n",
       "      <td>2021</td>\n",
       "      <td>93</td>\n",
       "      <td>JEAN HERSHOLT HUMANITARIAN AWARD</td>\n",
       "      <td>NaN</td>\n",
       "      <td>NaN</td>\n",
       "      <td>True</td>\n",
       "    </tr>\n",
       "    <tr>\n",
       "      <th>10635</th>\n",
       "      <td>2021</td>\n",
       "      <td>2022</td>\n",
       "      <td>94</td>\n",
       "      <td>JEAN HERSHOLT HUMANITARIAN AWARD</td>\n",
       "      <td>NaN</td>\n",
       "      <td>NaN</td>\n",
       "      <td>True</td>\n",
       "    </tr>\n",
       "    <tr>\n",
       "      <th>10759</th>\n",
       "      <td>2022</td>\n",
       "      <td>2023</td>\n",
       "      <td>95</td>\n",
       "      <td>JEAN HERSHOLT HUMANITARIAN AWARD</td>\n",
       "      <td>NaN</td>\n",
       "      <td>NaN</td>\n",
       "      <td>True</td>\n",
       "    </tr>\n",
       "    <tr>\n",
       "      <th>10885</th>\n",
       "      <td>2023</td>\n",
       "      <td>2024</td>\n",
       "      <td>96</td>\n",
       "      <td>JEAN HERSHOLT HUMANITARIAN AWARD</td>\n",
       "      <td>NaN</td>\n",
       "      <td>NaN</td>\n",
       "      <td>True</td>\n",
       "    </tr>\n",
       "  </tbody>\n",
       "</table>\n",
       "</div>"
      ],
      "text/plain": [
       "       year_film  year_ceremony  ceremony                          category  \\\n",
       "10513       2020           2021        93  JEAN HERSHOLT HUMANITARIAN AWARD   \n",
       "10514       2020           2021        93  JEAN HERSHOLT HUMANITARIAN AWARD   \n",
       "10635       2021           2022        94  JEAN HERSHOLT HUMANITARIAN AWARD   \n",
       "10759       2022           2023        95  JEAN HERSHOLT HUMANITARIAN AWARD   \n",
       "10885       2023           2024        96  JEAN HERSHOLT HUMANITARIAN AWARD   \n",
       "\n",
       "      name film  winner  \n",
       "10513  NaN  NaN    True  \n",
       "10514  NaN  NaN    True  \n",
       "10635  NaN  NaN    True  \n",
       "10759  NaN  NaN    True  \n",
       "10885  NaN  NaN    True  "
      ]
     },
     "execution_count": 53,
     "metadata": {},
     "output_type": "execute_result"
    }
   ],
   "source": "oscar_awards_df.isna().sum()"
  },
  {
   "cell_type": "code",
   "execution_count": 54,
   "id": "9066b6bcc203917b",
   "metadata": {
    "ExecuteTime": {
     "end_time": "2025-01-12T17:08:21.250524Z",
     "start_time": "2025-01-12T17:08:21.238427Z"
    }
   },
   "outputs": [
    {
     "data": {
      "text/html": [
       "<div>\n",
       "<style scoped>\n",
       "    .dataframe tbody tr th:only-of-type {\n",
       "        vertical-align: middle;\n",
       "    }\n",
       "\n",
       "    .dataframe tbody tr th {\n",
       "        vertical-align: top;\n",
       "    }\n",
       "\n",
       "    .dataframe thead th {\n",
       "        text-align: right;\n",
       "    }\n",
       "</style>\n",
       "<table border=\"1\" class=\"dataframe\">\n",
       "  <thead>\n",
       "    <tr style=\"text-align: right;\">\n",
       "      <th></th>\n",
       "      <th>year_film</th>\n",
       "      <th>year_ceremony</th>\n",
       "      <th>ceremony</th>\n",
       "      <th>category</th>\n",
       "      <th>name</th>\n",
       "      <th>film</th>\n",
       "      <th>winner</th>\n",
       "    </tr>\n",
       "  </thead>\n",
       "  <tbody>\n",
       "    <tr>\n",
       "      <th>16</th>\n",
       "      <td>1927</td>\n",
       "      <td>1928</td>\n",
       "      <td>1</td>\n",
       "      <td>ENGINEERING EFFECTS</td>\n",
       "      <td>Ralph Hammeras</td>\n",
       "      <td>NaN</td>\n",
       "      <td>False</td>\n",
       "    </tr>\n",
       "    <tr>\n",
       "      <th>18</th>\n",
       "      <td>1927</td>\n",
       "      <td>1928</td>\n",
       "      <td>1</td>\n",
       "      <td>ENGINEERING EFFECTS</td>\n",
       "      <td>Nugent Slaughter</td>\n",
       "      <td>NaN</td>\n",
       "      <td>False</td>\n",
       "    </tr>\n",
       "    <tr>\n",
       "      <th>31</th>\n",
       "      <td>1927</td>\n",
       "      <td>1928</td>\n",
       "      <td>1</td>\n",
       "      <td>WRITING (Title Writing)</td>\n",
       "      <td>Joseph Farnham</td>\n",
       "      <td>NaN</td>\n",
       "      <td>True</td>\n",
       "    </tr>\n",
       "    <tr>\n",
       "      <th>32</th>\n",
       "      <td>1927</td>\n",
       "      <td>1928</td>\n",
       "      <td>1</td>\n",
       "      <td>WRITING (Title Writing)</td>\n",
       "      <td>George Marion, Jr.</td>\n",
       "      <td>NaN</td>\n",
       "      <td>False</td>\n",
       "    </tr>\n",
       "    <tr>\n",
       "      <th>33</th>\n",
       "      <td>1927</td>\n",
       "      <td>1928</td>\n",
       "      <td>1</td>\n",
       "      <td>SPECIAL AWARD</td>\n",
       "      <td>Warner Bros.</td>\n",
       "      <td>NaN</td>\n",
       "      <td>True</td>\n",
       "    </tr>\n",
       "    <tr>\n",
       "      <th>...</th>\n",
       "      <td>...</td>\n",
       "      <td>...</td>\n",
       "      <td>...</td>\n",
       "      <td>...</td>\n",
       "      <td>...</td>\n",
       "      <td>...</td>\n",
       "      <td>...</td>\n",
       "    </tr>\n",
       "    <tr>\n",
       "      <th>10763</th>\n",
       "      <td>2022</td>\n",
       "      <td>2023</td>\n",
       "      <td>95</td>\n",
       "      <td>GORDON E. SAWYER AWARD</td>\n",
       "      <td>Iain Neil</td>\n",
       "      <td>NaN</td>\n",
       "      <td>True</td>\n",
       "    </tr>\n",
       "    <tr>\n",
       "      <th>10885</th>\n",
       "      <td>2023</td>\n",
       "      <td>2024</td>\n",
       "      <td>96</td>\n",
       "      <td>JEAN HERSHOLT HUMANITARIAN AWARD</td>\n",
       "      <td>NaN</td>\n",
       "      <td>NaN</td>\n",
       "      <td>True</td>\n",
       "    </tr>\n",
       "    <tr>\n",
       "      <th>10886</th>\n",
       "      <td>2023</td>\n",
       "      <td>2024</td>\n",
       "      <td>96</td>\n",
       "      <td>HONORARY AWARD</td>\n",
       "      <td>To Angela Bassett, who has inspired audiences ...</td>\n",
       "      <td>NaN</td>\n",
       "      <td>True</td>\n",
       "    </tr>\n",
       "    <tr>\n",
       "      <th>10887</th>\n",
       "      <td>2023</td>\n",
       "      <td>2024</td>\n",
       "      <td>96</td>\n",
       "      <td>HONORARY AWARD</td>\n",
       "      <td>To Mel Brooks, for his comedic brilliance, pro...</td>\n",
       "      <td>NaN</td>\n",
       "      <td>True</td>\n",
       "    </tr>\n",
       "    <tr>\n",
       "      <th>10888</th>\n",
       "      <td>2023</td>\n",
       "      <td>2024</td>\n",
       "      <td>96</td>\n",
       "      <td>HONORARY AWARD</td>\n",
       "      <td>To Carol Littleton, whose commitment to her cr...</td>\n",
       "      <td>NaN</td>\n",
       "      <td>True</td>\n",
       "    </tr>\n",
       "  </tbody>\n",
       "</table>\n",
       "<p>319 rows × 7 columns</p>\n",
       "</div>"
      ],
      "text/plain": [
       "       year_film  year_ceremony  ceremony                          category  \\\n",
       "16          1927           1928         1               ENGINEERING EFFECTS   \n",
       "18          1927           1928         1               ENGINEERING EFFECTS   \n",
       "31          1927           1928         1           WRITING (Title Writing)   \n",
       "32          1927           1928         1           WRITING (Title Writing)   \n",
       "33          1927           1928         1                     SPECIAL AWARD   \n",
       "...          ...            ...       ...                               ...   \n",
       "10763       2022           2023        95            GORDON E. SAWYER AWARD   \n",
       "10885       2023           2024        96  JEAN HERSHOLT HUMANITARIAN AWARD   \n",
       "10886       2023           2024        96                    HONORARY AWARD   \n",
       "10887       2023           2024        96                    HONORARY AWARD   \n",
       "10888       2023           2024        96                    HONORARY AWARD   \n",
       "\n",
       "                                                    name film  winner  \n",
       "16                                        Ralph Hammeras  NaN   False  \n",
       "18                                      Nugent Slaughter  NaN   False  \n",
       "31                                        Joseph Farnham  NaN    True  \n",
       "32                                    George Marion, Jr.  NaN   False  \n",
       "33                                          Warner Bros.  NaN    True  \n",
       "...                                                  ...  ...     ...  \n",
       "10763                                          Iain Neil  NaN    True  \n",
       "10885                                                NaN  NaN    True  \n",
       "10886  To Angela Bassett, who has inspired audiences ...  NaN    True  \n",
       "10887  To Mel Brooks, for his comedic brilliance, pro...  NaN    True  \n",
       "10888  To Carol Littleton, whose commitment to her cr...  NaN    True  \n",
       "\n",
       "[319 rows x 7 columns]"
      ]
     },
     "execution_count": 54,
     "metadata": {},
     "output_type": "execute_result"
    }
   ],
   "source": "oscar_awards_df[oscar_awards_df['name'].isnull()]"
  },
  {
   "metadata": {},
   "cell_type": "code",
   "outputs": [],
   "execution_count": null,
   "source": "oscar_awards_df[oscar_awards_df['film'].isnull()]",
   "id": "dd31c14f0ec589de"
  },
  {
   "metadata": {},
   "cell_type": "markdown",
   "source": [
    "## Rotten Tomatoes Reviews Dataframe\n",
    "This dataset contains over 1.1 million reviews from Rotten Tomatoes, with the columns 'rotten_tomatoes_link', providing the URL of the Rotten Tomatoes page, 'movie_title', indicating the title of the movie, 'critic_name', showing the name of the critic, 'top_critic', indicating if the critic is a top critic, 'publisher_name', specifying where the review was published, 'review_type', categorizing the type of review, 'review_score', representing the score given in the review, 'review_date', showing the date of the review, and 'review_content', containing the text of the actual review."
   ],
   "id": "470e2709205ec59"
  },
  {
   "cell_type": "code",
   "execution_count": 56,
   "id": "54a4e614e1a53c8e",
   "metadata": {
    "ExecuteTime": {
     "end_time": "2025-01-12T17:18:21.777608Z",
     "start_time": "2025-01-12T17:18:21.770933Z"
    }
   },
   "outputs": [
    {
     "data": {
      "text/plain": [
       "(1129887, 9)"
      ]
     },
     "execution_count": 56,
     "metadata": {},
     "output_type": "execute_result"
    }
   ],
   "source": "rotten_tomatoes_df = pd.read_csv('../csv/rotten_tomatoes_reviews.csv')"
  },
  {
   "metadata": {},
   "cell_type": "code",
   "outputs": [],
   "execution_count": null,
   "source": "rotten_tomatoes_df.shape",
   "id": "c6c5049017b5fcbd"
  },
  {
   "metadata": {},
   "cell_type": "markdown",
   "source": "This dataset consists of 1,129,887 rows and 9 columns, providing detailed information about Rotten Tomatoes reviews, including the review URL, movie title, critic details, review score, date, and content.",
   "id": "8863c8fa69a7a06f"
  },
  {
   "cell_type": "code",
   "execution_count": 58,
   "id": "23fbb98358d3f4c4",
   "metadata": {
    "ExecuteTime": {
     "end_time": "2025-01-12T17:19:58.609717Z",
     "start_time": "2025-01-12T17:19:58.602243Z"
    }
   },
   "outputs": [
    {
     "data": {
      "text/plain": [
       "rotten_tomatoes_link    object\n",
       "movie_title             object\n",
       "critic_name             object\n",
       "top_critic                bool\n",
       "publisher_name          object\n",
       "review_type             object\n",
       "review_score            object\n",
       "review_date             object\n",
       "review_content          object\n",
       "dtype: object"
      ]
     },
     "execution_count": 58,
     "metadata": {},
     "output_type": "execute_result"
    }
   ],
   "source": "rotten_tomatoes_df.head()"
  },
  {
   "metadata": {},
   "cell_type": "code",
   "outputs": [],
   "execution_count": null,
   "source": "rotten_tomatoes_df.dtypes",
   "id": "12d8ac2e55d834bc"
  },
  {
   "metadata": {},
   "cell_type": "markdown",
   "source": "The review_date column is currently stored as an object, which is not suitable for representing review dates; We will convert it to a proper date format for accurate analysis.",
   "id": "9ccd15e5090a5a11"
  },
  {
   "cell_type": "code",
   "execution_count": 60,
   "id": "dd596b85264d5031",
   "metadata": {
    "ExecuteTime": {
     "end_time": "2025-01-12T17:23:59.918370Z",
     "start_time": "2025-01-12T17:23:59.539182Z"
    }
   },
   "outputs": [
    {
     "data": {
      "text/plain": [
       "rotten_tomatoes_link         0\n",
       "movie_title                  0\n",
       "critic_name              18521\n",
       "top_critic                   0\n",
       "publisher_name               0\n",
       "review_type                  0\n",
       "review_score            305902\n",
       "review_date                  0\n",
       "review_content           65778\n",
       "dtype: int64"
      ]
     },
     "execution_count": 60,
     "metadata": {},
     "output_type": "execute_result"
    }
   ],
   "source": [
    "rotten_tomatoes_df['review_date'] = pd.to_datetime(rotten_tomatoes_df['review_date'])\n",
    "rotten_tomatoes_df.dtypes"
   ]
  },
  {
   "cell_type": "code",
   "execution_count": 61,
   "id": "828b8f85e8a5b018",
   "metadata": {
    "ExecuteTime": {
     "end_time": "2025-01-12T17:36:09.055488Z",
     "start_time": "2025-01-12T17:36:08.882327Z"
    }
   },
   "outputs": [
    {
     "data": {
      "text/html": [
       "<div>\n",
       "<style scoped>\n",
       "    .dataframe tbody tr th:only-of-type {\n",
       "        vertical-align: middle;\n",
       "    }\n",
       "\n",
       "    .dataframe tbody tr th {\n",
       "        vertical-align: top;\n",
       "    }\n",
       "\n",
       "    .dataframe thead th {\n",
       "        text-align: right;\n",
       "    }\n",
       "</style>\n",
       "<table border=\"1\" class=\"dataframe\">\n",
       "  <thead>\n",
       "    <tr style=\"text-align: right;\">\n",
       "      <th></th>\n",
       "      <th>rotten_tomatoes_link</th>\n",
       "      <th>movie_title</th>\n",
       "      <th>critic_name</th>\n",
       "      <th>top_critic</th>\n",
       "      <th>publisher_name</th>\n",
       "      <th>review_type</th>\n",
       "      <th>review_score</th>\n",
       "      <th>review_date</th>\n",
       "      <th>review_content</th>\n",
       "    </tr>\n",
       "  </thead>\n",
       "  <tbody>\n",
       "    <tr>\n",
       "      <th>118910</th>\n",
       "      <td>m/alice_sweet_alice</td>\n",
       "      <td>Alice, Sweet Alice (Communion)</td>\n",
       "      <td>NaN</td>\n",
       "      <td>False</td>\n",
       "      <td>Film4</td>\n",
       "      <td>Rotten</td>\n",
       "      <td>NaN</td>\n",
       "      <td>2003-05-24</td>\n",
       "      <td>NaN</td>\n",
       "    </tr>\n",
       "    <tr>\n",
       "      <th>219988</th>\n",
       "      <td>m/callas_forever</td>\n",
       "      <td>Callas Forever</td>\n",
       "      <td>NaN</td>\n",
       "      <td>True</td>\n",
       "      <td>Denver Rocky Mountain News</td>\n",
       "      <td>Rotten</td>\n",
       "      <td>NaN</td>\n",
       "      <td>2004-12-17</td>\n",
       "      <td>NaN</td>\n",
       "    </tr>\n",
       "    <tr>\n",
       "      <th>323790</th>\n",
       "      <td>m/escape_to_witch_mountain</td>\n",
       "      <td>Escape to Witch Mountain</td>\n",
       "      <td>NaN</td>\n",
       "      <td>True</td>\n",
       "      <td>Chicago Reader</td>\n",
       "      <td>Fresh</td>\n",
       "      <td>NaN</td>\n",
       "      <td>2000-01-01</td>\n",
       "      <td>NaN</td>\n",
       "    </tr>\n",
       "    <tr>\n",
       "      <th>349208</th>\n",
       "      <td>m/flawless</td>\n",
       "      <td>Flawless</td>\n",
       "      <td>NaN</td>\n",
       "      <td>False</td>\n",
       "      <td>E! Online</td>\n",
       "      <td>Rotten</td>\n",
       "      <td>NaN</td>\n",
       "      <td>2000-01-01</td>\n",
       "      <td>NaN</td>\n",
       "    </tr>\n",
       "    <tr>\n",
       "      <th>493769</th>\n",
       "      <td>m/kings_ransom</td>\n",
       "      <td>King's Ransom</td>\n",
       "      <td>NaN</td>\n",
       "      <td>False</td>\n",
       "      <td>Hollywood.com</td>\n",
       "      <td>Fresh</td>\n",
       "      <td>NaN</td>\n",
       "      <td>2005-04-23</td>\n",
       "      <td>NaN</td>\n",
       "    </tr>\n",
       "    <tr>\n",
       "      <th>619413</th>\n",
       "      <td>m/nurse_betty</td>\n",
       "      <td>Nurse Betty</td>\n",
       "      <td>NaN</td>\n",
       "      <td>True</td>\n",
       "      <td>Atlanta Journal-Constitution</td>\n",
       "      <td>Fresh</td>\n",
       "      <td>NaN</td>\n",
       "      <td>2000-01-01</td>\n",
       "      <td>NaN</td>\n",
       "    </tr>\n",
       "    <tr>\n",
       "      <th>751877</th>\n",
       "      <td>m/saddest_music_in_the_world</td>\n",
       "      <td>The Saddest Music in the World</td>\n",
       "      <td>NaN</td>\n",
       "      <td>False</td>\n",
       "      <td>Premiere Magazine</td>\n",
       "      <td>Rotten</td>\n",
       "      <td>NaN</td>\n",
       "      <td>2004-07-03</td>\n",
       "      <td>NaN</td>\n",
       "    </tr>\n",
       "    <tr>\n",
       "      <th>751879</th>\n",
       "      <td>m/saddest_music_in_the_world</td>\n",
       "      <td>The Saddest Music in the World</td>\n",
       "      <td>NaN</td>\n",
       "      <td>False</td>\n",
       "      <td>Premiere Magazine</td>\n",
       "      <td>Rotten</td>\n",
       "      <td>NaN</td>\n",
       "      <td>2004-07-03</td>\n",
       "      <td>NaN</td>\n",
       "    </tr>\n",
       "  </tbody>\n",
       "</table>\n",
       "</div>"
      ],
      "text/plain": [
       "                rotten_tomatoes_link                     movie_title  \\\n",
       "118910           m/alice_sweet_alice  Alice, Sweet Alice (Communion)   \n",
       "219988              m/callas_forever                  Callas Forever   \n",
       "323790    m/escape_to_witch_mountain        Escape to Witch Mountain   \n",
       "349208                    m/flawless                        Flawless   \n",
       "493769                m/kings_ransom                   King's Ransom   \n",
       "619413                 m/nurse_betty                     Nurse Betty   \n",
       "751877  m/saddest_music_in_the_world  The Saddest Music in the World   \n",
       "751879  m/saddest_music_in_the_world  The Saddest Music in the World   \n",
       "\n",
       "       critic_name  top_critic                publisher_name review_type  \\\n",
       "118910         NaN       False                         Film4      Rotten   \n",
       "219988         NaN        True    Denver Rocky Mountain News      Rotten   \n",
       "323790         NaN        True                Chicago Reader       Fresh   \n",
       "349208         NaN       False                     E! Online      Rotten   \n",
       "493769         NaN       False                 Hollywood.com       Fresh   \n",
       "619413         NaN        True  Atlanta Journal-Constitution       Fresh   \n",
       "751877         NaN       False             Premiere Magazine      Rotten   \n",
       "751879         NaN       False             Premiere Magazine      Rotten   \n",
       "\n",
       "       review_score review_date review_content  \n",
       "118910          NaN  2003-05-24            NaN  \n",
       "219988          NaN  2004-12-17            NaN  \n",
       "323790          NaN  2000-01-01            NaN  \n",
       "349208          NaN  2000-01-01            NaN  \n",
       "493769          NaN  2005-04-23            NaN  \n",
       "619413          NaN  2000-01-01            NaN  \n",
       "751877          NaN  2004-07-03            NaN  \n",
       "751879          NaN  2004-07-03            NaN  "
      ]
     },
     "execution_count": 61,
     "metadata": {},
     "output_type": "execute_result"
    }
   ],
   "source": "rotten_tomatoes_df.isna().sum()"
  },
  {
   "metadata": {},
   "cell_type": "code",
   "outputs": [],
   "execution_count": null,
   "source": [
    "rotten_tomatoes_df[rotten_tomatoes_df['review_score'].isnull() &\n",
    "                           rotten_tomatoes_df['review_content'].isnull() &\n",
    "                           rotten_tomatoes_df['critic_name'].isnull()]"
   ],
   "id": "396f612be2693659"
  }
 ],
 "metadata": {
  "kernelspec": {
   "display_name": "Python 3",
   "language": "python",
   "name": "python3"
  },
  "language_info": {
   "codemirror_mode": {
    "name": "ipython",
    "version": 3
   },
   "file_extension": ".py",
   "mimetype": "text/x-python",
   "name": "python",
   "nbconvert_exporter": "python",
   "pygments_lexer": "ipython3",
   "version": "3.12.2"
  }
 },
 "nbformat": 4,
 "nbformat_minor": 5
}
